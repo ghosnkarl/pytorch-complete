{
 "cells": [
  {
   "cell_type": "markdown",
   "id": "78a3a427",
   "metadata": {},
   "source": [
    "# 07. Gradient and Autograd Deep Dive\n",
    "\n",
    "Understanding how PyTorch computes gradients automatically is crucial for deep learning success. This notebook will take you deep into PyTorch's autograd system and help you understand:\n",
    "\n",
    "- How automatic differentiation works\n",
    "- The computational graph concept\n",
    "- Forward and backward propagation in detail\n",
    "- Gradient accumulation and manipulation\n",
    "- Common autograd pitfalls and solutions\n",
    "- Custom gradient functions\n",
    "\n",
    "**Why is this important?**\n",
    "\n",
    "Understanding autograd helps you:\n",
    "\n",
    "- Debug gradient-related issues effectively\n",
    "- Optimize training performance\n",
    "- Implement custom training procedures\n",
    "- Understand what happens \"under the hood\" in PyTorch\n"
   ]
  },
  {
   "cell_type": "markdown",
   "id": "d5e8767e",
   "metadata": {},
   "source": [
    "## What is Automatic Differentiation?\n",
    "\n",
    "Automatic differentiation (autodiff) is a technique for computing derivatives of functions defined by computer programs. Unlike symbolic or numerical differentiation, autodiff can compute exact derivatives efficiently.\n",
    "\n",
    "### Types of Autodiff:\n",
    "\n",
    "1. **Forward Mode**: Computes derivatives along with the forward pass\n",
    "2. **Reverse Mode**: Computes derivatives in a backward pass (used by PyTorch)\n",
    "\n",
    "### Why Reverse Mode for Deep Learning?\n",
    "\n",
    "Reverse mode autodiff is particularly efficient for functions with many inputs and few outputs (like neural networks with many parameters and one loss output).\n"
   ]
  },
  {
   "cell_type": "code",
   "execution_count": 1,
   "id": "837f452f",
   "metadata": {},
   "outputs": [
    {
     "name": "stdout",
     "output_type": "stream",
     "text": [
      "PyTorch version: 2.7.1\n",
      "Device: cpu\n"
     ]
    }
   ],
   "source": [
    "# Import necessary libraries\n",
    "import torch\n",
    "import torch.nn as nn\n",
    "import matplotlib.pyplot as plt\n",
    "import numpy as np\n",
    "from torchviz import make_dot  # For visualizing computational graphs\n",
    "import warnings\n",
    "\n",
    "warnings.filterwarnings(\"ignore\")\n",
    "\n",
    "# Set random seed for reproducibility\n",
    "torch.manual_seed(42)\n",
    "\n",
    "print(f\"PyTorch version: {torch.__version__}\")\n",
    "print(f\"Device: {'cuda' if torch.cuda.is_available() else 'cpu'}\")"
   ]
  },
  {
   "cell_type": "markdown",
   "id": "74a9ff92",
   "metadata": {},
   "source": [
    "## The Computational Graph\n",
    "\n",
    "PyTorch builds a computational graph dynamically as you perform operations. Each tensor operation creates a node in this graph.\n"
   ]
  },
  {
   "cell_type": "code",
   "execution_count": 2,
   "id": "e88ee93d",
   "metadata": {},
   "outputs": [
    {
     "name": "stdout",
     "output_type": "stream",
     "text": [
      "x = 2.0\n",
      "x.requires_grad: True\n",
      "y = 11.0\n",
      "y.grad_fn: <AddBackward0 object at 0x107afc370>\n",
      "\n",
      "Computational graph:\n",
      "x -> None\n",
      "y -> <AddBackward0 object at 0x107bf5a50>\n"
     ]
    }
   ],
   "source": [
    "# Simple example: y = x^2 + 3x + 1\n",
    "x = torch.tensor(2.0, requires_grad=True)\n",
    "print(f\"x = {x}\")\n",
    "print(f\"x.requires_grad: {x.requires_grad}\")\n",
    "\n",
    "# Perform operations\n",
    "y = x**2 + 3 * x + 1\n",
    "print(f\"y = {y}\")\n",
    "print(f\"y.grad_fn: {y.grad_fn}\")\n",
    "\n",
    "# The computational graph is built!\n",
    "# Let's visualize it\n",
    "print(f\"\\nComputational graph:\")\n",
    "print(f\"x -> {x.grad_fn}\")\n",
    "print(f\"y -> {y.grad_fn}\")"
   ]
  },
  {
   "cell_type": "markdown",
   "id": "a313da6b",
   "metadata": {},
   "source": [
    "## Computing Gradients with .backward()\n",
    "\n",
    "The `.backward()` method computes gradients by traversing the computational graph in reverse.\n"
   ]
  },
  {
   "cell_type": "code",
   "execution_count": 3,
   "id": "95993ef9",
   "metadata": {},
   "outputs": [
    {
     "name": "stdout",
     "output_type": "stream",
     "text": [
      "dy/dx = 7.0\n",
      "Manual calculation: 7.0\n",
      "PyTorch autograd: 7.0\n"
     ]
    }
   ],
   "source": [
    "# Compute gradients\n",
    "y.backward()\n",
    "\n",
    "print(f\"dy/dx = {x.grad}\")\n",
    "\n",
    "# Let's verify this manually\n",
    "# y = x^2 + 3x + 1\n",
    "# dy/dx = 2x + 3\n",
    "# At x = 2: dy/dx = 2(2) + 3 = 7\n",
    "manual_gradient = 2 * x.data + 3\n",
    "print(f\"Manual calculation: {manual_gradient}\")\n",
    "print(f\"PyTorch autograd: {x.grad}\")"
   ]
  },
  {
   "cell_type": "markdown",
   "id": "5ca98cfe",
   "metadata": {},
   "source": [
    "## Gradient Accumulation\n",
    "\n",
    "By default, gradients accumulate in the `.grad` attribute. This is useful for techniques like gradient accumulation for large batch sizes.\n"
   ]
  },
  {
   "cell_type": "code",
   "execution_count": 4,
   "id": "d2f73c3d",
   "metadata": {},
   "outputs": [
    {
     "name": "stdout",
     "output_type": "stream",
     "text": [
      "Iteration 1: x.grad = 4.0\n",
      "Iteration 2: x.grad = 9.0\n",
      "Iteration 3: x.grad = 15.0\n",
      "After reset: x.grad = None\n"
     ]
    }
   ],
   "source": [
    "# Reset gradients\n",
    "x.grad = None\n",
    "\n",
    "# Compute gradients multiple times\n",
    "for i in range(3):\n",
    "    y = x**2 + i * x\n",
    "    y.backward()\n",
    "    print(f\"Iteration {i+1}: x.grad = {x.grad}\")\n",
    "\n",
    "# Gradients are accumulated!\n",
    "# To clear gradients, use zero_grad() or set to None\n",
    "x.grad = None\n",
    "print(f\"After reset: x.grad = {x.grad}\")"
   ]
  },
  {
   "cell_type": "markdown",
   "id": "f0242856",
   "metadata": {},
   "source": [
    "## Working with Tensors and Gradients\n",
    "\n",
    "Let's explore how gradients work with multi-dimensional tensors and multiple variables.\n"
   ]
  },
  {
   "cell_type": "code",
   "execution_count": 5,
   "id": "2cf347a2",
   "metadata": {},
   "outputs": [
    {
     "name": "stdout",
     "output_type": "stream",
     "text": [
      "z = 46.0\n",
      "dz/dx = tensor([ 6.,  9., 12.])\n",
      "dz/dy = tensor([1., 2., 3.])\n",
      "Manual dz/dx: tensor([ 6.,  9., 12.])\n"
     ]
    }
   ],
   "source": [
    "# Multiple variables\n",
    "x = torch.tensor([1.0, 2.0, 3.0], requires_grad=True)\n",
    "y = torch.tensor([4.0, 5.0, 6.0], requires_grad=True)\n",
    "\n",
    "# Compute a scalar loss\n",
    "z = torch.sum(x * y + x**2)\n",
    "print(f\"z = {z}\")\n",
    "\n",
    "# Compute gradients\n",
    "z.backward()\n",
    "\n",
    "print(f\"dz/dx = {x.grad}\")\n",
    "print(f\"dz/dy = {y.grad}\")\n",
    "\n",
    "# Manual verification:\n",
    "# z = sum(x*y + x^2) = sum([1*4 + 1^2, 2*5 + 2^2, 3*6 + 3^2])\n",
    "# z = sum([5, 14, 27]) = 46\n",
    "# dz/dx = [y[0] + 2*x[0], y[1] + 2*x[1], y[2] + 2*x[2]]\n",
    "# dz/dx = [4 + 2*1, 5 + 2*2, 6 + 2*3] = [6, 9, 12]\n",
    "print(f\"Manual dz/dx: {y.data + 2*x.data}\")"
   ]
  },
  {
   "cell_type": "markdown",
   "id": "aa6a5a44",
   "metadata": {},
   "source": [
    "## Understanding requires_grad\n",
    "\n",
    "The `requires_grad` parameter controls whether PyTorch should track operations for gradient computation.\n"
   ]
  },
  {
   "cell_type": "code",
   "execution_count": 6,
   "id": "d8914f1a",
   "metadata": {},
   "outputs": [
    {
     "name": "stdout",
     "output_type": "stream",
     "text": [
      "a.requires_grad: True\n",
      "b.requires_grad: False\n",
      "c.requires_grad: False\n",
      "(a * b).requires_grad: True\n",
      "(b * c).requires_grad: False\n"
     ]
    }
   ],
   "source": [
    "# Tensors with and without gradient tracking\n",
    "a = torch.tensor(2.0, requires_grad=True)\n",
    "b = torch.tensor(3.0, requires_grad=False)\n",
    "c = torch.tensor(4.0)  # requires_grad=False by default\n",
    "\n",
    "print(f\"a.requires_grad: {a.requires_grad}\")\n",
    "print(f\"b.requires_grad: {b.requires_grad}\")\n",
    "print(f\"c.requires_grad: {c.requires_grad}\")\n",
    "\n",
    "# Operations inherit gradient requirements\n",
    "result1 = a * b  # Result requires grad because a does\n",
    "result2 = b * c  # Result doesn't require grad because neither b nor c do\n",
    "\n",
    "print(f\"(a * b).requires_grad: {result1.requires_grad}\")\n",
    "print(f\"(b * c).requires_grad: {result2.requires_grad}\")"
   ]
  },
  {
   "cell_type": "markdown",
   "id": "e64f6eed",
   "metadata": {},
   "source": [
    "## Detaching from the Computational Graph\n",
    "\n",
    "Sometimes you want to stop gradient computation for certain operations.\n"
   ]
  },
  {
   "cell_type": "code",
   "execution_count": 7,
   "id": "c4d976b8",
   "metadata": {},
   "outputs": [
    {
     "name": "stdout",
     "output_type": "stream",
     "text": [
      "y1.requires_grad: True\n",
      "y2.requires_grad: False\n",
      "y3.requires_grad: False\n",
      "x.data_ptr() == x.detach().data_ptr(): True\n"
     ]
    }
   ],
   "source": [
    "x = torch.tensor(2.0, requires_grad=True)\n",
    "\n",
    "# Normal computation\n",
    "y1 = x**2\n",
    "print(f\"y1.requires_grad: {y1.requires_grad}\")\n",
    "\n",
    "# Detached computation\n",
    "y2 = x.detach() ** 2\n",
    "print(f\"y2.requires_grad: {y2.requires_grad}\")\n",
    "\n",
    "# Using torch.inference_mode() (preferred over torch.no_grad())\n",
    "with torch.inference_mode():\n",
    "    y3 = x**2\n",
    "    print(f\"y3.requires_grad: {y3.requires_grad}\")\n",
    "\n",
    "# The detached tensor shares storage but not gradient history\n",
    "print(f\"x.data_ptr() == x.detach().data_ptr(): {x.data_ptr() == x.detach().data_ptr()}\")"
   ]
  },
  {
   "cell_type": "markdown",
   "id": "9e7887c0",
   "metadata": {},
   "source": [
    "## Neural Network Example: Manual Implementation\n",
    "\n",
    "Let's implement a simple neural network manually to see autograd in action.\n"
   ]
  },
  {
   "cell_type": "code",
   "execution_count": 8,
   "id": "c27c1419",
   "metadata": {},
   "outputs": [
    {
     "name": "stdout",
     "output_type": "stream",
     "text": [
      "Epoch 0, Loss: 1.1897\n",
      "Epoch 20, Loss: 0.7134\n",
      "Epoch 40, Loss: 0.5733\n",
      "Epoch 60, Loss: 0.4824\n",
      "Epoch 80, Loss: 0.4119\n"
     ]
    },
    {
     "data": {
      "image/png": "[encoded data removed]",
      "text/plain": [
       "<Figure size 1000x600 with 1 Axes>"
      ]
     },
     "metadata": {},
     "output_type": "display_data"
    }
   ],
   "source": [
    "# Create a simple dataset\n",
    "torch.manual_seed(42)\n",
    "X = torch.randn(100, 2)  # 100 samples, 2 features\n",
    "y = (X[:, 0] + X[:, 1] > 0).float().unsqueeze(1)  # Simple classification\n",
    "\n",
    "# Manual neural network parameters\n",
    "W1 = torch.randn(2, 5, requires_grad=True)  # Input to hidden\n",
    "b1 = torch.zeros(5, requires_grad=True)  # Hidden bias\n",
    "W2 = torch.randn(5, 1, requires_grad=True)  # Hidden to output\n",
    "b2 = torch.zeros(1, requires_grad=True)  # Output bias\n",
    "\n",
    "\n",
    "def forward(X):\n",
    "    \"\"\"Forward pass through the network\"\"\"\n",
    "    h = torch.relu(X @ W1 + b1)  # Hidden layer\n",
    "    out = torch.sigmoid(h @ W2 + b2)  # Output layer\n",
    "    return out\n",
    "\n",
    "\n",
    "def compute_loss(predictions, targets):\n",
    "    \"\"\"Binary cross-entropy loss\"\"\"\n",
    "    return -torch.mean(\n",
    "        targets * torch.log(predictions + 1e-8)\n",
    "        + (1 - targets) * torch.log(1 - predictions + 1e-8)\n",
    "    )\n",
    "\n",
    "\n",
    "# Training loop\n",
    "learning_rate = 0.1\n",
    "losses = []\n",
    "\n",
    "for epoch in range(100):\n",
    "    # Forward pass\n",
    "    predictions = forward(X)\n",
    "    loss = compute_loss(predictions, y)\n",
    "\n",
    "    # Backward pass\n",
    "    loss.backward()\n",
    "\n",
    "    # Update parameters manually\n",
    "    with torch.inference_mode():\n",
    "        W1 -= learning_rate * W1.grad\n",
    "        b1 -= learning_rate * b1.grad\n",
    "        W2 -= learning_rate * W2.grad\n",
    "        b2 -= learning_rate * b2.grad\n",
    "\n",
    "    # Clear gradients\n",
    "    W1.grad = None\n",
    "    b1.grad = None\n",
    "    W2.grad = None\n",
    "    b2.grad = None\n",
    "\n",
    "    losses.append(loss.item())\n",
    "\n",
    "    if epoch % 20 == 0:\n",
    "        print(f\"Epoch {epoch}, Loss: {loss.item():.4f}\")\n",
    "\n",
    "# Plot the loss\n",
    "plt.figure(figsize=(10, 6))\n",
    "plt.plot(losses)\n",
    "plt.title(\"Training Loss Over Time\")\n",
    "plt.xlabel(\"Epoch\")\n",
    "plt.ylabel(\"Loss\")\n",
    "plt.grid(True)\n",
    "plt.show()"
   ]
  },
  {
   "cell_type": "markdown",
   "id": "a9ad3a74",
   "metadata": {},
   "source": [
    "## Gradient Accumulation for Large Batches\n",
    "\n",
    "When memory is limited, you can simulate larger batch sizes by accumulating gradients across multiple smaller batches.\n"
   ]
  },
  {
   "cell_type": "code",
   "execution_count": 9,
   "id": "f41e3dc9",
   "metadata": {},
   "outputs": [
    {
     "name": "stdout",
     "output_type": "stream",
     "text": [
      "Epoch 1, Average Loss: 4.9993\n",
      "Epoch 2, Average Loss: 4.8793\n",
      "Epoch 3, Average Loss: 4.7709\n",
      "Epoch 4, Average Loss: 4.6728\n",
      "Epoch 5, Average Loss: 4.5839\n"
     ]
    }
   ],
   "source": [
    "# Simulate gradient accumulation\n",
    "model = nn.Linear(10, 1)\n",
    "criterion = nn.MSELoss()\n",
    "optimizer = torch.optim.SGD(model.parameters(), lr=0.01)\n",
    "\n",
    "# Create some dummy data\n",
    "X = torch.randn(100, 10)\n",
    "y = torch.randn(100, 1)\n",
    "\n",
    "accumulation_steps = 4\n",
    "batch_size = 8\n",
    "\n",
    "for epoch in range(5):\n",
    "    total_loss = 0\n",
    "    optimizer.zero_grad()  # Clear gradients at the start of each epoch\n",
    "\n",
    "    for i in range(0, len(X), batch_size):\n",
    "        # Get mini-batch\n",
    "        batch_X = X[i : i + batch_size]\n",
    "        batch_y = y[i : i + batch_size]\n",
    "\n",
    "        # Forward pass\n",
    "        outputs = model(batch_X)\n",
    "        loss = criterion(outputs, batch_y)\n",
    "\n",
    "        # Scale loss by accumulation steps\n",
    "        loss = loss / accumulation_steps\n",
    "\n",
    "        # Backward pass (accumulates gradients)\n",
    "        loss.backward()\n",
    "\n",
    "        total_loss += loss.item()\n",
    "\n",
    "        # Update parameters every accumulation_steps\n",
    "        if (i // batch_size + 1) % accumulation_steps == 0:\n",
    "            optimizer.step()\n",
    "            optimizer.zero_grad()\n",
    "\n",
    "    print(f\"Epoch {epoch+1}, Average Loss: {total_loss:.4f}\")"
   ]
  },
  {
   "cell_type": "markdown",
   "id": "597aa8b9",
   "metadata": {},
   "source": [
    "## Custom Autograd Functions\n",
    "\n",
    "For advanced use cases, you can define custom autograd functions with custom forward and backward passes.\n"
   ]
  },
  {
   "cell_type": "code",
   "execution_count": 10,
   "id": "e53e2e3d",
   "metadata": {},
   "outputs": [
    {
     "name": "stdout",
     "output_type": "stream",
     "text": [
      "y = 9.0\n",
      "dy/dx = 6.0\n"
     ]
    }
   ],
   "source": [
    "class SquareFunction(torch.autograd.Function):\n",
    "    \"\"\"\n",
    "    Custom autograd function that squares its input.\n",
    "    This example shows how to define custom forward and backward passes.\n",
    "    \"\"\"\n",
    "\n",
    "    @staticmethod\n",
    "    def forward(ctx, input):\n",
    "        \"\"\"\n",
    "        Forward pass: compute the output\n",
    "        ctx: context object to save information for backward pass\n",
    "        \"\"\"\n",
    "        ctx.save_for_backward(input)  # Save input for backward pass\n",
    "        return input * input\n",
    "\n",
    "    @staticmethod\n",
    "    def backward(ctx, grad_output):\n",
    "        \"\"\"\n",
    "        Backward pass: compute gradient with respect to input\n",
    "        grad_output: gradient flowing back from the next layer\n",
    "        \"\"\"\n",
    "        (input,) = ctx.saved_tensors  # Retrieve saved input\n",
    "        grad_input = grad_output * 2 * input  # d/dx(x^2) = 2x\n",
    "        return grad_input\n",
    "\n",
    "\n",
    "# Use the custom function\n",
    "square = SquareFunction.apply\n",
    "\n",
    "x = torch.tensor(3.0, requires_grad=True)\n",
    "y = square(x)\n",
    "print(f\"y = {y}\")\n",
    "\n",
    "y.backward()\n",
    "print(f\"dy/dx = {x.grad}\")  # Should be 2*3 = 6"
   ]
  },
  {
   "cell_type": "markdown",
   "id": "4974e9ee",
   "metadata": {},
   "source": [
    "## Common Autograd Pitfalls and Solutions\n",
    "\n",
    "### 1. In-place Operations\n",
    "\n",
    "In-place operations can cause issues with autograd because they modify tensors that might be needed for gradient computation.\n"
   ]
  },
  {
   "cell_type": "code",
   "execution_count": 11,
   "id": "39252904",
   "metadata": {},
   "outputs": [
    {
     "name": "stdout",
     "output_type": "stream",
     "text": [
      "Non-in-place operation successful\n",
      "In-place on detached tensor successful\n"
     ]
    }
   ],
   "source": [
    "# Problematic in-place operation\n",
    "x = torch.tensor(2.0, requires_grad=True)\n",
    "y = x**2\n",
    "\n",
    "# This would cause an error during backward pass\n",
    "# x.add_(1)  # In-place addition - DON'T DO THIS!\n",
    "\n",
    "# Solution: Use non-in-place operations\n",
    "x_new = x + 1\n",
    "print(\"Non-in-place operation successful\")\n",
    "\n",
    "# Or use .detach() if you really need in-place\n",
    "x_detached = x.detach()\n",
    "x_detached.add_(1)\n",
    "print(\"In-place on detached tensor successful\")"
   ]
  },
  {
   "cell_type": "markdown",
   "id": "c3b5c1fc",
   "metadata": {},
   "source": [
    "### 2. Forgetting to Zero Gradients\n"
   ]
  },
  {
   "cell_type": "code",
   "execution_count": 12,
   "id": "5a7a4311",
   "metadata": {},
   "outputs": [
    {
     "name": "stdout",
     "output_type": "stream",
     "text": [
      "Without zeroing gradients:\n",
      "Iteration 1: x.grad = 4.0\n",
      "Iteration 2: x.grad = 8.0\n",
      "Iteration 3: x.grad = 12.0\n",
      "\n",
      "With proper gradient zeroing:\n",
      "Iteration 1: x.grad = 4.0\n",
      "Iteration 2: x.grad = 4.0\n",
      "Iteration 3: x.grad = 4.0\n"
     ]
    }
   ],
   "source": [
    "# Demonstrate the importance of zeroing gradients\n",
    "x = torch.tensor(2.0, requires_grad=True)\n",
    "\n",
    "print(\"Without zeroing gradients:\")\n",
    "for i in range(3):\n",
    "    y = x**2\n",
    "    y.backward()\n",
    "    print(f\"Iteration {i+1}: x.grad = {x.grad}\")\n",
    "\n",
    "print(\"\\nWith proper gradient zeroing:\")\n",
    "for i in range(3):\n",
    "    if x.grad is not None:\n",
    "        x.grad.zero_()  # or x.grad = None\n",
    "    y = x**2\n",
    "    y.backward()\n",
    "    print(f\"Iteration {i+1}: x.grad = {x.grad}\")"
   ]
  },
  {
   "cell_type": "markdown",
   "id": "22b77c16",
   "metadata": {},
   "source": [
    "## Gradient Checking\n",
    "\n",
    "It's good practice to verify your gradients numerically, especially when implementing custom functions.\n"
   ]
  },
  {
   "cell_type": "code",
   "execution_count": 14,
   "id": "aae4b50b",
   "metadata": {},
   "outputs": [
    {
     "name": "stdout",
     "output_type": "stream",
     "text": [
      "Analytical gradient: tensor([4., 6.])\n",
      "Numerical gradient:  tensor([4.0054, 6.0081])\n",
      "Difference: tensor([0.0054, 0.0081])\n"
     ]
    }
   ],
   "source": [
    "def numerical_gradient(f, x, h=1e-5):\n",
    "    \"\"\"\n",
    "    Compute numerical gradient using finite differences\n",
    "    \"\"\"\n",
    "    grad = torch.zeros_like(x)\n",
    "\n",
    "    for i in range(x.numel()):\n",
    "        # Create copies for perturbation\n",
    "        x_plus = x.clone()\n",
    "        x_minus = x.clone()\n",
    "\n",
    "        # Perturb\n",
    "        x_plus.view(-1)[i] += h\n",
    "        x_minus.view(-1)[i] -= h\n",
    "\n",
    "        # Compute finite difference\n",
    "        grad.view(-1)[i] = (f(x_plus) - f(x_minus)) / (2 * h)\n",
    "\n",
    "    return grad\n",
    "\n",
    "\n",
    "# Test function: f(x) = x^2 + 2*x + 1\n",
    "def test_function(x):\n",
    "    return (x**2 + 2 * x + 1).sum()\n",
    "\n",
    "\n",
    "# Compare numerical and analytical gradients\n",
    "x = torch.tensor([1.0, 2.0], requires_grad=True)\n",
    "\n",
    "# Analytical gradient\n",
    "y = test_function(x)\n",
    "y.backward()\n",
    "analytical_grad = x.grad.clone()\n",
    "\n",
    "# Numerical gradient\n",
    "x.grad = None\n",
    "numerical_grad = numerical_gradient(test_function, x.detach())\n",
    "\n",
    "print(f\"Analytical gradient: {analytical_grad}\")\n",
    "print(f\"Numerical gradient:  {numerical_grad}\")\n",
    "print(f\"Difference: {torch.abs(analytical_grad - numerical_grad)}\")"
   ]
  },
  {
   "cell_type": "markdown",
   "id": "2fe8b1b3",
   "metadata": {},
   "source": [
    "## Performance Considerations\n",
    "\n",
    "Understanding autograd performance can help you write more efficient code.\n"
   ]
  },
  {
   "cell_type": "code",
   "execution_count": 15,
   "id": "f2c1acbf",
   "metadata": {},
   "outputs": [
    {
     "name": "stdout",
     "output_type": "stream",
     "text": [
      "With gradients: 0.0537s\n",
      "Without gradients: 0.0089s\n",
      "Overhead: 501.1%\n"
     ]
    }
   ],
   "source": [
    "import time\n",
    "\n",
    "# Large tensor operations\n",
    "x = torch.randn(1000, 1000, requires_grad=True)\n",
    "\n",
    "# Time with gradient computation\n",
    "start_time = time.time()\n",
    "for _ in range(10):\n",
    "    y = torch.sum(x**2)\n",
    "    y.backward()\n",
    "    x.grad = None\n",
    "grad_time = time.time() - start_time\n",
    "\n",
    "# Time without gradient computation\n",
    "with torch.inference_mode():\n",
    "    start_time = time.time()\n",
    "    for _ in range(10):\n",
    "        y = torch.sum(x**2)\n",
    "    no_grad_time = time.time() - start_time\n",
    "\n",
    "print(f\"With gradients: {grad_time:.4f}s\")\n",
    "print(f\"Without gradients: {no_grad_time:.4f}s\")\n",
    "print(f\"Overhead: {((grad_time - no_grad_time) / no_grad_time * 100):.1f}%\")"
   ]
  },
  {
   "cell_type": "markdown",
   "id": "ac429a54",
   "metadata": {},
   "source": [
    "## Best Practices for Autograd\n",
    "\n",
    "### 1. Use `torch.inference_mode()` for inference\n",
    "\n",
    "```python\n",
    "# Preferred for inference\n",
    "with torch.inference_mode():\n",
    "    predictions = model(data)\n",
    "```\n",
    "\n",
    "### 2. Clear gradients properly\n",
    "\n",
    "```python\n",
    "# Method 1: Set to None (more memory efficient)\n",
    "optimizer.zero_grad()\n",
    "\n",
    "# Method 2: Manual zeroing\n",
    "for param in model.parameters():\n",
    "    param.grad = None\n",
    "```\n",
    "\n",
    "### 3. Avoid unnecessary gradient computation\n",
    "\n",
    "```python\n",
    "# Only set requires_grad=True for parameters you want to optimize\n",
    "model_params = [p for p in model.parameters() if p.requires_grad]\n",
    "```\n",
    "\n",
    "### 4. Use gradient clipping for stable training\n",
    "\n",
    "```python\n",
    "torch.nn.utils.clip_grad_norm_(model.parameters(), max_norm=1.0)\n",
    "```\n"
   ]
  },
  {
   "cell_type": "markdown",
   "id": "57ae5fd3",
   "metadata": {},
   "source": [
    "## Summary\n",
    "\n",
    "In this notebook, we've covered:\n",
    "\n",
    "1. **How autograd works**: Reverse-mode automatic differentiation\n",
    "2. **Computational graphs**: How PyTorch tracks operations\n",
    "3. **Gradient computation**: Using `.backward()` and understanding gradient flow\n",
    "4. **Gradient manipulation**: Accumulation, detaching, and custom functions\n",
    "5. **Common pitfalls**: In-place operations, gradient zeroing, and scalar outputs\n",
    "6. **Performance considerations**: When to use `torch.inference_mode()`\n",
    "7. **Best practices**: Writing efficient and correct gradient-based code\n",
    "\n",
    "Understanding autograd deeply will help you:\n",
    "\n",
    "- Debug gradient-related issues effectively\n",
    "- Implement custom training procedures\n",
    "- Optimize model performance\n",
    "- Build more complex architectures with confidence\n",
    "\n",
    "### Next Steps:\n",
    "\n",
    "- Practice implementing custom autograd functions\n",
    "- Experiment with gradient accumulation strategies\n",
    "- Try implementing advanced optimizers from scratch\n",
    "- Explore gradient-based meta-learning techniques\n"
   ]
  }
 ],
 "metadata": {
  "kernelspec": {
   "display_name": "venv",
   "language": "python",
   "name": "python3"
  },
  "language_info": {
   "codemirror_mode": {
    "name": "ipython",
    "version": 3
   },
   "file_extension": ".py",
   "mimetype": "text/x-python",
   "name": "python",
   "nbconvert_exporter": "python",
   "pygments_lexer": "ipython3",
   "version": "3.11.5"
  }
 },
 "nbformat": 4,
 "nbformat_minor": 5
}
