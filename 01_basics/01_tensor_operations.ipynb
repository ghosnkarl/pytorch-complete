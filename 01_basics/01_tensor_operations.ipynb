{
 "cells": [
  {
   "cell_type": "markdown",
   "id": "125f83a0",
   "metadata": {},
   "source": [
    "# 01. Tensor Operations\n",
    "\n",
    "Welcome to the fundamental building blocks of deep learning: **tensors**. In this notebook, you'll learn what tensors are, why they're important, and how to manipulate them using PyTorch.\n"
   ]
  },
  {
   "cell_type": "markdown",
   "id": "6d8b42dd",
   "metadata": {},
   "source": [
    "## Why Tensors Matter\n",
    "\n",
    "Before we dive into the technical details, let's understand why tensors are so important in machine learning:\n",
    "\n",
    "1. **Efficient Numerical Computation**: Tensors allow for efficient mathematical operations across large datasets.\n",
    "2. **GPU Acceleration**: Tensor operations can easily be moved to GPUs for massive performance gains.\n",
    "3. **Automatic Differentiation**: Modern deep learning frameworks use tensors to automatically calculate gradients.\n",
    "4. **Dimensionality**: They can represent complex data with multiple dimensions (images, videos, text, etc.).\n",
    "\n",
    "By the end of this notebook, you'll have a solid foundation in tensor operations, which is essential for understanding more advanced deep learning concepts.\n"
   ]
  },
  {
   "cell_type": "markdown",
   "id": "f5779cb5",
   "metadata": {},
   "source": [
    "## Tensors\n",
    "\n",
    "In this section, we will learn about **tensors** and how they are used in PyTorch.\n",
    "\n",
    "Tensors are the fundamental building block of machine learning, and they represent data in a numerical way.\n",
    "\n",
    "Let's say we need to represent the a _gray_ image of the number `2` as a tensor with height and width of 16 pixels. The tensor shape would be `[1, 16, 16]`, which means:\n",
    "\n",
    "- 1: color_channels\n",
    "- 16: height\n",
    "- 16: width\n",
    "\n",
    "> Note: The color_channels is `1` because the image is gray. If the image is colored, it would have `3` color channels (red, green and blue).\n"
   ]
  },
  {
   "cell_type": "markdown",
   "id": "807f3d5d",
   "metadata": {},
   "source": [
    "### Grayscale Image\n",
    "\n",
    "Let's represent the grayscale image for the number `2`.\n",
    "\n",
    "Here the tensor representation has the following shape: `[1, height, width]`.\n",
    "\n",
    "<img src=\"../09_images/01-digit.png\" alt=\"Digit image\" width=\"400\" height=\"400\">\n"
   ]
  },
  {
   "cell_type": "markdown",
   "id": "064e57be",
   "metadata": {},
   "source": [
    "### Colored Image\n",
    "\n",
    "Below is a colored image.\n",
    "\n",
    "The tensor representation has the following shape: `[3, height, width]`.\n",
    "\n",
    "<img src=\"../09_images/01-rgb_image.png\" alt=\"Colored image\" width=\"800\">\n"
   ]
  },
  {
   "cell_type": "markdown",
   "id": "54c8efa5",
   "metadata": {},
   "source": [
    "### Creating tensors\n",
    "\n",
    "PyTorch provides a whole documentation page dedicated to the [torch.Tensor](https://docs.pytorch.org/docs/stable/tensors.html) class.\n",
    "\n",
    "Below is a table summarizing the types of tensors, which will write next in code.\n",
    "\n",
    "| Name   | What is It?                      | Number of Dimensions |\n",
    "| ------ | -------------------------------- | -------------------- |\n",
    "| scalar | A single number                  | 0                    |\n",
    "| vector | A list of numbers                | 1                    |\n",
    "| matrix | A 2-dimensional array of numbers | 2                    |\n",
    "| tensor | A n-dimensional array of numbers | 0+                   |\n",
    "\n",
    "<img src=\"../09_images/01-scalar-vector-matrix-tensor.png\" alt=\"Tensor types\" width=\"800\">\n",
    "\n",
    "Now let's go through each of these types of tensors in code.\n"
   ]
  },
  {
   "cell_type": "markdown",
   "id": "6c7e93e8",
   "metadata": {},
   "source": [
    "#### Scalar\n"
   ]
  },
  {
   "cell_type": "code",
   "execution_count": 1,
   "id": "17d283df",
   "metadata": {},
   "outputs": [
    {
     "name": "stdout",
     "output_type": "stream",
     "text": [
      "PyTorch version: 2.7.1\n",
      "NumPy version: 2.3.1\n",
      "CUDA available: False\n"
     ]
    },
    {
     "data": {
      "text/plain": [
       "tensor(7)"
      ]
     },
     "execution_count": 1,
     "metadata": {},
     "output_type": "execute_result"
    }
   ],
   "source": [
    "import torch\n",
    "import numpy as np\n",
    "import matplotlib.pyplot as plt\n",
    "\n",
    "# Check versions for reference\n",
    "print(f\"PyTorch version: {torch.__version__}\")\n",
    "print(f\"NumPy version: {np.__version__}\")\n",
    "\n",
    "# Check if CUDA is available\n",
    "print(f\"CUDA available: {torch.cuda.is_available()}\")\n",
    "if torch.cuda.is_available():\n",
    "    print(f\"CUDA device: {torch.cuda.get_device_name(0)}\")\n",
    "\n",
    "# Create a simple scalar tensor\n",
    "scalar = torch.tensor(7)\n",
    "scalar"
   ]
  },
  {
   "cell_type": "code",
   "execution_count": 2,
   "id": "558c8262",
   "metadata": {},
   "outputs": [
    {
     "name": "stdout",
     "output_type": "stream",
     "text": [
      "Scalar Dimensions: 0\n",
      "Scalar Item: 7\n"
     ]
    }
   ],
   "source": [
    "print(f\"Scalar Dimensions: {scalar.ndim}\")\n",
    "print(f\"Scalar Item: {scalar.item()}\")"
   ]
  },
  {
   "cell_type": "markdown",
   "id": "041a8c3f",
   "metadata": {},
   "source": [
    "#### Vector\n",
    "\n",
    "A vector can contain a list of numbers.\n",
    "\n",
    "You could have a vector `[5, 6]` to represent `[cars, bikes]` or `[5, 6, 7]` to represent `[cars, bikes, trucks]`.\n"
   ]
  },
  {
   "cell_type": "code",
   "execution_count": 3,
   "id": "a34410ef",
   "metadata": {},
   "outputs": [
    {
     "data": {
      "text/plain": [
       "tensor([7, 7])"
      ]
     },
     "execution_count": 3,
     "metadata": {},
     "output_type": "execute_result"
    }
   ],
   "source": [
    "vector = torch.tensor([7, 7])\n",
    "vector"
   ]
  },
  {
   "cell_type": "markdown",
   "id": "f633c3c8",
   "metadata": {},
   "source": [
    "You can tell the number of dimensions of a tensor by the number of `[` it has on the outside.\n"
   ]
  },
  {
   "cell_type": "code",
   "execution_count": 4,
   "id": "abbb638b",
   "metadata": {},
   "outputs": [
    {
     "name": "stdout",
     "output_type": "stream",
     "text": [
      "Vector Dimensions: 1\n",
      "Vector Shape: torch.Size([2])\n"
     ]
    }
   ],
   "source": [
    "print(f\"Vector Dimensions: {vector.ndim}\")\n",
    "print(f\"Vector Shape: {vector.shape}\")"
   ]
  },
  {
   "cell_type": "markdown",
   "id": "b43ff411",
   "metadata": {},
   "source": [
    "#### Matrix\n"
   ]
  },
  {
   "cell_type": "code",
   "execution_count": 5,
   "id": "18bd4695",
   "metadata": {},
   "outputs": [
    {
     "data": {
      "text/plain": [
       "tensor([[ 7,  8],\n",
       "        [ 9, 10]])"
      ]
     },
     "execution_count": 5,
     "metadata": {},
     "output_type": "execute_result"
    }
   ],
   "source": [
    "matrix = torch.tensor([[7, 8], [9, 10]])\n",
    "matrix"
   ]
  },
  {
   "cell_type": "code",
   "execution_count": 6,
   "id": "d35ea848",
   "metadata": {},
   "outputs": [
    {
     "name": "stdout",
     "output_type": "stream",
     "text": [
      "Matrix Dimensions: 2\n",
      "Matrix Shape: torch.Size([2, 2])\n"
     ]
    }
   ],
   "source": [
    "print(f\"Matrix Dimensions: {matrix.ndim}\")\n",
    "print(f\"Matrix Shape: {matrix.shape}\")"
   ]
  },
  {
   "cell_type": "markdown",
   "id": "4b24f4d2",
   "metadata": {},
   "source": [
    "#### Tensor\n"
   ]
  },
  {
   "cell_type": "code",
   "execution_count": 7,
   "id": "0d0c406b",
   "metadata": {},
   "outputs": [
    {
     "data": {
      "text/plain": [
       "tensor([[[ 1,  2,  3],\n",
       "         [ 4,  5,  6]],\n",
       "\n",
       "        [[ 7,  8,  9],\n",
       "         [10, 11, 12]]])"
      ]
     },
     "execution_count": 7,
     "metadata": {},
     "output_type": "execute_result"
    }
   ],
   "source": [
    "tensor = torch.tensor([[[1, 2, 3], [4, 5, 6]], [[7, 8, 9], [10, 11, 12]]])\n",
    "tensor"
   ]
  },
  {
   "cell_type": "code",
   "execution_count": 8,
   "id": "59816d48",
   "metadata": {},
   "outputs": [
    {
     "name": "stdout",
     "output_type": "stream",
     "text": [
      "Tensor Dimensions: 3\n",
      "Tensor Shape: torch.Size([2, 2, 3])\n"
     ]
    }
   ],
   "source": [
    "print(f\"Tensor Dimensions: {tensor.ndim}\")\n",
    "print(f\"Tensor Shape: {tensor.shape}\")"
   ]
  },
  {
   "cell_type": "markdown",
   "id": "ace84cc8",
   "metadata": {},
   "source": [
    "#### Zeros and Ones\n",
    "\n",
    "You can create tensors filled with zeros or ones using the `torch.zeros` and `torch.ones` functions.\n",
    "\n",
    "Sometimes you need to create a tensor filled with zeros or ones, for example, when initializing weights in a neural network, or when you need masks for certain operations like image segmentation.\n"
   ]
  },
  {
   "cell_type": "code",
   "execution_count": 9,
   "id": "8f1681e5",
   "metadata": {},
   "outputs": [
    {
     "data": {
      "text/plain": [
       "tensor([[0., 0., 0., 0.],\n",
       "        [0., 0., 0., 0.],\n",
       "        [0., 0., 0., 0.]])"
      ]
     },
     "execution_count": 9,
     "metadata": {},
     "output_type": "execute_result"
    }
   ],
   "source": [
    "zeros = torch.zeros(size=(3, 4))\n",
    "zeros"
   ]
  },
  {
   "cell_type": "code",
   "execution_count": 10,
   "id": "eafd723c",
   "metadata": {},
   "outputs": [
    {
     "data": {
      "text/plain": [
       "tensor([[1., 1., 1., 1.],\n",
       "        [1., 1., 1., 1.],\n",
       "        [1., 1., 1., 1.]])"
      ]
     },
     "execution_count": 10,
     "metadata": {},
     "output_type": "execute_result"
    }
   ],
   "source": [
    "ones = torch.ones(size=(3, 4))\n",
    "ones"
   ]
  },
  {
   "cell_type": "markdown",
   "id": "ed877c14",
   "metadata": {},
   "source": [
    "#### Range and Tensors Like\n",
    "\n",
    "Sometimes you need to create a tensor with a range of numbers, or a tensor that has the same shape as another tensor.\n"
   ]
  },
  {
   "cell_type": "code",
   "execution_count": 11,
   "id": "aaf1c756",
   "metadata": {},
   "outputs": [
    {
     "name": "stdout",
     "output_type": "stream",
     "text": [
      "Zero to Ten: tensor([0, 1, 2, 3, 4, 5, 6, 7, 8, 9])\n",
      "Ten Zeros: tensor([0, 0, 0, 0, 0, 0, 0, 0, 0, 0])\n",
      "Ten Ones: tensor([1, 1, 1, 1, 1, 1, 1, 1, 1, 1])\n"
     ]
    }
   ],
   "source": [
    "zero_to_ten = torch.arange(start=0, end=10, step=1)\n",
    "print(f\"Zero to Ten: {zero_to_ten}\")\n",
    "\n",
    "ten_zeros = torch.zeros_like(zero_to_ten)\n",
    "print(f\"Ten Zeros: {ten_zeros}\")\n",
    "\n",
    "ten_ones = torch.ones_like(zero_to_ten)\n",
    "print(f\"Ten Ones: {ten_ones}\")"
   ]
  },
  {
   "cell_type": "markdown",
   "id": "79c3ff00",
   "metadata": {},
   "source": [
    "#### Tensor Data Types\n",
    "\n",
    "The most common data types for tensors are:\n",
    "\n",
    "- `torch.float32` (32-bit floating point)\n",
    "- `torch.float64` (64-bit floating point)\n",
    "- `torch.int32` (32-bit integer)\n",
    "- `torch.int64` (64-bit integer)\n",
    "- `torch.uint8` (8-bit unsigned integer)\n",
    "\n",
    "The reason for having different data types is to save memory and to speed up computations.\n",
    "\n",
    "For example, if you have a tensor that contains only integers, you can use `torch.int32` or `torch.int64` instead of `torch.float32` or `torch.float64`, which would take more memory and be slower to compute.\n",
    "\n",
    "The higher the precision of the data type, the more memory it takes and the slower it is to compute. So lower precision data types are generally faster to compute and use less memory, but they may not be suitable for all operations, especially those that require high precision.\n",
    "\n",
    "This matters in deep learning, where you have a lot of data and a lot of computations to do.\n",
    "\n",
    "> Resources:\n",
    ">\n",
    "> - [PyTorch Tensor Data Types](https://pytorch.org/docs/stable/tensors.html#data-types)\n",
    "> - [Precision (computer science)](<https://en.wikipedia.org/wiki/Precision_(computer_science)>)\n"
   ]
  },
  {
   "cell_type": "markdown",
   "id": "25e4bd24",
   "metadata": {},
   "source": [
    "### Moving Tensors to GPU\n",
    "\n",
    "One of the most powerful features of PyTorch is the ability to move tensors between different devices (CPU and GPU). This is crucial for deep learning, as GPUs can significantly accelerate tensor operations.\n",
    "\n",
    "> Note: This section is still helpful to understand even if you don't have a GPU on your machine.\n"
   ]
  },
  {
   "cell_type": "code",
   "execution_count": 12,
   "id": "4112b10a",
   "metadata": {},
   "outputs": [
    {
     "name": "stdout",
     "output_type": "stream",
     "text": [
      "Using device: cpu\n",
      "CPU Tensor: tensor([1., 2., 3., 4.]), Device: cpu\n",
      "Device Tensor: tensor([1., 2., 3., 4.]), Device: cpu\n",
      "Device Tensor + 1: tensor([2., 3., 4., 5.])\n",
      "\n",
      "Note: For small operations like this, you won't see performance benefits.\n",
      "GPU acceleration shows its value with large matrices and deep learning models.\n"
     ]
    }
   ],
   "source": [
    "# Define device (will use CUDA if available, otherwise CPU)\n",
    "device = \"cuda\" if torch.cuda.is_available() else \"cpu\"\n",
    "print(f\"Using device: {device}\")\n",
    "\n",
    "# Create a tensor\n",
    "cpu_tensor = torch.tensor([1.0, 2.0, 3.0, 4.0])\n",
    "print(f\"CPU Tensor: {cpu_tensor}, Device: {cpu_tensor.device}\")\n",
    "\n",
    "# Move tensor to specified device (GPU if available)\n",
    "device_tensor = cpu_tensor.to(device)\n",
    "print(f\"Device Tensor: {device_tensor}, Device: {device_tensor.device}\")\n",
    "\n",
    "# Operations on device tensor\n",
    "device_tensor_plus_one = device_tensor + 1\n",
    "print(f\"Device Tensor + 1: {device_tensor_plus_one}\")\n",
    "\n",
    "# Note: When using tensors on different devices, they need to be on the same device for operations\n",
    "try:\n",
    "    result = (\n",
    "        cpu_tensor + device_tensor\n",
    "    )  # This will cause an error if device_tensor is on GPU\n",
    "except RuntimeError as e:\n",
    "    print(f\"Error: {e}\")\n",
    "    print(\"\\nTo fix this, move tensors to the same device before operations:\")\n",
    "    result = cpu_tensor + device_tensor.cpu()  # Move GPU tensor back to CPU\n",
    "    print(f\"Result after fixing: {result}\")\n",
    "\n",
    "# Performance Note\n",
    "print(\"\\nNote: For small operations like this, you won't see performance benefits.\")\n",
    "print(\"GPU acceleration shows its value with large matrices and deep learning models.\")"
   ]
  },
  {
   "cell_type": "code",
   "execution_count": 13,
   "id": "dbf4d85b",
   "metadata": {},
   "outputs": [
    {
     "name": "stdout",
     "output_type": "stream",
     "text": [
      "Float 32 Tensor: tensor([3., 6., 9.])\n",
      "Float 32 Tensor Data Type: torch.float32\n"
     ]
    }
   ],
   "source": [
    "float_32_tensor = torch.tensor([3.0, 6.0, 9.0], dtype=torch.float32)\n",
    "print(f\"Float 32 Tensor: {float_32_tensor}\")\n",
    "print(f\"Float 32 Tensor Data Type: {float_32_tensor.dtype}\")"
   ]
  },
  {
   "cell_type": "code",
   "execution_count": 14,
   "id": "2e79f528",
   "metadata": {},
   "outputs": [
    {
     "name": "stdout",
     "output_type": "stream",
     "text": [
      "Float 16 Tensor: tensor([3., 6., 9.], dtype=torch.float16)\n",
      "Float 16 Tensor Data Type: torch.float16\n"
     ]
    }
   ],
   "source": [
    "float_16_tensor = torch.tensor([3.0, 6.0, 9.0], dtype=torch.float16)\n",
    "print(f\"Float 16 Tensor: {float_16_tensor}\")\n",
    "print(f\"Float 16 Tensor Data Type: {float_16_tensor.dtype}\")"
   ]
  },
  {
   "cell_type": "markdown",
   "id": "b18b66e2",
   "metadata": {},
   "source": [
    "### Tensor Operations\n",
    "\n",
    "In deep learning, data is often represented as tensors, and you need to perform various operations on these tensors.\n",
    "\n",
    "These operations include:\n",
    "\n",
    "- Addition\n",
    "- Subtraction\n",
    "- Multiplication (element-wise)\n",
    "- Division\n",
    "- Matrix multiplication\n",
    "\n",
    "There are more, but these are the most common ones you'll use in deep learning.\n"
   ]
  },
  {
   "cell_type": "markdown",
   "id": "2304ed1a",
   "metadata": {},
   "source": [
    "#### Basic Operations\n",
    "\n",
    "In this section, we'll cover the basic operations you can perform on tensors like addition, subtraction, multiplication, and division.\n"
   ]
  },
  {
   "cell_type": "code",
   "execution_count": 15,
   "id": "2c4c9865",
   "metadata": {},
   "outputs": [
    {
     "name": "stdout",
     "output_type": "stream",
     "text": [
      "Tensor: tensor([1, 2, 3])\n",
      "Addition: tensor([2, 3, 4])\n",
      "Subtraction: tensor([0, 1, 2])\n",
      "Multiplication: tensor([10, 20, 30])\n",
      "Division: tensor([0.5000, 1.0000, 1.5000])\n"
     ]
    }
   ],
   "source": [
    "tensor = torch.tensor([1, 2, 3])\n",
    "\n",
    "print(f\"Tensor: {tensor}\")\n",
    "print(f\"Addition: {tensor + 1}\")\n",
    "print(f\"Subtraction: {tensor - 1}\")\n",
    "print(f\"Multiplication: {tensor * 10}\")\n",
    "print(f\"Division: {tensor / 2}\")"
   ]
  },
  {
   "cell_type": "markdown",
   "id": "8af54571",
   "metadata": {},
   "source": [
    "#### Matrix Multiplication\n",
    "\n",
    "Matrix multiplication is a fundamental operation in deep learning, especially in neural networks. For more information, you can refer to the following links:\n",
    "\n",
    "- [Matrix Multiplication Math is Fun page](https://www.mathsisfun.com/algebra/matrix-multiplying.html)\n",
    "- [Matrix Multiplication Wikipedia page](https://en.wikipedia.org/wiki/Matrix_multiplication)\n",
    "\n",
    "PyTorch provides a `torch.matmul` function to perform matrix multiplication. The `@` operator is also available for this purpose.\n",
    "\n",
    "There are two main rules for matrix multiplication:\n",
    "\n",
    "1. The **inner dimensions** must match:\n",
    "   - `(3, 2) @ (2, 4)` is valid because the inner dimensions `2` match.\n",
    "   - `(3, 2) @ (3, 4)` is invalid because the inner dimensions `2` and `3` do not match.\n",
    "2. The resulting matrix will have the shape of the **outer dimensions**:\n",
    "   - `(3, 2) @ (2, 4)` results in a matrix of shape `(3, 4)`.\n",
    "   - `(3, 2) @ (2, 3)` results in a matrix of shape `(3, 3)`.\n",
    "\n",
    "For more information on matrix multiplication, you can refer to the [PyTorch documentation](https://pytorch.org/docs/stable/generated/torch.matmul.html).\n",
    "\n",
    "If you would like to visualize the matrix multiplication, you can use the [Matrix Multiplication Visualizer](https://matrixmultiplication.xyz/).\n"
   ]
  },
  {
   "cell_type": "code",
   "execution_count": 16,
   "id": "c62c5133",
   "metadata": {},
   "outputs": [
    {
     "name": "stdout",
     "output_type": "stream",
     "text": [
      "Matrix Multiplication: 14\n"
     ]
    }
   ],
   "source": [
    "tensor = torch.tensor([1, 2, 3])\n",
    "\n",
    "print((f\"Matrix Multiplication: {torch.matmul(tensor, tensor)}\"))"
   ]
  },
  {
   "cell_type": "markdown",
   "id": "43fc81c7",
   "metadata": {},
   "source": [
    "It's important to note that PyTorch uses `numpy` under the hood for many of its operations. You can do the matrix multiplication by hand, but it's much easier to use the built-in functions provided by PyTorch since it optimizes performance and memory usage.\n",
    "\n",
    "The built-in `torch.matmul` function is faster.\n"
   ]
  },
  {
   "cell_type": "code",
   "execution_count": 17,
   "id": "325b34c8",
   "metadata": {},
   "outputs": [],
   "source": [
    "tensor = torch.arange(start=0, end=100, step=1)"
   ]
  },
  {
   "cell_type": "code",
   "execution_count": 18,
   "id": "1ca43b53",
   "metadata": {},
   "outputs": [
    {
     "name": "stdout",
     "output_type": "stream",
     "text": [
      "CPU times: user 1.2 ms, sys: 1.3 ms, total: 2.5 ms\n",
      "Wall time: 3.48 ms\n"
     ]
    },
    {
     "data": {
      "text/plain": [
       "tensor(328350)"
      ]
     },
     "execution_count": 18,
     "metadata": {},
     "output_type": "execute_result"
    }
   ],
   "source": [
    "%%time\n",
    "\n",
    "value = 0\n",
    "for i in range(len(tensor)):\n",
    "    value += tensor[i] * tensor[i]\n",
    "\n",
    "value"
   ]
  },
  {
   "cell_type": "code",
   "execution_count": 19,
   "id": "5b7dea6e",
   "metadata": {},
   "outputs": [
    {
     "name": "stdout",
     "output_type": "stream",
     "text": [
      "CPU times: user 36 μs, sys: 4 μs, total: 40 μs\n",
      "Wall time: 44.1 μs\n"
     ]
    },
    {
     "data": {
      "text/plain": [
       "tensor(328350)"
      ]
     },
     "execution_count": 19,
     "metadata": {},
     "output_type": "execute_result"
    }
   ],
   "source": [
    "%%time\n",
    "torch.matmul(tensor, tensor)"
   ]
  },
  {
   "cell_type": "markdown",
   "id": "0a5aca01",
   "metadata": {},
   "source": [
    "### Shape Errors\n",
    "\n",
    "One of the most common errors you'll encounter when working with tensors is a shape error. This happens when you try to perform an operation on tensors that have incompatible shapes.\n"
   ]
  },
  {
   "cell_type": "code",
   "execution_count": 20,
   "id": "961485f9",
   "metadata": {},
   "outputs": [],
   "source": [
    "# Shapes need to be in the right way\n",
    "tensor_A = torch.tensor([[1, 2], [3, 4], [5, 6]], dtype=torch.float32)\n",
    "\n",
    "tensor_B = torch.tensor([[7, 10], [8, 11], [9, 12]], dtype=torch.float32)\n",
    "\n",
    "# Run the cell to see the error\n",
    "# torch.matmul(tensor_A, tensor_B)"
   ]
  },
  {
   "cell_type": "markdown",
   "id": "103f7b9e",
   "metadata": {},
   "source": [
    "The error message will look something like this: `ValueError: mat1 and mat2 shapes cannot be multiplied (3x2 and 3x2)`.\n",
    "\n",
    "We need to make sure that the inner dimensions match when performing matrix multiplication. In this case, we can fix the shapes by transposing one of the tensors.\n",
    "\n",
    "We can use the `torch.transpose` or `tensor.T` function to do this.\n"
   ]
  },
  {
   "cell_type": "code",
   "execution_count": 21,
   "id": "5e6faa5e",
   "metadata": {},
   "outputs": [
    {
     "name": "stdout",
     "output_type": "stream",
     "text": [
      "Tensor A: tensor([[1., 2.],\n",
      "        [3., 4.],\n",
      "        [5., 6.]])\n",
      "Tensor B: tensor([[ 7., 10.],\n",
      "        [ 8., 11.],\n",
      "        [ 9., 12.]])\n",
      "Tensor A Shape: torch.Size([3, 2])\n",
      "Tensor B Shape: torch.Size([3, 2])\n"
     ]
    }
   ],
   "source": [
    "print(f\"Tensor A: {tensor_A}\")\n",
    "print(f\"Tensor B: {tensor_B}\")\n",
    "print(f\"Tensor A Shape: {tensor_A.shape}\")\n",
    "print(f\"Tensor B Shape: {tensor_B.shape}\")"
   ]
  },
  {
   "cell_type": "code",
   "execution_count": 22,
   "id": "49ec44f2",
   "metadata": {},
   "outputs": [
    {
     "name": "stdout",
     "output_type": "stream",
     "text": [
      "Tensor A Shape: torch.Size([3, 2])\n",
      "Tensor B Shape: torch.Size([2, 3])\n"
     ]
    }
   ],
   "source": [
    "print(f\"Tensor A Shape: {tensor_A.shape}\")\n",
    "print(f\"Tensor B Shape: {tensor_B.T.shape}\")"
   ]
  },
  {
   "cell_type": "code",
   "execution_count": 23,
   "id": "76fd02f9",
   "metadata": {},
   "outputs": [
    {
     "name": "stdout",
     "output_type": "stream",
     "text": [
      "Original Shapes:\n",
      "Tensor A: torch.Size([3, 2])\n",
      "Tensor B: torch.Size([3, 2])\n",
      "\n",
      "Transposed Shapes:\n",
      "Tensor A: torch.Size([3, 2])\n",
      "Tensor B: torch.Size([2, 3])\n",
      "\n",
      "Matrix Multiplication Output:\n",
      "tensor([[ 27.,  30.,  33.],\n",
      "        [ 61.,  68.,  75.],\n",
      "        [ 95., 106., 117.]])\n",
      "Output Shape: torch.Size([3, 3])\n"
     ]
    }
   ],
   "source": [
    "print(f\"Original Shapes:\\nTensor A: {tensor_A.shape}\\nTensor B: {tensor_B.shape}\\n\")\n",
    "# Transpose Tensor B\n",
    "tensor_B_T = tensor_B.T\n",
    "print(f\"Transposed Shapes:\\nTensor A: {tensor_A.shape}\\nTensor B: {tensor_B_T.shape}\\n\")\n",
    "\n",
    "matmul_output = torch.matmul(tensor_A, tensor_B_T)\n",
    "print(f\"Matrix Multiplication Output:\\n{matmul_output}\")\n",
    "print(f\"Output Shape: {matmul_output.shape}\")"
   ]
  },
  {
   "cell_type": "markdown",
   "id": "318d299c",
   "metadata": {},
   "source": [
    "#### Aggregation Operations\n",
    "\n",
    "Aggregation operations are used to compute a single value from a tensor, such as the sum, mean, or maximum value. These operations are useful for summarizing data and extracting important features.\n"
   ]
  },
  {
   "cell_type": "code",
   "execution_count": 24,
   "id": "59a9795d",
   "metadata": {},
   "outputs": [
    {
     "data": {
      "text/plain": [
       "tensor([ 0, 10, 20, 30, 40, 50, 60, 70, 80, 90])"
      ]
     },
     "execution_count": 24,
     "metadata": {},
     "output_type": "execute_result"
    }
   ],
   "source": [
    "x = torch.arange(start=0, end=100, step=10)\n",
    "x"
   ]
  },
  {
   "cell_type": "code",
   "execution_count": 25,
   "id": "b65c088c",
   "metadata": {},
   "outputs": [
    {
     "name": "stdout",
     "output_type": "stream",
     "text": [
      "Minimum Value: 0\n",
      "Maximum Value: 90\n",
      "Mean Value: 45.0\n",
      "Sum Value: 450\n"
     ]
    }
   ],
   "source": [
    "print(f\"Minimum Value: {x.min()}\")\n",
    "print(f\"Maximum Value: {x.max()}\")\n",
    "# print(f\"Mean Value: {x.mean()}\") # This will raise an error because the mean function expects a float tensor\n",
    "print(f\"Mean Value: {x.float().mean()}\")\n",
    "print(f\"Sum Value: {x.sum()}\")"
   ]
  },
  {
   "cell_type": "code",
   "execution_count": 26,
   "id": "f4ee1f57",
   "metadata": {},
   "outputs": [
    {
     "name": "stdout",
     "output_type": "stream",
     "text": [
      "Minimum Value: 0\n",
      "Maximum Value: 90\n",
      "Mean Value: 45.0\n",
      "Sum Value: 450\n",
      "\n",
      "Maximum Value: 90\n",
      "Mean Value: 45.0\n",
      "Sum Value: 450\n"
     ]
    }
   ],
   "source": [
    "# An alternative is using `torch` methods\n",
    "print(f\"Minimum Value: {torch.min(x)}\")\n",
    "print(f\"Maximum Value: {torch.max(x)}\")\n",
    "print(f\"Mean Value: {torch.mean(x.float())}\")\n",
    "print(f\"Sum Value: {torch.sum(x)}\")"
   ]
  },
  {
   "cell_type": "markdown",
   "id": "5c3498b1",
   "metadata": {},
   "source": [
    "#### Positional Min and Max\n",
    "\n",
    "We can also find the position of the minimum and maximum values in a tensor using the `torch.min` and `torch.max` functions.\n",
    "\n",
    "These functions return both the value and the index of the minimum or maximum value in the tensor.\n"
   ]
  },
  {
   "cell_type": "code",
   "execution_count": 27,
   "id": "e6bba22e",
   "metadata": {},
   "outputs": [
    {
     "name": "stdout",
     "output_type": "stream",
     "text": [
      "Tensor: tensor([10, 20, 30, 40, 50, 60, 70, 80, 90])\n",
      "Index of Minimum Value: 0\n",
      "Index of Maximum Value: 8\n",
      "Index of Minimum Value: 0\n",
      "Index of Maximum Value: 8\n"
     ]
    }
   ],
   "source": [
    "tensor = torch.arange(start=10, end=100, step=10)\n",
    "print(f\"Tensor: {tensor}\")\n",
    "\n",
    "print(f\"Index of Minimum Value: {torch.argmin(tensor)}\")\n",
    "print(f\"Index of Maximum Value: {torch.argmax(tensor)}\")"
   ]
  },
  {
   "cell_type": "markdown",
   "id": "1808c34b",
   "metadata": {},
   "source": [
    "#### Changing Tensor Datatype\n",
    "\n",
    "We can change the data type of a tensor using the `tensor.type()` method or by using the `tensor.to()` method. This is useful when you need to perform operations that require a specific data type, such as converting an integer tensor to a float tensor for mathematical operations.\n"
   ]
  },
  {
   "cell_type": "code",
   "execution_count": 28,
   "id": "cd7f859b",
   "metadata": {},
   "outputs": [
    {
     "name": "stdout",
     "output_type": "stream",
     "text": [
      "Tensor Data Type: torch.float32\n",
      "Tensor Float16 Data Type: torch.float16\n",
      "Tensor Int8 Data Type: torch.int8\n"
     ]
    }
   ],
   "source": [
    "tensor = torch.arange(start=0.0, end=100.0, step=10.0)\n",
    "print(f\"Tensor Data Type: {tensor.dtype}\")\n",
    "\n",
    "tensor_float16 = tensor.type(torch.float16)\n",
    "print(f\"Tensor Float16 Data Type: {tensor_float16.dtype}\")\n",
    "\n",
    "tensor_int8 = tensor.type(torch.int8)\n",
    "print(f\"Tensor Int8 Data Type: {tensor_int8.dtype}\")"
   ]
  },
  {
   "cell_type": "markdown",
   "id": "e8a246b7",
   "metadata": {},
   "source": [
    "#### Reshaping, Stacking, Squeezing, and Unsqueezing Tensors\n",
    "\n",
    "Reshaping, stacking, squeezing, and unsqueezing tensors are common operations in deep learning. These operations allow you to change the shape of a tensor, combine multiple tensors, or add/remove dimensions.\n",
    "\n",
    "Below is a table summarizing these operations:\n",
    "| Operation | Description |\n",
    "| ----------- | --------------------------------------------------------------------------------------------- |\n",
    "| Reshape | Change the shape of a tensor without changing its data. |\n",
    "| View | Create a new tensor that shares the same data as the original tensor but with a different shape. |\n",
    "| Stack | Combine multiple tensors along a new dimension. |\n",
    "| Squeeze | Remove dimensions of size 1 from a tensor. |\n",
    "| Unsqueeze | Add a dimension of size 1 to a tensor. |\n",
    "| Permute | Change the order of dimensions in a tensor. |\n",
    "\n",
    "> Note: The `view` operation really only creates a new view of the same tensor. Changing the view changes the original tensor as well. This is different from `reshape`, which creates a new tensor with the same data but a different shape.\n"
   ]
  },
  {
   "cell_type": "code",
   "execution_count": 29,
   "id": "de7ddffc",
   "metadata": {},
   "outputs": [
    {
     "name": "stdout",
     "output_type": "stream",
     "text": [
      "Tensor: tensor([1., 2., 3., 4., 5., 6., 7.])\n",
      "Tensor Shape: torch.Size([7])\n",
      "\n",
      "Reshaped Tensor: tensor([[1., 2., 3., 4., 5., 6., 7.]])\n",
      "Reshaped Tensor Shape: torch.Size([1, 7])\n",
      "\n",
      "View Tensor: tensor([[1., 2., 3., 4., 5., 6., 7.]])\n",
      "View Tensor Shape: torch.Size([1, 7])\n",
      "\n",
      "Stacked Tensor: tensor([[1., 2., 3., 4., 5., 6., 7.],\n",
      "        [1., 2., 3., 4., 5., 6., 7.],\n",
      "        [1., 2., 3., 4., 5., 6., 7.],\n",
      "        [1., 2., 3., 4., 5., 6., 7.]])\n",
      "Stacked Tensor Shape: torch.Size([4, 7])\n",
      "\n",
      "Squeezed Tensor: tensor([1., 2., 3., 4., 5., 6., 7.])\n",
      "Squeezed Tensor Shape: torch.Size([7])\n",
      "\n",
      "Unsqueezed Tensor: tensor([[1., 2., 3., 4., 5., 6., 7.]])\n",
      "Unsqueezed Tensor Shape: torch.Size([1, 7])\n"
     ]
    }
   ],
   "source": [
    "x = torch.arange(start=1.0, end=8.0, step=1.0)\n",
    "print(f\"Tensor: {x}\")\n",
    "print(f\"Tensor Shape: {x.shape}\")\n",
    "\n",
    "# Add extra dimension\n",
    "x_reshaped = x.reshape(1, 7)\n",
    "print(f\"\\nReshaped Tensor: {x_reshaped}\")\n",
    "print(f\"Reshaped Tensor Shape: {x_reshaped.shape}\")\n",
    "\n",
    "# Change View\n",
    "z = x.view(1, 7)\n",
    "print(f\"\\nView Tensor: {z}\")\n",
    "print(f\"View Tensor Shape: {z.shape}\")\n",
    "\n",
    "# Stack Tensors\n",
    "x_stacked = torch.stack([x, x, x, x], dim=0)  # Change dim to 1 and see the difference\n",
    "print(f\"\\nStacked Tensor: {x_stacked}\")\n",
    "print(f\"Stacked Tensor Shape: {x_stacked.shape}\")\n",
    "\n",
    "# Squeeze\n",
    "x_squeezed = x_reshaped.squeeze()\n",
    "print(f\"\\nSqueezed Tensor: {x_squeezed}\")\n",
    "print(f\"Squeezed Tensor Shape: {x_squeezed.shape}\")\n",
    "\n",
    "# Unsqueeze\n",
    "x_unsqueezed = x_squeezed.unsqueeze(dim=0)\n",
    "print(f\"\\nUnsqueezed Tensor: {x_unsqueezed}\")\n",
    "print(f\"Unsqueezed Tensor Shape: {x_unsqueezed.shape}\")"
   ]
  },
  {
   "cell_type": "code",
   "execution_count": 30,
   "id": "5615ed80",
   "metadata": {},
   "outputs": [
    {
     "name": "stdout",
     "output_type": "stream",
     "text": [
      "Original Tensor Shape: torch.Size([224, 224, 3])\n",
      "Permuted Tensor Shape: torch.Size([3, 224, 224])\n"
     ]
    }
   ],
   "source": [
    "# Permute\n",
    "x_original = torch.rand(size=(224, 224, 3))\n",
    "print(f\"Original Tensor Shape: {x_original.shape}\")\n",
    "\n",
    "x_permuted = x_original.permute(\n",
    "    2, 0, 1\n",
    ")  # Shifts axis order from (224, 224, 3) to (3, 224, 224)\n",
    "print(f\"Permuted Tensor Shape: {x_permuted.shape}\")"
   ]
  },
  {
   "cell_type": "markdown",
   "id": "226aa029",
   "metadata": {},
   "source": [
    "### Selecting Data From Tensors (Indexing)\n",
    "\n",
    "Indexing is a powerful feature in PyTorch that allows you to select specific elements or slices from a tensor. This is similar to how you would index into a list or an array in Python.\n",
    "\n",
    "You can use indexing to access specific elements, slices, or even entire dimensions of a tensor. This is useful for extracting features, manipulating data, or performing operations on specific parts of a tensor.\n"
   ]
  },
  {
   "cell_type": "code",
   "execution_count": 31,
   "id": "2e878f50",
   "metadata": {},
   "outputs": [
    {
     "name": "stdout",
     "output_type": "stream",
     "text": [
      "Original Tensor: tensor([[[1, 2, 3],\n",
      "         [4, 5, 6],\n",
      "         [7, 8, 9]]])\n",
      "Original Tensor Shape: torch.Size([1, 3, 3])\n"
     ]
    }
   ],
   "source": [
    "x = torch.arange(1, 10).reshape(1, 3, 3)\n",
    "\n",
    "print(f\"Original Tensor: {x}\")\n",
    "print(f\"Original Tensor Shape: {x.shape}\")"
   ]
  },
  {
   "cell_type": "code",
   "execution_count": 32,
   "id": "5dcf04ee",
   "metadata": {},
   "outputs": [
    {
     "name": "stdout",
     "output_type": "stream",
     "text": [
      "First Square Bracket: tensor([[1, 2, 3],\n",
      "        [4, 5, 6],\n",
      "        [7, 8, 9]])\n",
      "Second Square Bracket: tensor([1, 2, 3])\n",
      "Third Square Bracket: 1\n"
     ]
    }
   ],
   "source": [
    "print(f\"First Square Bracket: {x[0]}\")\n",
    "print(f\"Second Square Bracket: {x[0][0]}\")\n",
    "print(f\"Third Square Bracket: {x[0][0][0]}\")"
   ]
  },
  {
   "cell_type": "code",
   "execution_count": 33,
   "id": "37b54926",
   "metadata": {},
   "outputs": [
    {
     "name": "stdout",
     "output_type": "stream",
     "text": [
      "All values in the first dimension: tensor([1])\n",
      "All values in the second dimension: tensor([1, 4, 7])\n",
      "All values in the third dimension: tensor([1, 2, 3])\n",
      "All values in the first and second dimensions: tensor([[1, 4, 7]])\n",
      "All values in the first and third dimensions: tensor([[1, 2, 3]])\n",
      "All values in the second and third dimensions: tensor([[1, 2, 3],\n",
      "        [4, 5, 6],\n",
      "        [7, 8, 9]])\n"
     ]
    }
   ],
   "source": [
    "print(f\"All values in the first dimension: {x[:, 0, 0]}\")\n",
    "print(f\"All values in the second dimension: {x[0, :, 0]}\")\n",
    "print(f\"All values in the third dimension: {x[0, 0, :]}\")\n",
    "print(f\"All values in the first and second dimensions: {x[:, :, 0]}\")\n",
    "print(f\"All values in the first and third dimensions: {x[:, 0, :]}\")\n",
    "print(f\"All values in the second and third dimensions: {x[0, :, :]}\")"
   ]
  },
  {
   "cell_type": "markdown",
   "id": "ff1b22e8",
   "metadata": {},
   "source": [
    "## Extra Reading\n",
    "\n",
    "- [What's a Tensor?](https://www.youtube.com/watch?v=f5liqUk0ZTw)\n",
    "- [PyTorch Tensors: A Deeper Dive](https://docs.pytorch.org/tutorials/beginner/introyt/tensors_deeper_tutorial.html)\n"
   ]
  },
  {
   "cell_type": "code",
   "execution_count": null,
   "id": "4f13c860",
   "metadata": {},
   "outputs": [],
   "source": []
  }
 ],
 "metadata": {
  "kernelspec": {
   "display_name": "venv",
   "language": "python",
   "name": "python3"
  },
  "language_info": {
   "codemirror_mode": {
    "name": "ipython",
    "version": 3
   },
   "file_extension": ".py",
   "mimetype": "text/x-python",
   "name": "python",
   "nbconvert_exporter": "python",
   "pygments_lexer": "ipython3",
   "version": "3.11.5"
  }
 },
 "nbformat": 4,
 "nbformat_minor": 5
}
