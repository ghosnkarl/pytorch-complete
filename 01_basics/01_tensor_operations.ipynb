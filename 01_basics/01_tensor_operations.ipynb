{
 "cells": [
  {
   "cell_type": "markdown",
   "id": "125f83a0",
   "metadata": {},
   "source": [
    "# 01. Tensor Operations\n"
   ]
  },
  {
   "cell_type": "markdown",
   "id": "f5779cb5",
   "metadata": {},
   "source": [
    "## Tensors\n",
    "\n",
    "Tensors are the fundamental building block of machine learning, and they represent data in a numerical way.\n",
    "\n",
    "Let's say we need to represent the a _gray_ image of the number `2` as a tensor with height and width of 16 pixels. The tensor shape would be `[1, 16, 16]`, which means:\n",
    "\n",
    "- 1: color_channels\n",
    "- 16: height\n",
    "- 16: width\n",
    "\n",
    "**The color_channels is `1` because the image is gray. If the image is colored, it would have `3` color channels (red, green and blue).**\n"
   ]
  },
  {
   "cell_type": "markdown",
   "id": "807f3d5d",
   "metadata": {},
   "source": [
    "### Grayscale Image\n",
    "\n",
    "Let's represent the grayscale image for the number `2`.\n",
    "\n",
    "Here the tensor representation has the following shape: `[1, height, width]`.\n",
    "\n",
    "<img src=\"../09_images/01-digit.png\" alt=\"Digit image\" width=\"400\" height=\"400\">\n"
   ]
  },
  {
   "cell_type": "markdown",
   "id": "064e57be",
   "metadata": {},
   "source": [
    "### Colored Image\n",
    "\n",
    "Below is a colored image.\n",
    "\n",
    "The tensor representation has the following shape: `[3, height, width]`.\n",
    "\n",
    "<img src=\"../09_images/02-rgb_image.png\" alt=\"Colored image\" width=\"800\">\n"
   ]
  },
  {
   "cell_type": "markdown",
   "id": "54c8efa5",
   "metadata": {},
   "source": [
    "### Creating tensors\n"
   ]
  },
  {
   "cell_type": "code",
   "execution_count": null,
   "id": "17d283df",
   "metadata": {},
   "outputs": [],
   "source": []
  }
 ],
 "metadata": {
  "kernelspec": {
   "display_name": "venv",
   "language": "python",
   "name": "python3"
  },
  "language_info": {
   "codemirror_mode": {
    "name": "ipython",
    "version": 3
   },
   "file_extension": ".py",
   "mimetype": "text/x-python",
   "name": "python",
   "nbconvert_exporter": "python",
   "pygments_lexer": "ipython3",
   "version": "3.11.5"
  }
 },
 "nbformat": 4,
 "nbformat_minor": 5
}
