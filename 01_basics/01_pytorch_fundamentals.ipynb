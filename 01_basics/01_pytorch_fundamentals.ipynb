{
 "cells": [
  {
   "cell_type": "markdown",
   "id": "0d81f5c1",
   "metadata": {},
   "source": [
    "# 01. PyTorch Fundamentals 🔥\n",
    "\n",
    "Welcome to PyTorch! Now that you understand what machine learning is, let's dive into the framework that will power your AI journey.\n",
    "\n",
    "By the end of this notebook, you'll understand:\n",
    "\n",
    "- 🔥 **What PyTorch is** and why it's amazing for machine learning\n",
    "- 🏗️ **Tensors**: The fundamental building blocks of PyTorch\n",
    "- ⚡ **Device management**: CPU vs GPU computation\n",
    "- 🧮 **Basic tensor operations** and mathematics\n",
    "- 📊 **Visualization** with PyTorch tensors\n",
    "- 🚀 **Your first neural network** with PyTorch!\n",
    "\n",
    "Let's get started! 🚀\n"
   ]
  },
  {
   "cell_type": "markdown",
   "id": "b8e64aa1",
   "metadata": {},
   "source": [
    "## What is PyTorch? 🤔\n",
    "\n",
    "PyTorch is like a **supercharged version of NumPy** designed specifically for machine learning. Think of it as:\n",
    "\n",
    "### 🧮 NumPy + Superpowers = PyTorch\n",
    "\n",
    "| Feature                      | NumPy        | PyTorch        |\n",
    "| ---------------------------- | ------------ | -------------- |\n",
    "| **Multi-dimensional arrays** | ✅ Arrays    | ✅ Tensors     |\n",
    "| **Mathematical operations**  | ✅ Fast      | ✅ Even Faster |\n",
    "| **GPU acceleration**         | ❌ CPU only  | ✅ GPU + CPU   |\n",
    "| **Automatic gradients**      | ❌ Manual    | ✅ Automatic   |\n",
    "| **Neural networks**          | 😰 Complex   | 😎 Easy        |\n",
    "| **Deep learning**            | 💀 Very hard | 🚀 Built-in    |\n",
    "\n",
    "### 🎯 Key PyTorch Concepts:\n",
    "\n",
    "1. **Tensors**: Multi-dimensional arrays (like NumPy arrays, but better)\n",
    "2. **Autograd**: Automatic differentiation (computes gradients for you)\n",
    "3. **Neural Networks**: Pre-built components for deep learning\n",
    "4. **GPU Support**: Lightning-fast computation on graphics cards\n",
    "5. **Dynamic Graphs**: Flexible networks that can change during runtime\n"
   ]
  },
  {
   "cell_type": "markdown",
   "id": "ff7cc484",
   "metadata": {},
   "source": [
    "## Setting Up PyTorch 🛠️\n",
    "\n",
    "Let's start by importing PyTorch and checking our setup:\n"
   ]
  },
  {
   "cell_type": "code",
   "execution_count": 21,
   "id": "ca3a3649",
   "metadata": {},
   "outputs": [
    {
     "name": "stdout",
     "output_type": "stream",
     "text": [
      "🔥 PyTorch Setup Information\n",
      "========================================\n",
      "PyTorch version: 2.7.1\n",
      "\n",
      "💻 Available Devices:\n",
      "CPU: ✅ Always available\n",
      "CUDA GPU: ❌ Not available (CPU only)\n",
      "MPS (Apple Silicon): ✅ Available\n",
      "\n",
      "🎯 Ready to learn PyTorch!\n"
     ]
    }
   ],
   "source": [
    "# Import PyTorch and related libraries\n",
    "import torch\n",
    "import numpy as np\n",
    "import matplotlib.pyplot as plt\n",
    "import seaborn as sns\n",
    "from IPython.display import Image, HTML\n",
    "\n",
    "# Set style for better-looking plots\n",
    "plt.style.use(\"seaborn-v0_8\")\n",
    "sns.set_palette(\"husl\")\n",
    "\n",
    "print(\"🔥 PyTorch Setup Information\")\n",
    "print(\"=\" * 40)\n",
    "print(f\"PyTorch version: {torch.__version__}\")\n",
    "\n",
    "# Check device availability\n",
    "print(\"\\n💻 Available Devices:\")\n",
    "print(f\"CPU: ✅ Always available\")\n",
    "\n",
    "# Check CUDA (NVIDIA GPU)\n",
    "if torch.cuda.is_available():\n",
    "    print(f\"CUDA GPU: ✅ {torch.cuda.get_device_name(0)}\")\n",
    "    print(f\"CUDA version: {torch.version.cuda}\")\n",
    "    print(f\"Number of GPUs: {torch.cuda.device_count()}\")\n",
    "else:\n",
    "    print(\"CUDA GPU: ❌ Not available (CPU only)\")\n",
    "\n",
    "# Check MPS (Apple Silicon GPU)\n",
    "if hasattr(torch.backends, \"mps\") and torch.backends.mps.is_available():\n",
    "    print(\"MPS (Apple Silicon): ✅ Available\")\n",
    "else:\n",
    "    print(\"MPS (Apple Silicon): ❌ Not available\")\n",
    "\n",
    "print(\"\\n🎯 Ready to learn PyTorch!\")"
   ]
  },
  {
   "cell_type": "markdown",
   "id": "6a84c559",
   "metadata": {},
   "source": [
    "## Device Management: CPU vs GPU ⚡\n",
    "\n",
    "One of PyTorch's superpowers is the ability to run computations on different devices. Let's understand this:\n"
   ]
  },
  {
   "cell_type": "code",
   "execution_count": 22,
   "id": "64684829",
   "metadata": {},
   "outputs": [
    {
     "name": "stdout",
     "output_type": "stream",
     "text": [
      "🎯 Selected device: mps\n",
      "📱 Device name: Apple Silicon GPU\n",
      "⚡ Device type: Apple GPU\n"
     ]
    }
   ],
   "source": [
    "# Let's determine the best device for our computations\n",
    "def get_device():\n",
    "    \"\"\"Get the best available device for PyTorch computations\"\"\"\n",
    "    if torch.cuda.is_available():\n",
    "        device = torch.device(\"cuda\")\n",
    "        device_name = torch.cuda.get_device_name(0)\n",
    "        device_type = \"NVIDIA GPU\"\n",
    "    elif hasattr(torch.backends, \"mps\") and torch.backends.mps.is_available():\n",
    "        device = torch.device(\"mps\")\n",
    "        device_name = \"Apple Silicon GPU\"\n",
    "        device_type = \"Apple GPU\"\n",
    "    else:\n",
    "        device = torch.device(\"cpu\")\n",
    "        device_name = \"CPU\"\n",
    "        device_type = \"CPU\"\n",
    "\n",
    "    return device, device_name, device_type\n",
    "\n",
    "\n",
    "device, device_name, device_type = get_device()\n",
    "\n",
    "print(f\"🎯 Selected device: {device}\")\n",
    "print(f\"📱 Device name: {device_name}\")\n",
    "print(f\"⚡ Device type: {device_type}\")"
   ]
  },
  {
   "cell_type": "code",
   "execution_count": 23,
   "id": "231149fa",
   "metadata": {},
   "outputs": [
    {
     "name": "stdout",
     "output_type": "stream",
     "text": [
      "\n",
      "🔢 Sample tensor: tensor([1, 2, 3, 4, 5], device='mps:0')\n",
      "📍 Tensor device: mps:0\n",
      "🔍 Tensor dtype: torch.int64\n",
      "📏 Tensor shape: torch.Size([5])\n",
      "\n",
      "🚀 Why Device Selection Matters:\n",
      "✅ Using Apple Silicon: Efficient and fast!\n",
      "🔋 Great balance of speed and power efficiency\n"
     ]
    }
   ],
   "source": [
    "# Create a simple tensor and move it to our device\n",
    "x = torch.tensor([1, 2, 3, 4, 5], device=device)\n",
    "print(f\"\\n🔢 Sample tensor: {x}\")\n",
    "print(f\"📍 Tensor device: {x.device}\")\n",
    "print(f\"🔍 Tensor dtype: {x.dtype}\")\n",
    "print(f\"📏 Tensor shape: {x.shape}\")\n",
    "\n",
    "# Why device matters?\n",
    "print(\"\\n🚀 Why Device Selection Matters:\")\n",
    "if device.type == \"cuda\":\n",
    "    print(\"✅ Using GPU: 10-100x faster for large computations!\")\n",
    "    print(\"⚡ Perfect for training neural networks\")\n",
    "elif device.type == \"mps\":\n",
    "    print(\"✅ Using Apple Silicon: Efficient and fast!\")\n",
    "    print(\"🔋 Great balance of speed and power efficiency\")\n",
    "else:\n",
    "    print(\"✅ Using CPU: Always works, good for learning\")\n",
    "    print(\"📚 Perfect for understanding concepts\")"
   ]
  },
  {
   "cell_type": "markdown",
   "id": "d6a3be76",
   "metadata": {},
   "source": [
    "## Understanding Tensors 📊\n",
    "\n",
    "**Tensors are the foundation of PyTorch.** Think of them as multi-dimensional arrays with superpowers!\n",
    "\n",
    "### 🎯 Tensor Dimensions Explained:\n",
    "\n",
    "- **0D Tensor (Scalar)**: A single number → `5`\n",
    "- **1D Tensor (Vector)**: A list of numbers → `[1, 2, 3]`\n",
    "- **2D Tensor (Matrix)**: A table of numbers → `[[1, 2], [3, 4]]`\n",
    "- **3D Tensor**: A cube of numbers → Used for RGB images\n",
    "- **4D Tensor**: Multiple cubes → Batch of images\n",
    "- **nD Tensor**: As many dimensions as you need!\n",
    "\n",
    "<img src=\"../09_images/01_tensors.png\" alt=\"Tensor Dimensions\" width=\"1000\">\n"
   ]
  },
  {
   "cell_type": "code",
   "execution_count": 24,
   "id": "fbf1c04f",
   "metadata": {},
   "outputs": [
    {
     "name": "stdout",
     "output_type": "stream",
     "text": [
      "0D Tensor (Scalar): 42\n",
      "   Shape: torch.Size([]), Dimensions: 0\n"
     ]
    }
   ],
   "source": [
    "# 0D Tensor (Scalar)\n",
    "scalar = torch.tensor(42)\n",
    "print(f\"0D Tensor (Scalar): {scalar}\")\n",
    "print(f\"   Shape: {scalar.shape}, Dimensions: {scalar.ndim}\")"
   ]
  },
  {
   "cell_type": "code",
   "execution_count": 25,
   "id": "f59f942b",
   "metadata": {},
   "outputs": [
    {
     "name": "stdout",
     "output_type": "stream",
     "text": [
      "\n",
      "1D Tensor (Vector): tensor([1, 2, 3, 4, 5])\n",
      "   Shape: torch.Size([5]), Dimensions: 1\n"
     ]
    }
   ],
   "source": [
    "# 1D Tensor (Vector)\n",
    "vector = torch.tensor([1, 2, 3, 4, 5])\n",
    "print(f\"\\n1D Tensor (Vector): {vector}\")\n",
    "print(f\"   Shape: {vector.shape}, Dimensions: {vector.ndim}\")"
   ]
  },
  {
   "cell_type": "code",
   "execution_count": 26,
   "id": "253b77b0",
   "metadata": {},
   "outputs": [
    {
     "name": "stdout",
     "output_type": "stream",
     "text": [
      "\n",
      "2D Tensor (Matrix):\n",
      "tensor([[1, 2, 3],\n",
      "        [4, 5, 6]])\n",
      "   Shape: torch.Size([2, 3]), Dimensions: 2\n"
     ]
    }
   ],
   "source": [
    "# 2D Tensor (Matrix)\n",
    "matrix = torch.tensor([[1, 2, 3], [4, 5, 6]])\n",
    "print(f\"\\n2D Tensor (Matrix):\\n{matrix}\")\n",
    "print(f\"   Shape: {matrix.shape}, Dimensions: {matrix.ndim}\")"
   ]
  },
  {
   "cell_type": "code",
   "execution_count": 27,
   "id": "8772f52c",
   "metadata": {},
   "outputs": [
    {
     "name": "stdout",
     "output_type": "stream",
     "text": [
      "\n",
      "3D Tensor:\n",
      "tensor([[[1, 2],\n",
      "         [3, 4]],\n",
      "\n",
      "        [[5, 6],\n",
      "         [7, 8]]])\n",
      "   Shape: torch.Size([2, 2, 2]), Dimensions: 3\n"
     ]
    }
   ],
   "source": [
    "# 3D Tensor\n",
    "tensor_3d = torch.tensor([[[1, 2], [3, 4]], [[5, 6], [7, 8]]])\n",
    "print(f\"\\n3D Tensor:\\n{tensor_3d}\")\n",
    "print(f\"   Shape: {tensor_3d.shape}, Dimensions: {tensor_3d.ndim}\")"
   ]
  },
  {
   "cell_type": "markdown",
   "id": "0b09548b",
   "metadata": {},
   "source": [
    "## Creating Tensors 🏗️\n",
    "\n",
    "There are many ways to create tensors in PyTorch. Let's explore the most common methods:\n"
   ]
  },
  {
   "cell_type": "code",
   "execution_count": 28,
   "id": "c92f32a5",
   "metadata": {},
   "outputs": [
    {
     "name": "stdout",
     "output_type": "stream",
     "text": [
      "From list: tensor([1, 2, 3, 4, 5])\n"
     ]
    }
   ],
   "source": [
    "# 1. From Python lists\n",
    "from_list = torch.tensor([1, 2, 3, 4, 5])\n",
    "print(f\"From list: {from_list}\")"
   ]
  },
  {
   "cell_type": "code",
   "execution_count": 29,
   "id": "75ac182c",
   "metadata": {},
   "outputs": [
    {
     "name": "stdout",
     "output_type": "stream",
     "text": [
      "From NumPy: tensor([1, 2, 3, 4, 5])\n"
     ]
    }
   ],
   "source": [
    "# 2. From NumPy arrays\n",
    "numpy_array = np.array([1, 2, 3, 4, 5])\n",
    "from_numpy = torch.from_numpy(numpy_array)\n",
    "print(f\"From NumPy: {from_numpy}\")"
   ]
  },
  {
   "cell_type": "code",
   "execution_count": 30,
   "id": "5a249e7f",
   "metadata": {},
   "outputs": [
    {
     "name": "stdout",
     "output_type": "stream",
     "text": [
      "Zeros tensor (3x4):\n",
      "tensor([[0., 0., 0., 0.],\n",
      "        [0., 0., 0., 0.],\n",
      "        [0., 0., 0., 0.]])\n"
     ]
    }
   ],
   "source": [
    "# 3. Filled with zeros\n",
    "zeros_tensor = torch.zeros(3, 4)  # 3x4 matrix of zeros\n",
    "print(f\"Zeros tensor (3x4):\\n{zeros_tensor}\")"
   ]
  },
  {
   "cell_type": "code",
   "execution_count": 31,
   "id": "2ddff7c9",
   "metadata": {},
   "outputs": [
    {
     "name": "stdout",
     "output_type": "stream",
     "text": [
      "Ones tensor (2x3):\n",
      "tensor([[1., 1., 1.],\n",
      "        [1., 1., 1.]])\n"
     ]
    }
   ],
   "source": [
    "# 4. Filled with ones\n",
    "ones_tensor = torch.ones(2, 3)  # 2x3 matrix of ones\n",
    "print(f\"Ones tensor (2x3):\\n{ones_tensor}\")"
   ]
  },
  {
   "cell_type": "code",
   "execution_count": 32,
   "id": "7690faa0",
   "metadata": {},
   "outputs": [
    {
     "name": "stdout",
     "output_type": "stream",
     "text": [
      "Random tensor (2x3):\n",
      "tensor([[0.3329, 0.2069, 0.2815],\n",
      "        [0.8387, 0.6445, 0.5448]])\n"
     ]
    }
   ],
   "source": [
    "# 5. Random numbers\n",
    "random_tensor = torch.rand(2, 3)  # Random numbers between 0 and 1\n",
    "print(f\"Random tensor (2x3):\\n{random_tensor}\")"
   ]
  },
  {
   "cell_type": "code",
   "execution_count": 33,
   "id": "f7654bc0",
   "metadata": {},
   "outputs": [
    {
     "name": "stdout",
     "output_type": "stream",
     "text": [
      "Random integers (3x3, 0-9):\n",
      "tensor([[3, 5, 3],\n",
      "        [9, 6, 1],\n",
      "        [7, 3, 6]])\n"
     ]
    }
   ],
   "source": [
    "# 6. Random integers\n",
    "random_int = torch.randint(0, 10, (3, 3))  # Random integers 0-9\n",
    "print(f\"Random integers (3x3, 0-9):\\n{random_int}\")"
   ]
  },
  {
   "cell_type": "code",
   "execution_count": 34,
   "id": "12733b80",
   "metadata": {},
   "outputs": [
    {
     "name": "stdout",
     "output_type": "stream",
     "text": [
      "Linear sequence (0 to 10, step 2): tensor([0, 2, 4, 6, 8])\n"
     ]
    }
   ],
   "source": [
    "# 7. Linear sequence\n",
    "linear_seq = torch.arange(0, 10, 2)  # 0, 2, 4, 6, 8\n",
    "print(f\"Linear sequence (0 to 10, step 2): {linear_seq}\")"
   ]
  },
  {
   "cell_type": "code",
   "execution_count": 35,
   "id": "8ddb80cd",
   "metadata": {},
   "outputs": [
    {
     "name": "stdout",
     "output_type": "stream",
     "text": [
      "Linspace (0 to 1, 5 points): tensor([0.0000, 0.2500, 0.5000, 0.7500, 1.0000])\n"
     ]
    }
   ],
   "source": [
    "# 8. Linearly spaced\n",
    "linspace = torch.linspace(0, 1, 5)  # 5 evenly spaced numbers from 0 to 1\n",
    "print(f\"Linspace (0 to 1, 5 points): {linspace}\")"
   ]
  },
  {
   "cell_type": "code",
   "execution_count": 36,
   "id": "6203b415",
   "metadata": {},
   "outputs": [
    {
     "name": "stdout",
     "output_type": "stream",
     "text": [
      "Template tensor:\n",
      "tensor([[1, 2],\n",
      "        [3, 4]])\n",
      "Zeros like template:\n",
      "tensor([[0, 0],\n",
      "        [0, 0]])\n",
      "Ones like template:\n",
      "tensor([[1, 1],\n",
      "        [1, 1]])\n"
     ]
    }
   ],
   "source": [
    "# 9. Like another tensor (same shape)\n",
    "template = torch.tensor([[1, 2], [3, 4]])\n",
    "zeros_like = torch.zeros_like(template)\n",
    "ones_like = torch.ones_like(template)\n",
    "print(f\"Template tensor:\\n{template}\")\n",
    "print(f\"Zeros like template:\\n{zeros_like}\")\n",
    "print(f\"Ones like template:\\n{ones_like}\")"
   ]
  },
  {
   "cell_type": "markdown",
   "id": "406d6f0d",
   "metadata": {},
   "source": [
    "## Tensor Properties and Information 🔍\n",
    "\n",
    "Every tensor has important properties that tell us about its structure and data:\n"
   ]
  },
  {
   "cell_type": "code",
   "execution_count": 37,
   "id": "6211e02e",
   "metadata": {},
   "outputs": [
    {
     "name": "stdout",
     "output_type": "stream",
     "text": [
      "🔍 Tensor Properties\n",
      "==============================\n",
      "Tensor: Random tensor with shape (3, 4, 5)\n",
      "Shape: torch.Size([3, 4, 5]) or torch.Size([3, 4, 5])\n",
      "Number of dimensions: 3\n",
      "Total number of elements: 60\n",
      "Data type: torch.float32\n",
      "Device: cpu\n",
      "Requires gradient: False\n",
      "\n",
      "📏 Understanding Shape:\n",
      "Shape torch.Size([3, 4, 5]) means:\n",
      "  - 3 'matrices' (first dimension)\n",
      "  - Each matrix has 4 rows (second dimension)\n",
      "  - Each row has 5 columns (third dimension)\n"
     ]
    }
   ],
   "source": [
    "# Create a sample tensor for demonstration\n",
    "sample_tensor = torch.randn(3, 4, 5)  # Random tensor with shape (3, 4, 5)\n",
    "\n",
    "print(\"🔍 Tensor Properties\")\n",
    "print(\"=\" * 30)\n",
    "\n",
    "print(f\"Tensor: Random tensor with shape (3, 4, 5)\")\n",
    "print(f\"Shape: {sample_tensor.shape} or {sample_tensor.size()}\")\n",
    "print(f\"Number of dimensions: {sample_tensor.ndim}\")\n",
    "print(f\"Total number of elements: {sample_tensor.numel()}\")\n",
    "print(f\"Data type: {sample_tensor.dtype}\")\n",
    "print(f\"Device: {sample_tensor.device}\")\n",
    "print(f\"Requires gradient: {sample_tensor.requires_grad}\")\n",
    "\n",
    "# Shape explanation\n",
    "print(\"\\n📏 Understanding Shape:\")\n",
    "print(f\"Shape {sample_tensor.shape} means:\")\n",
    "print(f\"  - 3 'matrices' (first dimension)\")\n",
    "print(f\"  - Each matrix has 4 rows (second dimension)\")\n",
    "print(f\"  - Each row has 5 columns (third dimension)\")"
   ]
  },
  {
   "cell_type": "code",
   "execution_count": 38,
   "id": "90c98d34",
   "metadata": {},
   "outputs": [
    {
     "name": "stdout",
     "output_type": "stream",
     "text": [
      "\n",
      "🔢 Common PyTorch Data Types:\n",
      "  torch.float32 (default): tensor([1., 2.]) (dtype: torch.float32)\n",
      "  torch.int64: tensor([1, 2]) (dtype: torch.int64)\n",
      "  torch.bool: tensor([ True, False]) (dtype: torch.bool)\n",
      "  torch.float16 (half precision): tensor([1., 2.], dtype=torch.float16) (dtype: torch.float16)\n",
      "\n",
      "💡 Pro Tip: Different data types use different amounts of memory!\n",
      "   float32 = 4 bytes per number\n",
      "   float16 = 2 bytes per number (saves memory!)\n",
      "   int64 = 8 bytes per number\n"
     ]
    }
   ],
   "source": [
    "# Common data types\n",
    "print(\"\\n🔢 Common PyTorch Data Types:\")\n",
    "types_demo = {\n",
    "    \"torch.float32 (default)\": torch.tensor([1.0, 2.0]),\n",
    "    \"torch.int64\": torch.tensor([1, 2]),\n",
    "    \"torch.bool\": torch.tensor([True, False]),\n",
    "    \"torch.float16 (half precision)\": torch.tensor([1.0, 2.0], dtype=torch.float16),\n",
    "}\n",
    "\n",
    "for name, tensor in types_demo.items():\n",
    "    print(f\"  {name}: {tensor} (dtype: {tensor.dtype})\")\n",
    "\n",
    "print(\"\\n💡 Pro Tip: Different data types use different amounts of memory!\")\n",
    "print(\"   float32 = 4 bytes per number\")\n",
    "print(\"   float16 = 2 bytes per number (saves memory!)\")\n",
    "print(\"   int64 = 8 bytes per number\")"
   ]
  },
  {
   "cell_type": "markdown",
   "id": "f512bdaf",
   "metadata": {},
   "source": [
    "## Basic Tensor Operations 🧮\n",
    "\n",
    "Now let's learn the fundamental operations you can perform with tensors:\n"
   ]
  },
  {
   "cell_type": "code",
   "execution_count": 39,
   "id": "de3272a6",
   "metadata": {},
   "outputs": [
    {
     "name": "stdout",
     "output_type": "stream",
     "text": [
      "🧮 Basic Tensor Operations\n",
      "==============================\n",
      "Tensor a: tensor([1, 2, 3, 4])\n",
      "Tensor b: tensor([5, 6, 7, 8])\n",
      "\n",
      "➕ Arithmetic Operations:\n",
      "Addition: tensor([1, 2, 3, 4]) + tensor([5, 6, 7, 8]) = tensor([ 6,  8, 10, 12])\n",
      "Subtraction: tensor([1, 2, 3, 4]) - tensor([5, 6, 7, 8]) = tensor([-4, -4, -4, -4])\n",
      "Multiplication: tensor([1, 2, 3, 4]) * tensor([5, 6, 7, 8]) = tensor([ 5, 12, 21, 32])\n",
      "Division: tensor([1, 2, 3, 4]) / tensor([5, 6, 7, 8]) = tensor([0.2000, 0.3333, 0.4286, 0.5000])\n",
      "Power: tensor([1, 2, 3, 4]) ** 2 = tensor([ 1,  4,  9, 16])\n",
      "\n",
      "🔢 Statistical Operations:\n",
      "Sum: 10\n",
      "Mean: 2.50\n",
      "Max: 4\n",
      "Min: 1\n",
      "Standard deviation: 1.29\n",
      "\n",
      "🔄 Matrix Operations:\n",
      "Matrix A:\n",
      "tensor([[1, 2],\n",
      "        [3, 4]])\n",
      "Matrix B:\n",
      "tensor([[5, 6],\n",
      "        [7, 8]])\n",
      "\n",
      "Matrix multiplication:\n",
      "tensor([[19, 22],\n",
      "        [43, 50]])\n",
      "\n",
      "Transpose of A:\n",
      "tensor([[1, 3],\n",
      "        [2, 4]])\n",
      "\n",
      "⚡ Element-wise vs Matrix Multiplication:\n",
      "Element-wise (A * B):\n",
      "tensor([[ 5, 12],\n",
      "        [21, 32]])\n",
      "Matrix multiplication (A @ B):\n",
      "tensor([[19, 22],\n",
      "        [43, 50]])\n",
      "\n",
      "💡 Key Difference:\n",
      "   * : Element-wise (each element multiplied independently)\n",
      "   @ : Matrix multiplication (linear algebra rules)\n"
     ]
    }
   ],
   "source": [
    "print(\"🧮 Basic Tensor Operations\")\n",
    "print(\"=\" * 30)\n",
    "\n",
    "# Create some sample tensors\n",
    "a = torch.tensor([1, 2, 3, 4])\n",
    "b = torch.tensor([5, 6, 7, 8])\n",
    "matrix_a = torch.tensor([[1, 2], [3, 4]])\n",
    "matrix_b = torch.tensor([[5, 6], [7, 8]])\n",
    "\n",
    "print(f\"Tensor a: {a}\")\n",
    "print(f\"Tensor b: {b}\")\n",
    "print()\n",
    "\n",
    "# Arithmetic operations\n",
    "print(\"➕ Arithmetic Operations:\")\n",
    "print(f\"Addition: {a} + {b} = {a + b}\")\n",
    "print(f\"Subtraction: {a} - {b} = {a - b}\")\n",
    "print(f\"Multiplication: {a} * {b} = {a * b}\")\n",
    "print(f\"Division: {a} / {b} = {a / b}\")\n",
    "print(f\"Power: {a} ** 2 = {a ** 2}\")\n",
    "\n",
    "print(\"\\n🔢 Statistical Operations:\")\n",
    "print(f\"Sum: {a.sum()}\")\n",
    "print(f\"Mean: {a.float().mean():.2f}\")\n",
    "print(f\"Max: {a.max()}\")\n",
    "print(f\"Min: {a.min()}\")\n",
    "print(f\"Standard deviation: {a.float().std():.2f}\")\n",
    "\n",
    "print(\"\\n🔄 Matrix Operations:\")\n",
    "print(f\"Matrix A:\\n{matrix_a}\")\n",
    "print(f\"Matrix B:\\n{matrix_b}\")\n",
    "print(f\"\\nMatrix multiplication:\\n{torch.matmul(matrix_a, matrix_b)}\")\n",
    "print(f\"\\nTranspose of A:\\n{matrix_a.T}\")\n",
    "\n",
    "# Element-wise vs matrix multiplication\n",
    "print(\"\\n⚡ Element-wise vs Matrix Multiplication:\")\n",
    "print(f\"Element-wise (A * B):\\n{matrix_a * matrix_b}\")\n",
    "print(f\"Matrix multiplication (A @ B):\\n{matrix_a @ matrix_b}\")\n",
    "\n",
    "print(\"\\n💡 Key Difference:\")\n",
    "print(\"   * : Element-wise (each element multiplied independently)\")\n",
    "print(\"   @ : Matrix multiplication (linear algebra rules)\")"
   ]
  },
  {
   "cell_type": "markdown",
   "id": "b26a00c0",
   "metadata": {},
   "source": [
    "## Tensor Manipulation and Reshaping 🔄\n",
    "\n",
    "Often you'll need to change the shape of tensors. Let's learn how:\n"
   ]
  },
  {
   "cell_type": "code",
   "execution_count": 40,
   "id": "746938d2",
   "metadata": {},
   "outputs": [
    {
     "name": "stdout",
     "output_type": "stream",
     "text": [
      "🔄 Tensor Manipulation and Reshaping\n",
      "========================================\n",
      "Original tensor: tensor([ 0,  1,  2,  3,  4,  5,  6,  7,  8,  9, 10, 11])\n",
      "Shape: torch.Size([12])\n",
      "\n",
      "🔄 Reshaping Operations:\n",
      "\n",
      "Reshaped to 3x4:\n",
      "tensor([[ 0,  1,  2,  3],\n",
      "        [ 4,  5,  6,  7],\n",
      "        [ 8,  9, 10, 11]])\n",
      "\n",
      "Reshaped to 2x3x2:\n",
      "tensor([[[ 0,  1],\n",
      "         [ 2,  3],\n",
      "         [ 4,  5]],\n",
      "\n",
      "        [[ 6,  7],\n",
      "         [ 8,  9],\n",
      "         [10, 11]]])\n",
      "\n",
      "Auto-reshape (-1, 4):\n",
      "tensor([[ 0,  1,  2,  3],\n",
      "        [ 4,  5,  6,  7],\n",
      "        [ 8,  9, 10, 11]])\n",
      "PyTorch calculated first dimension as: 3\n",
      "\n",
      "👀 View vs Reshape:\n",
      "Using .view(3, 4):\n",
      "tensor([[ 0,  1,  2,  3],\n",
      "        [ 4,  5,  6,  7],\n",
      "        [ 8,  9, 10, 11]])\n",
      "💡 .view() and .reshape() often do the same thing\n",
      "   .view() is faster but requires contiguous memory\n",
      "   .reshape() always works but might copy data\n",
      "\n",
      "🗜️ Squeeze and Unsqueeze:\n",
      "Tensor with extra dimensions: tensor([[[1, 2, 3]]])\n",
      "Original shape: torch.Size([1, 1, 3])\n",
      "After squeeze(): tensor([1, 2, 3])\n",
      "Squeezed shape: torch.Size([3])\n",
      "After unsqueeze(0): tensor([[1, 2, 3]])\n",
      "Unsqueezed shape: torch.Size([1, 3])\n",
      "\n",
      "🎯 Flatten (very common in neural networks):\n",
      "Matrix:\n",
      "tensor([[1, 2, 3],\n",
      "        [4, 5, 6]])\n",
      "Flattened: tensor([1, 2, 3, 4, 5, 6])\n",
      "💡 Flattening is crucial when going from Conv layers to Dense layers!\n"
     ]
    }
   ],
   "source": [
    "print(\"🔄 Tensor Manipulation and Reshaping\")\n",
    "print(\"=\" * 40)\n",
    "\n",
    "# Start with a simple tensor\n",
    "original = torch.arange(12)  # [0, 1, 2, ..., 11]\n",
    "print(f\"Original tensor: {original}\")\n",
    "print(f\"Shape: {original.shape}\")\n",
    "\n",
    "# Reshape operations\n",
    "print(\"\\n🔄 Reshaping Operations:\")\n",
    "\n",
    "# Reshape to 2D\n",
    "reshaped_2d = original.reshape(3, 4)  # 3 rows, 4 columns\n",
    "print(f\"\\nReshaped to 3x4:\\n{reshaped_2d}\")\n",
    "\n",
    "# Reshape to 3D\n",
    "reshaped_3d = original.reshape(2, 3, 2)  # 2 matrices, 3 rows, 2 columns\n",
    "print(f\"\\nReshaped to 2x3x2:\\n{reshaped_3d}\")\n",
    "\n",
    "# Using -1 (automatic dimension)\n",
    "auto_reshape = original.reshape(-1, 4)  # PyTorch figures out the first dimension\n",
    "print(f\"\\nAuto-reshape (-1, 4):\\n{auto_reshape}\")\n",
    "print(f\"PyTorch calculated first dimension as: {auto_reshape.shape[0]}\")\n",
    "\n",
    "# View vs Reshape\n",
    "print(\"\\n👀 View vs Reshape:\")\n",
    "viewed = original.view(3, 4)\n",
    "print(f\"Using .view(3, 4):\\n{viewed}\")\n",
    "print(\"💡 .view() and .reshape() often do the same thing\")\n",
    "print(\"   .view() is faster but requires contiguous memory\")\n",
    "print(\"   .reshape() always works but might copy data\")\n",
    "\n",
    "# Squeeze and unsqueeze\n",
    "print(\"\\n🗜️ Squeeze and Unsqueeze:\")\n",
    "with_extra_dim = torch.tensor([[[1, 2, 3]]])  # Shape: (1, 1, 3)\n",
    "print(f\"Tensor with extra dimensions: {with_extra_dim}\")\n",
    "print(f\"Original shape: {with_extra_dim.shape}\")\n",
    "\n",
    "squeezed = with_extra_dim.squeeze()  # Remove dimensions of size 1\n",
    "print(f\"After squeeze(): {squeezed}\")\n",
    "print(f\"Squeezed shape: {squeezed.shape}\")\n",
    "\n",
    "unsqueezed = squeezed.unsqueeze(0)  # Add dimension at position 0\n",
    "print(f\"After unsqueeze(0): {unsqueezed}\")\n",
    "print(f\"Unsqueezed shape: {unsqueezed.shape}\")\n",
    "\n",
    "# Flatten\n",
    "print(\"\\n🎯 Flatten (very common in neural networks):\")\n",
    "matrix = torch.tensor([[1, 2, 3], [4, 5, 6]])\n",
    "flattened = matrix.flatten()\n",
    "print(f\"Matrix:\\n{matrix}\")\n",
    "print(f\"Flattened: {flattened}\")\n",
    "print(\"💡 Flattening is crucial when going from Conv layers to Dense layers!\")"
   ]
  },
  {
   "cell_type": "markdown",
   "id": "b1b4e0e4",
   "metadata": {},
   "source": [
    "## Indexing and Slicing 🎯\n",
    "\n",
    "Just like NumPy arrays, you can select specific elements or parts of tensors:\n"
   ]
  },
  {
   "cell_type": "code",
   "execution_count": 41,
   "id": "65fb8363",
   "metadata": {},
   "outputs": [
    {
     "name": "stdout",
     "output_type": "stream",
     "text": [
      "🎯 Tensor Indexing and Slicing\n",
      "===================================\n",
      "Sample tensor (4x6):\n",
      "tensor([[ 0,  1,  2,  3,  4,  5],\n",
      "        [ 6,  7,  8,  9, 10, 11],\n",
      "        [12, 13, 14, 15, 16, 17],\n",
      "        [18, 19, 20, 21, 22, 23]])\n",
      "\n",
      "🔍 Basic Indexing:\n",
      "First row: tensor([0, 1, 2, 3, 4, 5])\n",
      "Last row: tensor([18, 19, 20, 21, 22, 23])\n",
      "Element at position [1, 3]: 9\n",
      "First element of each row: tensor([ 0,  6, 12, 18])\n",
      "\n",
      "✂️ Slicing:\n",
      "First 2 rows:\n",
      "tensor([[ 0,  1,  2,  3,  4,  5],\n",
      "        [ 6,  7,  8,  9, 10, 11]])\n",
      "\n",
      "Last 3 columns:\n",
      "tensor([[ 3,  4,  5],\n",
      "        [ 9, 10, 11],\n",
      "        [15, 16, 17],\n",
      "        [21, 22, 23]])\n",
      "\n",
      "Middle 2x3 submatrix:\n",
      "tensor([[ 8,  9, 10],\n",
      "        [14, 15, 16]])\n",
      "\n",
      "Every other row and column:\n",
      "tensor([[ 0,  2,  4],\n",
      "        [12, 14, 16]])\n",
      "\n",
      "🎭 Boolean Indexing:\n",
      "Elements greater than 10: tensor([11, 12, 13, 14, 15, 16, 17, 18, 19, 20, 21, 22, 23])\n",
      "Number of elements > 10: 13\n",
      "\n",
      "🚀 Advanced Indexing:\n",
      "Selected elements from rows [0, 2, 3] and cols [1, 3, 5]:\n",
      "tensor([[ 1,  3,  5],\n",
      "        [13, 15, 17],\n",
      "        [19, 21, 23]])\n",
      "\n",
      "✏️ Modifying Values:\n",
      "After modifications:\n",
      "tensor([[ 0,  0,  0,  0,  0,  0],\n",
      "        [ 6,  7,  8,  9, 10, 11],\n",
      "        [12, 13, 14, 15,  0,  0],\n",
      "        [ 0,  0,  0,  0,  0,  0]])\n",
      "\n",
      "💡 Pro Tips:\n",
      "   - Use : for 'all' elements in a dimension\n",
      "   - Negative indices count from the end\n",
      "   - Boolean indexing is powerful for filtering\n",
      "   - Always .clone() if you don't want to modify the original!\n"
     ]
    }
   ],
   "source": [
    "print(\"🎯 Tensor Indexing and Slicing\")\n",
    "print(\"=\" * 35)\n",
    "\n",
    "# Create a sample tensor\n",
    "data = torch.arange(24).reshape(4, 6)  # 4x6 matrix\n",
    "print(f\"Sample tensor (4x6):\\n{data}\")\n",
    "\n",
    "print(\"\\n🔍 Basic Indexing:\")\n",
    "print(f\"First row: {data[0]}\")\n",
    "print(f\"Last row: {data[-1]}\")\n",
    "print(f\"Element at position [1, 3]: {data[1, 3]}\")\n",
    "print(f\"First element of each row: {data[:, 0]}\")\n",
    "\n",
    "print(\"\\n✂️ Slicing:\")\n",
    "print(f\"First 2 rows:\\n{data[:2]}\")\n",
    "print(f\"\\nLast 3 columns:\\n{data[:, -3:]}\")\n",
    "print(f\"\\nMiddle 2x3 submatrix:\\n{data[1:3, 2:5]}\")\n",
    "print(f\"\\nEvery other row and column:\\n{data[::2, ::2]}\")\n",
    "\n",
    "# Boolean indexing\n",
    "print(\"\\n🎭 Boolean Indexing:\")\n",
    "mask = data > 10\n",
    "print(f\"Elements greater than 10: {data[mask]}\")\n",
    "print(f\"Number of elements > 10: {(data > 10).sum()}\")\n",
    "\n",
    "# Advanced indexing\n",
    "print(\"\\n🚀 Advanced Indexing:\")\n",
    "# Select specific rows and columns\n",
    "rows = torch.tensor([0, 2, 3])\n",
    "cols = torch.tensor([1, 3, 5])\n",
    "selected = data[rows[:, None], cols]  # Broadcasting magic!\n",
    "print(\n",
    "    f\"Selected elements from rows {rows.tolist()} and cols {cols.tolist()}:\\n{selected}\"\n",
    ")\n",
    "\n",
    "# Modify values\n",
    "print(\"\\n✏️ Modifying Values:\")\n",
    "data_copy = data.clone()  # Make a copy to avoid modifying original\n",
    "data_copy[0, :] = 99  # Set first row to 99\n",
    "data_copy[data_copy > 15] = 0  # Set all values > 15 to 0\n",
    "print(f\"After modifications:\\n{data_copy}\")\n",
    "\n",
    "print(\"\\n💡 Pro Tips:\")\n",
    "print(\"   - Use : for 'all' elements in a dimension\")\n",
    "print(\"   - Negative indices count from the end\")\n",
    "print(\"   - Boolean indexing is powerful for filtering\")\n",
    "print(\"   - Always .clone() if you don't want to modify the original!\")"
   ]
  },
  {
   "cell_type": "markdown",
   "id": "bff85d1d",
   "metadata": {},
   "source": [
    "## Working with Random Numbers 🎲\n",
    "\n",
    "Random numbers are crucial in machine learning for initialization, sampling, and more:\n"
   ]
  },
  {
   "cell_type": "code",
   "execution_count": 42,
   "id": "f38ed1e3",
   "metadata": {},
   "outputs": [
    {
     "name": "stdout",
     "output_type": "stream",
     "text": [
      "🎲 Working with Random Numbers\n",
      "================================\n",
      "🌱 Setting Random Seed (for reproducible results):\n",
      "Random tensor 1: tensor([0.8823, 0.9150, 0.3829])\n",
      "Random tensor 2: tensor([0.8823, 0.9150, 0.3829])\n",
      "Are they equal? True\n",
      "\n",
      "🎯 Different Random Distributions:\n",
      "Uniform [0, 1): tensor([0.9593, 0.3904, 0.6009, 0.2566, 0.7936])\n",
      "Normal (0, 1): tensor([-1.1229, -0.1863,  2.2082, -0.6380,  0.4617])\n",
      "Normal (10, 2): tensor([10.5347, 11.0698, 11.6187, 12.2206,  6.6204])\n",
      "Random dice rolls: tensor([2, 2, 1, 1, 2, 2, 6, 5, 6, 3])\n",
      "Random permutation: tensor([2, 4, 1, 0, 5, 9, 3, 6, 7, 8])\n"
     ]
    },
    {
     "data": {
      "image/png": "[encoded data removed]",
      "text/plain": [
       "<Figure size 1200x800 with 4 Axes>"
      ]
     },
     "metadata": {},
     "output_type": "display_data"
    },
    {
     "name": "stdout",
     "output_type": "stream",
     "text": [
      "\n",
      "💡 Why Random Numbers Matter in ML:\n",
      "   🎯 Initialize neural network weights\n",
      "   🔀 Shuffle training data\n",
      "   📊 Sample from datasets\n",
      "   🎲 Add noise for regularization\n",
      "   🧪 Create reproducible experiments (with seeds)\n"
     ]
    }
   ],
   "source": [
    "print(\"🎲 Working with Random Numbers\")\n",
    "print(\"=\" * 32)\n",
    "\n",
    "# Set seed for reproducibility\n",
    "print(\"🌱 Setting Random Seed (for reproducible results):\")\n",
    "torch.manual_seed(42)\n",
    "random1 = torch.rand(3)\n",
    "print(f\"Random tensor 1: {random1}\")\n",
    "\n",
    "torch.manual_seed(42)  # Same seed\n",
    "random2 = torch.rand(3)\n",
    "print(f\"Random tensor 2: {random2}\")\n",
    "print(f\"Are they equal? {torch.equal(random1, random2)}\")\n",
    "\n",
    "print(\"\\n🎯 Different Random Distributions:\")\n",
    "\n",
    "# Uniform distribution [0, 1)\n",
    "uniform = torch.rand(5)\n",
    "print(f\"Uniform [0, 1): {uniform}\")\n",
    "\n",
    "# Normal distribution (mean=0, std=1)\n",
    "normal = torch.randn(5)\n",
    "print(f\"Normal (0, 1): {normal}\")\n",
    "\n",
    "# Custom normal distribution\n",
    "custom_normal = torch.normal(mean=10, std=2, size=(5,))\n",
    "print(f\"Normal (10, 2): {custom_normal}\")\n",
    "\n",
    "# Random integers\n",
    "random_ints = torch.randint(1, 7, (10,))  # Like rolling dice\n",
    "print(f\"Random dice rolls: {random_ints}\")\n",
    "\n",
    "# Random permutation\n",
    "perm = torch.randperm(10)  # Random permutation of 0-9\n",
    "print(f\"Random permutation: {perm}\")\n",
    "\n",
    "# Let's visualize different distributions\n",
    "torch.manual_seed(42)\n",
    "fig, axes = plt.subplots(2, 2, figsize=(12, 8))\n",
    "\n",
    "# Uniform distribution\n",
    "uniform_samples = torch.rand(1000)\n",
    "axes[0, 0].hist(uniform_samples.numpy(), bins=30, alpha=0.7, color=\"blue\")\n",
    "axes[0, 0].set_title(\"Uniform Distribution [0, 1]\")\n",
    "axes[0, 0].set_xlabel(\"Value\")\n",
    "axes[0, 0].set_ylabel(\"Frequency\")\n",
    "\n",
    "# Normal distribution\n",
    "normal_samples = torch.randn(1000)\n",
    "axes[0, 1].hist(normal_samples.numpy(), bins=30, alpha=0.7, color=\"green\")\n",
    "axes[0, 1].set_title(\"Normal Distribution (0, 1)\")\n",
    "axes[0, 1].set_xlabel(\"Value\")\n",
    "axes[0, 1].set_ylabel(\"Frequency\")\n",
    "\n",
    "# Custom normal distribution\n",
    "custom_samples = torch.normal(5, 2, (1000,))\n",
    "axes[1, 0].hist(custom_samples.numpy(), bins=30, alpha=0.7, color=\"orange\")\n",
    "axes[1, 0].set_title(\"Normal Distribution (5, 2)\")\n",
    "axes[1, 0].set_xlabel(\"Value\")\n",
    "axes[1, 0].set_ylabel(\"Frequency\")\n",
    "\n",
    "# Random integers (dice)\n",
    "dice_rolls = torch.randint(1, 7, (1000,))\n",
    "axes[1, 1].hist(\n",
    "    dice_rolls.numpy(),\n",
    "    bins=6,\n",
    "    alpha=0.7,\n",
    "    color=\"red\",\n",
    "    range=(0.5, 6.5),\n",
    "    edgecolor=\"black\",\n",
    ")\n",
    "axes[1, 1].set_title(\"Random Integers [1, 6] (Dice Rolls)\")\n",
    "axes[1, 1].set_xlabel(\"Value\")\n",
    "axes[1, 1].set_ylabel(\"Frequency\")\n",
    "axes[1, 1].set_xticks(range(1, 7))\n",
    "\n",
    "plt.tight_layout()\n",
    "plt.show()\n",
    "\n",
    "print(\"\\n💡 Why Random Numbers Matter in ML:\")\n",
    "print(\"   🎯 Initialize neural network weights\")\n",
    "print(\"   🔀 Shuffle training data\")\n",
    "print(\"   📊 Sample from datasets\")\n",
    "print(\"   🎲 Add noise for regularization\")\n",
    "print(\"   🧪 Create reproducible experiments (with seeds)\")"
   ]
  },
  {
   "cell_type": "markdown",
   "id": "2f96f1e5",
   "metadata": {},
   "source": [
    "## Your First Neural Network with PyTorch! 🚀\n",
    "\n",
    "Now that you understand tensors, let's build something exciting - your very first neural network!\n"
   ]
  },
  {
   "cell_type": "code",
   "execution_count": 43,
   "id": "8bdfe1af",
   "metadata": {},
   "outputs": [
    {
     "name": "stdout",
     "output_type": "stream",
     "text": [
      "🚀 Building Your First Neural Network!\n",
      "========================================\n",
      "📊 Step 1: Create Training Data\n",
      "Training data shape: X=torch.Size([1000, 1]), y=torch.Size([1000, 1])\n",
      "Sample data points:\n",
      "  x=1.927 → y=1 (positive)\n",
      "  x=1.487 → y=1 (positive)\n",
      "  x=0.901 → y=1 (positive)\n",
      "  x=-2.106 → y=0 (negative)\n",
      "  x=0.678 → y=1 (positive)\n",
      "\n",
      "🧠 Step 2: Define Neural Network Architecture\n",
      "Network architecture:\n",
      "SimpleNet(\n",
      "  (linear): Linear(in_features=1, out_features=1, bias=True)\n",
      "  (sigmoid): Sigmoid()\n",
      ")\n",
      "  linear.weight: tensor([[-0.7024]])\n",
      "  linear.bias: tensor([0.3192])\n",
      "\n",
      "⚙️ Step 3: Set up Training Components\n",
      "Loss function: BCELoss()\n",
      "Optimizer: SGD (\n",
      "Parameter Group 0\n",
      "    dampening: 0\n",
      "    differentiable: False\n",
      "    foreach: None\n",
      "    fused: None\n",
      "    lr: 0.1\n",
      "    maximize: False\n",
      "    momentum: 0\n",
      "    nesterov: False\n",
      "    weight_decay: 0\n",
      ")\n",
      "\n",
      "🏋️ Step 4: Train the Neural Network\n",
      "Epoch   0: Loss = 1.0432, Accuracy = 0.1780\n",
      "Epoch  20: Loss = 0.6193, Accuracy = 0.6600\n",
      "Epoch  40: Loss = 0.4540, Accuracy = 0.9340\n",
      "Epoch  60: Loss = 0.3750, Accuracy = 0.9680\n",
      "Epoch  80: Loss = 0.3282, Accuracy = 0.9780\n",
      "Epoch  99: Loss = 0.2980, Accuracy = 0.9880\n",
      "\n",
      "🎉 Training completed!\n"
     ]
    }
   ],
   "source": [
    "print(\"🚀 Building Your First Neural Network!\")\n",
    "print(\"=\" * 40)\n",
    "\n",
    "# Let's solve a simple problem: predict if a number is positive or negative\n",
    "# This is obviously trivial, but it demonstrates the concepts!\n",
    "\n",
    "import torch.nn as nn\n",
    "import torch.optim as optim\n",
    "\n",
    "# Step 1: Create training data\n",
    "torch.manual_seed(42)\n",
    "print(\"📊 Step 1: Create Training Data\")\n",
    "\n",
    "# Generate random numbers\n",
    "X = torch.randn(1000, 1)  # 1000 random numbers\n",
    "y = (X > 0).float()  # 1 if positive, 0 if negative\n",
    "\n",
    "print(f\"Training data shape: X={X.shape}, y={y.shape}\")\n",
    "print(f\"Sample data points:\")\n",
    "for i in range(5):\n",
    "    print(\n",
    "        f\"  x={X[i].item():.3f} → y={int(y[i].item())} ({'positive' if y[i] > 0 else 'negative'})\"\n",
    "    )\n",
    "\n",
    "# Step 2: Define the neural network\n",
    "print(\"\\n🧠 Step 2: Define Neural Network Architecture\")\n",
    "\n",
    "\n",
    "class SimpleNet(nn.Module):\n",
    "    def __init__(self):\n",
    "        super(SimpleNet, self).__init__()\n",
    "        # One linear layer: input_size=1, output_size=1\n",
    "        self.linear = nn.Linear(1, 1)\n",
    "        # Sigmoid activation to get probability between 0 and 1\n",
    "        self.sigmoid = nn.Sigmoid()\n",
    "\n",
    "    def forward(self, x):\n",
    "        x = self.linear(x)  # Linear transformation\n",
    "        x = self.sigmoid(x)  # Sigmoid activation\n",
    "        return x\n",
    "\n",
    "\n",
    "# Create the network\n",
    "model = SimpleNet()\n",
    "print(f\"Network architecture:\")\n",
    "print(model)\n",
    "\n",
    "# Check initial parameters\n",
    "for name, param in model.named_parameters():\n",
    "    print(f\"  {name}: {param.data}\")\n",
    "\n",
    "# Step 3: Define loss function and optimizer\n",
    "print(\"\\n⚙️ Step 3: Set up Training Components\")\n",
    "criterion = nn.BCELoss()  # Binary Cross Entropy for binary classification\n",
    "optimizer = optim.SGD(model.parameters(), lr=0.1)  # Stochastic Gradient Descent\n",
    "\n",
    "print(f\"Loss function: {criterion}\")\n",
    "print(f\"Optimizer: {optimizer}\")\n",
    "\n",
    "# Step 4: Training loop\n",
    "print(\"\\n🏋️ Step 4: Train the Neural Network\")\n",
    "\n",
    "losses = []\n",
    "accuracies = []\n",
    "\n",
    "for epoch in range(100):\n",
    "    # Forward pass\n",
    "    predictions = model(X)\n",
    "    loss = criterion(predictions, y)\n",
    "\n",
    "    # Backward pass\n",
    "    optimizer.zero_grad()  # Clear gradients\n",
    "    loss.backward()  # Compute gradients\n",
    "    optimizer.step()  # Update weights\n",
    "\n",
    "    # Calculate accuracy\n",
    "    predicted_classes = (predictions > 0.5).float()\n",
    "    accuracy = (predicted_classes == y).float().mean()\n",
    "\n",
    "    losses.append(loss.item())\n",
    "    accuracies.append(accuracy.item())\n",
    "\n",
    "    if epoch % 20 == 0 or epoch == 99:\n",
    "        print(\n",
    "            f\"Epoch {epoch:3d}: Loss = {loss.item():.4f}, Accuracy = {accuracy.item():.4f}\"\n",
    "        )\n",
    "\n",
    "print(\"\\n🎉 Training completed!\")"
   ]
  },
  {
   "cell_type": "code",
   "execution_count": 44,
   "id": "adcdee2f",
   "metadata": {},
   "outputs": [
    {
     "data": {
      "image/png": "[encoded data removed]",
      "text/plain": [
       "<Figure size 1500x1200 with 4 Axes>"
      ]
     },
     "metadata": {},
     "output_type": "display_data"
    },
    {
     "name": "stdout",
     "output_type": "stream",
     "text": [
      "\n",
      "🔍 Final Model Parameters:\n",
      "  linear.weight: 1.7291\n",
      "  linear.bias: 0.0569\n",
      "\n",
      "🎯 Final Results:\n",
      "  Loss: 0.2980\n",
      "  Accuracy: 0.9880 (98.8%)\n",
      "\n",
      "🧪 Testing on New Data:\n",
      "  Input:  -2.5 → Probability: 0.014 → Negative ✅\n",
      "  Input:  -1.0 → Probability: 0.158 → Negative ✅\n",
      "  Input:   0.5 → Probability: 0.715 → Positive ✅\n",
      "  Input:   2.0 → Probability: 0.971 → Positive ✅\n",
      "\n",
      "🎉 Congratulations! You've built and trained your first neural network!\n"
     ]
    }
   ],
   "source": [
    "# Let's visualize the training progress and results\n",
    "fig, ((ax1, ax2), (ax3, ax4)) = plt.subplots(2, 2, figsize=(15, 12))\n",
    "\n",
    "# Plot 1: Training loss\n",
    "ax1.plot(losses, color=\"red\", linewidth=2)\n",
    "ax1.set_title(\"Training Loss Over Time\", fontweight=\"bold\")\n",
    "ax1.set_xlabel(\"Epoch\")\n",
    "ax1.set_ylabel(\"Binary Cross Entropy Loss\")\n",
    "ax1.grid(True, alpha=0.3)\n",
    "\n",
    "# Plot 2: Training accuracy\n",
    "ax2.plot(accuracies, color=\"green\", linewidth=2)\n",
    "ax2.set_title(\"Training Accuracy Over Time\", fontweight=\"bold\")\n",
    "ax2.set_xlabel(\"Epoch\")\n",
    "ax2.set_ylabel(\"Accuracy\")\n",
    "ax2.set_ylim(0, 1)\n",
    "ax2.grid(True, alpha=0.3)\n",
    "\n",
    "# Plot 3: Model predictions vs actual\n",
    "with torch.inference_mode():\n",
    "    test_range = torch.linspace(-3, 3, 100).unsqueeze(1)\n",
    "    test_predictions = model(test_range)\n",
    "\n",
    "ax3.plot(\n",
    "    test_range.numpy(),\n",
    "    test_predictions.numpy(),\n",
    "    \"b-\",\n",
    "    linewidth=3,\n",
    "    label=\"Model Predictions\",\n",
    ")\n",
    "ax3.axhline(\n",
    "    y=0.5, color=\"red\", linestyle=\"--\", alpha=0.7, label=\"Decision Boundary (0.5)\"\n",
    ")\n",
    "ax3.axvline(x=0, color=\"green\", linestyle=\"--\", alpha=0.7, label=\"True Boundary (x=0)\")\n",
    "ax3.set_title(\"Model Predictions vs Input\", fontweight=\"bold\")\n",
    "ax3.set_xlabel(\"Input Value\")\n",
    "ax3.set_ylabel(\"Predicted Probability\")\n",
    "ax3.legend()\n",
    "ax3.grid(True, alpha=0.3)\n",
    "\n",
    "# Plot 4: Sample predictions\n",
    "torch.manual_seed(123)\n",
    "test_samples = torch.randn(50, 1)\n",
    "with torch.inference_mode():\n",
    "    sample_predictions = model(test_samples)\n",
    "    sample_classes = (sample_predictions > 0.5).float()\n",
    "\n",
    "# Separate positive and negative predictions\n",
    "pos_mask = sample_classes.squeeze() == 1\n",
    "neg_mask = sample_classes.squeeze() == 0\n",
    "\n",
    "ax4.scatter(\n",
    "    test_samples[pos_mask],\n",
    "    sample_predictions[pos_mask],\n",
    "    color=\"green\",\n",
    "    alpha=0.7,\n",
    "    s=50,\n",
    "    label=\"Predicted Positive\",\n",
    ")\n",
    "ax4.scatter(\n",
    "    test_samples[neg_mask],\n",
    "    sample_predictions[neg_mask],\n",
    "    color=\"red\",\n",
    "    alpha=0.7,\n",
    "    s=50,\n",
    "    label=\"Predicted Negative\",\n",
    ")\n",
    "ax4.axhline(y=0.5, color=\"black\", linestyle=\"--\", alpha=0.5, label=\"Decision Threshold\")\n",
    "ax4.axvline(x=0, color=\"gray\", linestyle=\"--\", alpha=0.5, label=\"True Boundary\")\n",
    "ax4.set_title(\"Sample Predictions\", fontweight=\"bold\")\n",
    "ax4.set_xlabel(\"Input Value\")\n",
    "ax4.set_ylabel(\"Predicted Probability\")\n",
    "ax4.legend()\n",
    "ax4.grid(True, alpha=0.3)\n",
    "\n",
    "plt.show()\n",
    "\n",
    "# Final model parameters\n",
    "print(\"\\n🔍 Final Model Parameters:\")\n",
    "for name, param in model.named_parameters():\n",
    "    print(f\"  {name}: {param.data.item():.4f}\")\n",
    "\n",
    "print(f\"\\n🎯 Final Results:\")\n",
    "print(f\"  Loss: {losses[-1]:.4f}\")\n",
    "print(f\"  Accuracy: {accuracies[-1]:.4f} ({accuracies[-1]*100:.1f}%)\")\n",
    "\n",
    "# Test on new data\n",
    "print(\"\\n🧪 Testing on New Data:\")\n",
    "test_values = [-2.5, -1.0, 0.5, 2.0]\n",
    "with torch.inference_mode():\n",
    "    for val in test_values:\n",
    "        input_tensor = torch.tensor([[val]])\n",
    "        prediction = model(input_tensor)\n",
    "        predicted_class = \"Positive\" if prediction > 0.5 else \"Negative\"\n",
    "        actual_class = \"Positive\" if val > 0 else \"Negative\"\n",
    "        correct = \"✅\" if predicted_class == actual_class else \"❌\"\n",
    "        print(\n",
    "            f\"  Input: {val:5.1f} → Probability: {prediction.item():.3f} → {predicted_class} {correct}\"\n",
    "        )\n",
    "\n",
    "print(\"\\n🎉 Congratulations! You've built and trained your first neural network!\")"
   ]
  },
  {
   "cell_type": "markdown",
   "id": "25ad2b83",
   "metadata": {},
   "source": [
    "## Understanding What Just Happened 🤔\n",
    "\n",
    "Let's break down what we just accomplished:\n",
    "\n",
    "### 🧠 The Neural Network:\n",
    "\n",
    "- **Input**: A single number\n",
    "- **Linear Layer**: Applies the transformation `output = weight × input + bias`\n",
    "- **Sigmoid Activation**: Squashes the output to a probability between 0 and 1\n",
    "- **Output**: Probability that the input is positive\n",
    "\n",
    "### 🔄 The Training Process:\n",
    "\n",
    "1. **Forward Pass**: Input → Linear → Sigmoid → Prediction\n",
    "2. **Loss Calculation**: Compare prediction with true label\n",
    "3. **Backward Pass**: Calculate gradients (how to improve)\n",
    "4. **Weight Update**: Adjust weights to reduce loss\n",
    "5. **Repeat**: Do this many times until the model learns\n",
    "\n",
    "### 🎯 Key Insights:\n",
    "\n",
    "- The model learned that **positive numbers should output values > 0.5**\n",
    "- The model learned that **negative numbers should output values < 0.5**\n",
    "- The **weight became positive** (positive inputs → positive outputs)\n",
    "- The **bias stayed near zero** (the decision boundary is at x=0)\n",
    "\n",
    "This was a simple example, but the same principles apply to complex neural networks that recognize images, understand language, and more!\n"
   ]
  },
  {
   "cell_type": "markdown",
   "id": "d097a977",
   "metadata": {},
   "source": [
    "## Summary & What's Next 📝\n",
    "\n",
    "🎉 **Congratulations!** You've mastered the fundamentals of PyTorch!\n",
    "\n",
    "### 🎯 What You Learned:\n",
    "\n",
    "1. **PyTorch Basics**:\n",
    "\n",
    "   - What PyTorch is and why it's powerful\n",
    "   - Device management (CPU vs GPU)\n",
    "   - Setting up your environment\n",
    "\n",
    "2. **Tensors Mastery**:\n",
    "\n",
    "   - Creating tensors in multiple ways\n",
    "   - Understanding tensor properties (shape, dtype, device)\n",
    "   - Basic operations and mathematical functions\n",
    "   - Reshaping and manipulation\n",
    "   - Indexing and slicing\n",
    "\n",
    "3. **Random Numbers**:\n",
    "\n",
    "   - Different distributions (uniform, normal, etc.)\n",
    "   - Setting seeds for reproducibility\n",
    "   - Why randomness matters in ML\n",
    "\n",
    "4. **Your First Neural Network**:\n",
    "   - Building a simple network with `nn.Module`\n",
    "   - Training loop with forward/backward passes\n",
    "   - Loss functions and optimizers\n",
    "   - Evaluating model performance\n",
    "\n",
    "### 🚀 What's Next?\n",
    "\n",
    "In the next notebook, we'll dive deeper into:\n",
    "\n",
    "- **Advanced tensor operations** and linear algebra\n",
    "- **Broadcasting** and vectorization\n",
    "- **Memory management** and performance tips\n",
    "- **Automatic differentiation** in detail\n",
    "\n",
    "### 💡 Key Takeaways:\n",
    "\n",
    "- **Tensors are the foundation** of everything in PyTorch\n",
    "- **Device management** is crucial for performance\n",
    "- **Neural networks are just functions** that learn from data\n",
    "- **The training loop** is the heart of machine learning\n",
    "\n",
    "**Ready for more advanced tensor operations? Let's continue to [02. Tensor Operations and Mathematics](02_tensor_operations_and_mathematics.ipynb)!** 🔥\n"
   ]
  }
 ],
 "metadata": {
  "kernelspec": {
   "display_name": "venv",
   "language": "python",
   "name": "python3"
  },
  "language_info": {
   "codemirror_mode": {
    "name": "ipython",
    "version": 3
   },
   "file_extension": ".py",
   "mimetype": "text/x-python",
   "name": "python",
   "nbconvert_exporter": "python",
   "pygments_lexer": "ipython3",
   "version": "3.11.5"
  }
 },
 "nbformat": 4,
 "nbformat_minor": 5
}
