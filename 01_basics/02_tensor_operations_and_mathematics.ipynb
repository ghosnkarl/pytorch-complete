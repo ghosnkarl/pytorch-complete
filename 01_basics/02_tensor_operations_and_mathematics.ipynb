{
 "cells": [
  {
   "cell_type": "markdown",
   "id": "4705eca8",
   "metadata": {},
   "source": [
    "# 02. Tensor Operations and Mathematics 🧮\n",
    "\n",
    "Welcome to the mathematical heart of PyTorch! Now that you understand basic tensors, let's explore the powerful operations that make neural networks possible.\n",
    "\n",
    "By the end of this notebook, you'll understand:\n",
    "\n",
    "- 🧮 **Advanced tensor operations** and linear algebra\n",
    "- 📊 **Broadcasting** and how it makes operations efficient\n",
    "- 🔄 **Reduction operations** (sum, mean, etc.)\n",
    "- 📐 **Linear algebra fundamentals** (dot products, matrix multiplication)\n",
    "- ⚡ **Performance optimization** tips\n",
    "- 🎯 **Real-world applications** of tensor operations\n",
    "\n",
    "Let's dive into the mathematics that powers AI! 🚀\n"
   ]
  },
  {
   "cell_type": "code",
   "execution_count": 27,
   "id": "6e0d4e1c",
   "metadata": {},
   "outputs": [
    {
     "name": "stdout",
     "output_type": "stream",
     "text": [
      "🧮 Advanced Tensor Operations & Mathematics\n",
      "=============================================\n",
      "🔥 PyTorch version: 2.7.1\n",
      "💻 Device: mps\n",
      "✅ Ready to explore tensor mathematics!\n"
     ]
    }
   ],
   "source": [
    "# Import necessary libraries\n",
    "import torch\n",
    "import numpy as np\n",
    "import matplotlib.pyplot as plt\n",
    "import seaborn as sns\n",
    "import time\n",
    "\n",
    "# Set style for better-looking plots\n",
    "plt.style.use(\"seaborn-v0_8\")\n",
    "sns.set_palette(\"husl\")\n",
    "\n",
    "# Get device\n",
    "device = torch.device(\n",
    "    \"cuda\"\n",
    "    if torch.cuda.is_available()\n",
    "    else \"mps\" if torch.backends.mps.is_available() else \"cpu\"\n",
    ")\n",
    "\n",
    "print(\"🧮 Advanced Tensor Operations & Mathematics\")\n",
    "print(\"=\" * 45)\n",
    "print(f\"🔥 PyTorch version: {torch.__version__}\")\n",
    "print(f\"💻 Device: {device}\")\n",
    "print(\"✅ Ready to explore tensor mathematics!\")"
   ]
  },
  {
   "cell_type": "markdown",
   "id": "2bdff18d",
   "metadata": {},
   "source": [
    "## Broadcasting: Making Operations Efficient 📡\n",
    "\n",
    "**Broadcasting** is one of PyTorch's most powerful features. It allows operations between tensors of different shapes without explicitly reshaping them.\n",
    "\n",
    "### 🎯 Broadcasting Rules:\n",
    "\n",
    "1. **Start from the rightmost dimension**\n",
    "2. **Dimensions are compatible if they are equal, or one of them is 1**\n",
    "3. **Missing dimensions are assumed to be 1**\n",
    "\n",
    "The benefits of broadcasting include:\n",
    "\n",
    "- **Memory efficiency**: No need to create large intermediate tensors.\n",
    "- **Performance**: Operations are vectorized, making them faster.\n",
    "- **Simplicity**: Write cleaner code without manual reshaping.\n",
    "- **Flexibility**: Easily apply operations across different tensor shapes.\n",
    "\n",
    "Let's see this in action:\n"
   ]
  },
  {
   "cell_type": "code",
   "execution_count": 28,
   "id": "24027770",
   "metadata": {},
   "outputs": [
    {
     "name": "stdout",
     "output_type": "stream",
     "text": [
      "Example 1: Scalar + Vector\n",
      "Vector:     tensor([1, 2, 3, 4]) (shape: torch.Size([4]))\n",
      "Scalar:     10\n",
      "Result:     tensor([11, 12, 13, 14])\n",
      "Broadcasting: 10 is added to each element\n",
      "\n"
     ]
    }
   ],
   "source": [
    "# Example 1: Scalar with tensor\n",
    "a = torch.tensor([1, 2, 3, 4])\n",
    "scalar = 10\n",
    "result1 = a + scalar\n",
    "\n",
    "print(f\"Example 1: Scalar + Vector\")\n",
    "print(f\"Vector:     {a} (shape: {a.shape})\")\n",
    "print(f\"Scalar:     {scalar}\")\n",
    "print(f\"Result:     {result1}\")\n",
    "print(f\"Broadcasting: {scalar} is added to each element\\n\")"
   ]
  },
  {
   "cell_type": "code",
   "execution_count": 29,
   "id": "1106f784",
   "metadata": {},
   "outputs": [
    {
     "name": "stdout",
     "output_type": "stream",
     "text": [
      "Example 2: Matrix + Vector\n",
      "Matrix (2x3):\n",
      "tensor([[1, 2, 3],\n",
      "        [4, 5, 6]])\n",
      "Vector (3,):  tensor([10, 20, 30])\n",
      "Result (2x3):\n",
      "tensor([[11, 22, 33],\n",
      "        [14, 25, 36]])\n",
      "Broadcasting: Vector is added to each row\n",
      "\n"
     ]
    }
   ],
   "source": [
    "# Example 2: Vector with matrix\n",
    "matrix = torch.tensor([[1, 2, 3], [4, 5, 6]])\n",
    "vector = torch.tensor([10, 20, 30])\n",
    "result2 = matrix + vector\n",
    "\n",
    "print(f\"Example 2: Matrix + Vector\")\n",
    "print(f\"Matrix (2x3):\\n{matrix}\")\n",
    "print(f\"Vector (3,):  {vector}\")\n",
    "print(f\"Result (2x3):\\n{result2}\")\n",
    "print(f\"Broadcasting: Vector is added to each row\\n\")"
   ]
  },
  {
   "cell_type": "code",
   "execution_count": 30,
   "id": "929dd5e2",
   "metadata": {},
   "outputs": [
    {
     "name": "stdout",
     "output_type": "stream",
     "text": [
      "Example 3: Column Vector + Row Vector\n",
      "Column vector (3x1):\n",
      "tensor([[1],\n",
      "        [2],\n",
      "        [3]])\n",
      "Row vector (2,):     tensor([10, 20])\n",
      "Result (3x2):\n",
      "tensor([[11, 21],\n",
      "        [12, 22],\n",
      "        [13, 23]])\n",
      "Broadcasting: Creates all combinations\n"
     ]
    }
   ],
   "source": [
    "# Example 3: Column vector with row vector\n",
    "col_vector = torch.tensor([[1], [2], [3]])  # Shape: (3, 1)\n",
    "row_vector = torch.tensor([10, 20])  # Shape: (2,)\n",
    "result3 = col_vector + row_vector\n",
    "\n",
    "print(f\"Example 3: Column Vector + Row Vector\")\n",
    "print(f\"Column vector (3x1):\\n{col_vector}\")\n",
    "print(f\"Row vector (2,):     {row_vector}\")\n",
    "print(f\"Result (3x2):\\n{result3}\")\n",
    "print(f\"Broadcasting: Creates all combinations\")"
   ]
  },
  {
   "cell_type": "markdown",
   "id": "3e96b7bb",
   "metadata": {},
   "source": [
    "## Element-wise Operations 🔄\n",
    "\n",
    "Element-wise operations are the building blocks of tensor computations. Let's explore all the operations you'll commonly use:\n"
   ]
  },
  {
   "cell_type": "code",
   "execution_count": 31,
   "id": "9abc930a",
   "metadata": {},
   "outputs": [
    {
     "name": "stdout",
     "output_type": "stream",
     "text": [
      "Tensor a: tensor([1., 2., 3., 4.])\n",
      "Tensor b: tensor([2., 1., 4., 3.])\n"
     ]
    }
   ],
   "source": [
    "# Create sample tensors\n",
    "torch.manual_seed(42)\n",
    "a = torch.tensor([1.0, 2.0, 3.0, 4.0])\n",
    "b = torch.tensor([2.0, 1.0, 4.0, 3.0])\n",
    "\n",
    "print(f\"Tensor a: {a}\")\n",
    "print(f\"Tensor b: {b}\")"
   ]
  },
  {
   "cell_type": "code",
   "execution_count": 32,
   "id": "3056794b",
   "metadata": {},
   "outputs": [
    {
     "name": "stdout",
     "output_type": "stream",
     "text": [
      "➕ Basic Arithmetic:\n",
      "Addition:        a + b = tensor([3., 3., 7., 7.])\n",
      "Subtraction:     a - b = tensor([-1.,  1., -1.,  1.])\n",
      "Multiplication:  a * b = tensor([ 2.,  2., 12., 12.])\n",
      "Division:        a / b = tensor([0.5000, 2.0000, 0.7500, 1.3333])\n",
      "Integer division: a // b = tensor([0., 2., 0., 1.])\n",
      "Modulo:          a % b = tensor([1., 0., 3., 1.])\n",
      "Power:           a ** b = tensor([ 1.,  2., 81., 64.])\n"
     ]
    }
   ],
   "source": [
    "# Basic arithmetic\n",
    "print(\"➕ Basic Arithmetic:\")\n",
    "print(f\"Addition:        a + b = {a + b}\")\n",
    "print(f\"Subtraction:     a - b = {a - b}\")\n",
    "print(f\"Multiplication:  a * b = {a * b}\")\n",
    "print(f\"Division:        a / b = {a / b}\")\n",
    "print(f\"Integer division: a // b = {a // b}\")\n",
    "print(f\"Modulo:          a % b = {a % b}\")\n",
    "print(f\"Power:           a ** b = {a ** b}\")"
   ]
  },
  {
   "cell_type": "code",
   "execution_count": 33,
   "id": "86cff44b",
   "metadata": {},
   "outputs": [
    {
     "name": "stdout",
     "output_type": "stream",
     "text": [
      "\n",
      "🧮 Mathematical Functions:\n",
      "Input c: tensor([0.0000, 1.0000, 2.0000, 3.1416])\n",
      "Absolute:     |c| = tensor([0.0000, 1.0000, 2.0000, 3.1416])\n",
      "Square root:  √c = tensor([0.0000, 1.0000, 1.4142, 1.7725])\n",
      "Exponential:  e^c = tensor([ 1.0000,  2.7183,  7.3891, 23.1406])\n",
      "Natural log:  ln(c+1) = tensor([0.0000, 0.6931, 1.0986, 1.4211])\n",
      "Sine:         sin(c) = tensor([0.0000e+00, 8.4147e-01, 9.0930e-01, 2.5352e-06])\n",
      "Cosine:       cos(c) = tensor([ 1.0000,  0.5403, -0.4161, -1.0000])\n"
     ]
    }
   ],
   "source": [
    "# Mathematical functions\n",
    "print(\"\\n🧮 Mathematical Functions:\")\n",
    "c = torch.tensor([0.0, 1.0, 2.0, 3.14159])\n",
    "print(f\"Input c: {c}\")\n",
    "print(f\"Absolute:     |c| = {torch.abs(c)}\")\n",
    "print(f\"Square root:  √c = {torch.sqrt(torch.abs(c))}\")\n",
    "print(f\"Exponential:  e^c = {torch.exp(c)}\")\n",
    "print(f\"Natural log:  ln(c+1) = {torch.log(c + 1)}\")\n",
    "print(f\"Sine:         sin(c) = {torch.sin(c)}\")\n",
    "print(f\"Cosine:       cos(c) = {torch.cos(c)}\")"
   ]
  },
  {
   "cell_type": "code",
   "execution_count": 34,
   "id": "9c8d4033",
   "metadata": {},
   "outputs": [
    {
     "name": "stdout",
     "output_type": "stream",
     "text": [
      "\n",
      "🎯 Rounding and Clipping:\n",
      "Input d: tensor([-2.7000, -1.3000,  0.8000,  2.1000,  3.9000])\n",
      "Round:    tensor([-3., -1.,  1.,  2.,  4.])\n",
      "Floor:    tensor([-3., -2.,  0.,  2.,  3.])\n",
      "Ceiling:  tensor([-2., -1.,  1.,  3.,  4.])\n",
      "Truncate: tensor([-2., -1.,  0.,  2.,  3.])\n",
      "Clamp [0,2]: tensor([0.0000, 0.0000, 0.8000, 2.0000, 2.0000])\n"
     ]
    }
   ],
   "source": [
    "# Rounding and clipping\n",
    "print(\"\\n🎯 Rounding and Clipping:\")\n",
    "d = torch.tensor([-2.7, -1.3, 0.8, 2.1, 3.9])\n",
    "print(f\"Input d: {d}\")\n",
    "print(f\"Round:    {torch.round(d)}\")\n",
    "print(f\"Floor:    {torch.floor(d)}\")\n",
    "print(f\"Ceiling:  {torch.ceil(d)}\")\n",
    "print(f\"Truncate: {torch.trunc(d)}\")\n",
    "print(f\"Clamp [0,2]: {torch.clamp(d, 0, 2)}\")"
   ]
  },
  {
   "cell_type": "code",
   "execution_count": 35,
   "id": "2ccabe01",
   "metadata": {},
   "outputs": [
    {
     "name": "stdout",
     "output_type": "stream",
     "text": [
      "\n",
      "🔍 Comparison Operations:\n",
      "a > b:  tensor([False,  True, False,  True])\n",
      "a == b: tensor([False, False, False, False])\n",
      "a >= 2: tensor([False,  True,  True,  True])\n"
     ]
    }
   ],
   "source": [
    "# Comparison operations\n",
    "print(\"\\n🔍 Comparison Operations:\")\n",
    "print(f\"a > b:  {a > b}\")\n",
    "print(f\"a == b: {a == b}\")\n",
    "print(f\"a >= 2: {a >= 2}\")"
   ]
  },
  {
   "cell_type": "code",
   "execution_count": 36,
   "id": "023b5ea7",
   "metadata": {},
   "outputs": [
    {
     "name": "stdout",
     "output_type": "stream",
     "text": [
      "\n",
      "🔗 Logical Operations:\n",
      "bool_a: tensor([ True, False,  True, False])\n",
      "bool_b: tensor([ True,  True, False, False])\n",
      "AND:    tensor([ True, False, False, False])\n",
      "OR:     tensor([ True,  True,  True, False])\n",
      "NOT a:  tensor([False,  True, False,  True])\n",
      "XOR:    tensor([False,  True,  True, False])\n"
     ]
    }
   ],
   "source": [
    "# Logical operations\n",
    "print(\"\\n🔗 Logical Operations:\")\n",
    "bool_a = torch.tensor([True, False, True, False])\n",
    "bool_b = torch.tensor([True, True, False, False])\n",
    "print(f\"bool_a: {bool_a}\")\n",
    "print(f\"bool_b: {bool_b}\")\n",
    "print(f\"AND:    {bool_a & bool_b}\")\n",
    "print(f\"OR:     {bool_a | bool_b}\")\n",
    "print(f\"NOT a:  {~bool_a}\")\n",
    "print(f\"XOR:    {bool_a ^ bool_b}\")"
   ]
  },
  {
   "cell_type": "markdown",
   "id": "8a32234b",
   "metadata": {},
   "source": [
    "## Reduction Operations 📊\n",
    "\n",
    "Reduction operations collapse one or more dimensions of a tensor, providing summary statistics and aggregations:\n"
   ]
  },
  {
   "cell_type": "code",
   "execution_count": 37,
   "id": "b9501d28",
   "metadata": {},
   "outputs": [
    {
     "name": "stdout",
     "output_type": "stream",
     "text": [
      "Sample matrix (3x4):\n",
      "tensor([[ 0.3367,  0.1288,  0.2345,  0.2303],\n",
      "        [-1.1229, -0.1863,  2.2082, -0.6380],\n",
      "        [ 0.4617,  0.2674,  0.5349,  0.8094]])\n",
      "Shape: torch.Size([3, 4])\n"
     ]
    }
   ],
   "source": [
    "# Create a sample matrix\n",
    "torch.manual_seed(42)\n",
    "matrix = torch.randn(3, 4)\n",
    "print(f\"Sample matrix (3x4):\\n{matrix}\")\n",
    "print(f\"Shape: {matrix.shape}\")"
   ]
  },
  {
   "cell_type": "code",
   "execution_count": 38,
   "id": "ecb43e84",
   "metadata": {},
   "outputs": [
    {
     "name": "stdout",
     "output_type": "stream",
     "text": [
      "📈 Basic Reductions (all elements):\n",
      "Sum:             3.265\n",
      "Mean:            0.272\n",
      "Standard dev:    0.806\n",
      "Variance:        0.650\n",
      "Maximum:         2.208\n",
      "Minimum:         -1.123\n",
      "Product:         -0.000\n",
      "\n",
      "🎯 Reductions along specific dimensions:\n",
      "Sum along rows (dim=0):    tensor([-0.3245,  0.2098,  2.9776,  0.4017])\n",
      "Sum along columns (dim=1): tensor([0.9303, 0.2610, 2.0733])\n",
      "Mean along rows (dim=0):   tensor([-0.1082,  0.0699,  0.9925,  0.1339])\n",
      "Max along columns (dim=1): torch.return_types.max(\n",
      "values=tensor([0.3367, 2.2082, 0.8094]),\n",
      "indices=tensor([0, 2, 3]))\n"
     ]
    }
   ],
   "source": [
    "print(\"📈 Basic Reductions (all elements):\")\n",
    "print(f\"Sum:             {matrix.sum():.3f}\")\n",
    "print(f\"Mean:            {matrix.mean():.3f}\")\n",
    "print(f\"Standard dev:    {matrix.std():.3f}\")\n",
    "print(f\"Variance:        {matrix.var():.3f}\")\n",
    "print(f\"Maximum:         {matrix.max():.3f}\")\n",
    "print(f\"Minimum:         {matrix.min():.3f}\")\n",
    "print(f\"Product:         {matrix.prod():.3f}\")\n",
    "\n",
    "print(\"\\n🎯 Reductions along specific dimensions:\")\n",
    "print(f\"Sum along rows (dim=0):    {matrix.sum(dim=0)}\")\n",
    "print(f\"Sum along columns (dim=1): {matrix.sum(dim=1)}\")\n",
    "print(f\"Mean along rows (dim=0):   {matrix.mean(dim=0)}\")\n",
    "print(f\"Max along columns (dim=1): {matrix.max(dim=1)}\")"
   ]
  },
  {
   "cell_type": "code",
   "execution_count": 39,
   "id": "26f2698e",
   "metadata": {},
   "outputs": [
    {
     "name": "stdout",
     "output_type": "stream",
     "text": [
      "🎪 Finding indices:\n",
      "Index of maximum element:     6\n",
      "Index of max in each row:     tensor([0, 2, 3])\n",
      "Index of max in each column:  tensor([2, 2, 1, 2])\n"
     ]
    }
   ],
   "source": [
    "# argmax and argmin\n",
    "print(\"🎪 Finding indices:\")\n",
    "print(f\"Index of maximum element:     {matrix.argmax()}\")\n",
    "print(f\"Index of max in each row:     {matrix.argmax(dim=1)}\")\n",
    "print(f\"Index of max in each column:  {matrix.argmax(dim=0)}\")"
   ]
  },
  {
   "cell_type": "code",
   "execution_count": 40,
   "id": "13da2c60",
   "metadata": {},
   "outputs": [
    {
     "name": "stdout",
     "output_type": "stream",
     "text": [
      "📏 Keeping dimensions with keepdim=True:\n",
      "Original shape:        torch.Size([3, 4])\n",
      "Sum (keepdim=True):    torch.Size([3, 1]) → tensor([0.9303, 0.2610, 2.0733])\n",
      "Sum (keepdim=False):   torch.Size([3]) → tensor([0.9303, 0.2610, 2.0733])\n"
     ]
    }
   ],
   "source": [
    "# keepdim parameter\n",
    "print(\"📏 Keeping dimensions with keepdim=True:\")\n",
    "sum_keepdim = matrix.sum(dim=1, keepdim=True)\n",
    "sum_no_keepdim = matrix.sum(dim=1, keepdim=False)\n",
    "print(f\"Original shape:        {matrix.shape}\")\n",
    "print(f\"Sum (keepdim=True):    {sum_keepdim.shape} → {sum_keepdim.squeeze()}\")\n",
    "print(f\"Sum (keepdim=False):   {sum_no_keepdim.shape} → {sum_no_keepdim}\")"
   ]
  },
  {
   "cell_type": "markdown",
   "id": "18f4eafd",
   "metadata": {},
   "source": [
    "## Linear Algebra Operations 📐\n",
    "\n",
    "Linear algebra is the mathematical foundation of neural networks. Let's explore the key operations:\n"
   ]
  },
  {
   "cell_type": "code",
   "execution_count": 41,
   "id": "0f0e5c72",
   "metadata": {},
   "outputs": [
    {
     "name": "stdout",
     "output_type": "stream",
     "text": [
      "Matrix A (3x4):\n",
      "tensor([[ 0.3367,  0.1288,  0.2345,  0.2303],\n",
      "        [-1.1229, -0.1863,  2.2082, -0.6380],\n",
      "        [ 0.4617,  0.2674,  0.5349,  0.8094]])\n",
      "\n",
      "Matrix B (4x2):\n",
      "tensor([[ 1.1103, -1.6898],\n",
      "        [-0.9890,  0.9580],\n",
      "        [ 1.3221,  0.8172],\n",
      "        [-0.7658, -0.7506]])\n",
      "\n",
      "Vector v (4,): tensor([ 1.3525,  0.6863, -0.3278,  0.7950])\n",
      "\n",
      "🔢 Matrix Multiplication:\n",
      "A @ B (3x2):\n",
      "tensor([[ 0.3800, -0.4268],\n",
      "        [ 2.3457,  4.0023],\n",
      "        [ 0.3356, -0.6944]])\n",
      "\n",
      "A @ v (3,): tensor([ 0.6501, -2.8775,  1.2760])\n"
     ]
    }
   ],
   "source": [
    "# Create sample matrices\n",
    "torch.manual_seed(42)\n",
    "A = torch.randn(3, 4)\n",
    "B = torch.randn(4, 2)\n",
    "v = torch.randn(4)\n",
    "\n",
    "print(f\"Matrix A (3x4):\\n{A}\")\n",
    "print(f\"\\nMatrix B (4x2):\\n{B}\")\n",
    "print(f\"\\nVector v (4,): {v}\")\n",
    "\n",
    "print(\"\\n🔢 Matrix Multiplication:\")\n",
    "# Matrix-matrix multiplication\n",
    "AB = torch.matmul(A, B)  # or A @ B\n",
    "print(f\"A @ B (3x2):\\n{AB}\")\n",
    "\n",
    "# Matrix-vector multiplication\n",
    "Av = torch.matmul(A, v)  # or A @ v\n",
    "print(f\"\\nA @ v (3,): {Av}\")"
   ]
  },
  {
   "cell_type": "code",
   "execution_count": 42,
   "id": "4a6a6032",
   "metadata": {},
   "outputs": [
    {
     "name": "stdout",
     "output_type": "stream",
     "text": [
      "\n",
      "🎯 Different multiplication functions:\n",
      "torch.matmul(A, B):  torch.Size([3, 2])\n",
      "torch.mm(A, B):      torch.Size([3, 2])\n",
      "A @ B:               torch.Size([3, 2])\n",
      "torch.bmm for batches (batch matrix multiply)\n"
     ]
    }
   ],
   "source": [
    "# Different ways to do matrix multiplication\n",
    "print(\"\\n🎯 Different multiplication functions:\")\n",
    "print(f\"torch.matmul(A, B):  {torch.matmul(A, B).shape}\")\n",
    "print(f\"torch.mm(A, B):      {torch.mm(A, B).shape}\")\n",
    "print(f\"A @ B:               {(A @ B).shape}\")\n",
    "print(f\"torch.bmm for batches (batch matrix multiply)\")"
   ]
  },
  {
   "cell_type": "code",
   "execution_count": 43,
   "id": "55ca8e4d",
   "metadata": {},
   "outputs": [
    {
     "name": "stdout",
     "output_type": "stream",
     "text": [
      "\n",
      "📍 Dot Product:\n",
      "u: tensor([1., 2., 3.])\n",
      "w: tensor([4., 5., 6.])\n",
      "torch.dot(u, w): 32.0\n",
      "Manual: (u * w).sum(): 32.0\n",
      "Geometric meaning: |u| * |w| * cos(θ) = 3.7416574954986572 * 8.774964332580566 * cos(θ)\n"
     ]
    }
   ],
   "source": [
    "# Dot product\n",
    "print(\"\\n📍 Dot Product:\")\n",
    "u = torch.tensor([1.0, 2.0, 3.0])\n",
    "w = torch.tensor([4.0, 5.0, 6.0])\n",
    "dot_product = torch.dot(u, w)\n",
    "manual_dot = (u * w).sum()\n",
    "print(f\"u: {u}\")\n",
    "print(f\"w: {w}\")\n",
    "print(f\"torch.dot(u, w): {dot_product}\")\n",
    "print(f\"Manual: (u * w).sum(): {manual_dot}\")\n",
    "print(\n",
    "    f\"Geometric meaning: |u| * |w| * cos(θ) = {torch.norm(u)} * {torch.norm(w)} * cos(θ)\"\n",
    ")"
   ]
  },
  {
   "cell_type": "code",
   "execution_count": 44,
   "id": "df7eb789",
   "metadata": {},
   "outputs": [
    {
     "name": "stdout",
     "output_type": "stream",
     "text": [
      "\n",
      "🔄 Transpose Operations:\n",
      "A.T (transpose):\n",
      "tensor([[ 0.3367, -1.1229,  0.4617],\n",
      "        [ 0.1288, -0.1863,  0.2674],\n",
      "        [ 0.2345,  2.2082,  0.5349],\n",
      "        [ 0.2303, -0.6380,  0.8094]])\n",
      "A.transpose(0, 1) (same as A.T):\n",
      "tensor([[ 0.3367, -1.1229,  0.4617],\n",
      "        [ 0.1288, -0.1863,  0.2674],\n",
      "        [ 0.2345,  2.2082,  0.5349],\n",
      "        [ 0.2303, -0.6380,  0.8094]])\n"
     ]
    }
   ],
   "source": [
    "# Transpose operations\n",
    "print(\"\\n🔄 Transpose Operations:\")\n",
    "print(f\"A.T (transpose):\\n{A.T}\")\n",
    "print(f\"A.transpose(0, 1) (same as A.T):\\n{A.transpose(0, 1)}\")"
   ]
  },
  {
   "cell_type": "code",
   "execution_count": 45,
   "id": "dc0a9982",
   "metadata": {},
   "outputs": [
    {
     "name": "stdout",
     "output_type": "stream",
     "text": [
      "\n",
      "📏 Vector and Matrix Norms:\n",
      "L2 norm of v: 1.744\n",
      "L1 norm of v: 3.162\n",
      "Max norm of v: 1.353\n",
      "Frobenius norm of A: 2.836\n"
     ]
    }
   ],
   "source": [
    "# Norms\n",
    "print(\"\\n📏 Vector and Matrix Norms:\")\n",
    "print(f\"L2 norm of v: {torch.norm(v):.3f}\")\n",
    "print(f\"L1 norm of v: {torch.norm(v, p=1):.3f}\")\n",
    "print(f\"Max norm of v: {torch.norm(v, p=float('inf')):.3f}\")\n",
    "print(f\"Frobenius norm of A: {torch.norm(A, p='fro'):.3f}\")"
   ]
  },
  {
   "cell_type": "code",
   "execution_count": 46,
   "id": "ad9b0f07",
   "metadata": {},
   "outputs": [
    {
     "name": "stdout",
     "output_type": "stream",
     "text": [
      "\n",
      "🌟 Eigendecomposition (square matrix):\n",
      "Symmetric matrix (3x3):\n",
      "tensor([[ 0.5630, -0.1822,  0.5142],\n",
      "        [-0.1822, -0.0998,  1.2554],\n",
      "        [ 0.5142,  1.2554,  0.2663]])\n",
      "Eigenvalues: tensor([-1.3074,  0.5935,  1.4435])\n",
      "Eigenvectors shape: torch.Size([3, 3])\n"
     ]
    }
   ],
   "source": [
    "# Eigenvalues and eigenvectors (for square matrices)\n",
    "print(\"\\n🌟 Eigendecomposition (square matrix):\")\n",
    "square_matrix = torch.randn(3, 3)\n",
    "symmetric_matrix = square_matrix + square_matrix.T  # Make it symmetric\n",
    "eigenvalues, eigenvectors = torch.linalg.eigh(symmetric_matrix)\n",
    "print(f\"Symmetric matrix (3x3):\\n{symmetric_matrix}\")\n",
    "print(f\"Eigenvalues: {eigenvalues}\")\n",
    "print(f\"Eigenvectors shape: {eigenvectors.shape}\")"
   ]
  },
  {
   "cell_type": "markdown",
   "id": "9ff8136c",
   "metadata": {},
   "source": [
    "## Performance and Memory Optimization ⚡\n",
    "\n",
    "Understanding performance is crucial for building efficient neural networks. Let's explore optimization techniques:\n"
   ]
  },
  {
   "cell_type": "code",
   "execution_count": 47,
   "id": "8d3b95a2",
   "metadata": {},
   "outputs": [
    {
     "name": "stdout",
     "output_type": "stream",
     "text": [
      "⚡ Performance and Memory Optimization\n",
      "========================================\n",
      "🔄 In-place vs Non-in-place Operations:\n",
      "Non-in-place (a + b):     0.000529 seconds\n",
      "In-place (a += b):        0.000197 seconds\n",
      "Memory saved: Creates no new tensor with in-place operations\n",
      "\n",
      "💾 Memory Management:\n",
      "Large tensor shape: torch.Size([1000, 1000, 100])\n",
      "Memory usage: 381.5 MB\n",
      "\n",
      "👀 Views vs Copies:\n",
      "Original: 5772821888\n",
      "View:     5772821888 (same memory!)\n",
      "Copy:     5413998912 (different memory)\n",
      "\n",
      "After modifying view[0,0] = 999:\n",
      "Original[0,0]: 999 (also changed!)\n",
      "Copy[0,0]:     0 (unchanged)\n",
      "\n",
      "📐 Contiguous Tensors:\n",
      "Original is contiguous:   True\n",
      "Transposed is contiguous: False\n",
      "Make contiguous:          True\n",
      "\n",
      "🚀 Vectorization vs Loops:\n",
      "Vectorized:  0.000026 seconds\n",
      "Loop:        0.031547 seconds\n",
      "Speedup:     1213.9x faster with vectorization!\n"
     ]
    },
    {
     "data": {
      "image/png": "[encoded data removed]",
      "text/plain": [
       "<Figure size 1000x600 with 1 Axes>"
      ]
     },
     "metadata": {},
     "output_type": "display_data"
    },
    {
     "name": "stdout",
     "output_type": "stream",
     "text": [
      "\n",
      "💡 Performance Tips:\n",
      "   ✅ Use in-place operations when possible (but be careful with gradients!)\n",
      "   ✅ Prefer views over copies\n",
      "   ✅ Keep tensors contiguous\n",
      "   ✅ Always vectorize instead of loops\n",
      "   ✅ Use appropriate data types (float16 vs float32)\n",
      "   ✅ Move tensors to GPU for large computations\n"
     ]
    }
   ],
   "source": [
    "print(\"⚡ Performance and Memory Optimization\")\n",
    "print(\"=\" * 40)\n",
    "\n",
    "# In-place operations\n",
    "print(\"🔄 In-place vs Non-in-place Operations:\")\n",
    "a = torch.randn(1000, 1000)\n",
    "b = torch.randn(1000, 1000)\n",
    "\n",
    "# Non-in-place (creates new tensor)\n",
    "start_time = time.time()\n",
    "c = a + b  # Creates new tensor\n",
    "non_inplace_time = time.time() - start_time\n",
    "\n",
    "# In-place (modifies existing tensor)\n",
    "a_copy = a.clone()\n",
    "start_time = time.time()\n",
    "a_copy += b  # Modifies a_copy in place\n",
    "inplace_time = time.time() - start_time\n",
    "\n",
    "print(f\"Non-in-place (a + b):     {non_inplace_time:.6f} seconds\")\n",
    "print(f\"In-place (a += b):        {inplace_time:.6f} seconds\")\n",
    "print(f\"Memory saved: Creates no new tensor with in-place operations\")\n",
    "\n",
    "print(\"\\n💾 Memory Management:\")\n",
    "# Check memory usage\n",
    "large_tensor = torch.randn(1000, 1000, 100)\n",
    "memory_mb = large_tensor.numel() * large_tensor.element_size() / (1024**2)\n",
    "print(f\"Large tensor shape: {large_tensor.shape}\")\n",
    "print(f\"Memory usage: {memory_mb:.1f} MB\")\n",
    "\n",
    "# Views vs copies\n",
    "print(\"\\n👀 Views vs Copies:\")\n",
    "original = torch.arange(12).reshape(3, 4)\n",
    "view = original.view(2, 6)  # Same memory\n",
    "copy = original.clone()  # New memory\n",
    "\n",
    "print(f\"Original: {original.untyped_storage().data_ptr()}\")\n",
    "print(f\"View:     {view.untyped_storage().data_ptr()} (same memory!)\")\n",
    "print(f\"Copy:     {copy.untyped_storage().data_ptr()} (different memory)\")\n",
    "\n",
    "# Demonstrate view modification\n",
    "view[0, 0] = 999\n",
    "print(f\"\\nAfter modifying view[0,0] = 999:\")\n",
    "print(f\"Original[0,0]: {original[0,0]} (also changed!)\")\n",
    "print(f\"Copy[0,0]:     {copy[0,0]} (unchanged)\")\n",
    "\n",
    "# Contiguous tensors\n",
    "print(\"\\n📐 Contiguous Tensors:\")\n",
    "tensor = torch.randn(3, 4)\n",
    "transposed = tensor.T\n",
    "print(f\"Original is contiguous:   {tensor.is_contiguous()}\")\n",
    "print(f\"Transposed is contiguous: {transposed.is_contiguous()}\")\n",
    "print(f\"Make contiguous:          {transposed.contiguous().is_contiguous()}\")\n",
    "\n",
    "# Vectorization vs loops\n",
    "print(\"\\n🚀 Vectorization vs Loops:\")\n",
    "x = torch.randn(10000)\n",
    "y = torch.randn(10000)\n",
    "\n",
    "# Vectorized operation\n",
    "start_time = time.time()\n",
    "result_vectorized = x * y\n",
    "vectorized_time = time.time() - start_time\n",
    "\n",
    "# Loop operation (don't do this!)\n",
    "start_time = time.time()\n",
    "result_loop = torch.zeros_like(x)\n",
    "for i in range(len(x)):\n",
    "    result_loop[i] = x[i] * y[i]\n",
    "loop_time = time.time() - start_time\n",
    "\n",
    "print(f\"Vectorized:  {vectorized_time:.6f} seconds\")\n",
    "print(f\"Loop:        {loop_time:.6f} seconds\")\n",
    "print(f\"Speedup:     {loop_time/vectorized_time:.1f}x faster with vectorization!\")\n",
    "\n",
    "# Visualize performance comparison\n",
    "operations = [\"Non-inplace\", \"In-place\", \"Vectorized\", \"Loop\"]\n",
    "times = [non_inplace_time, inplace_time, vectorized_time, loop_time]\n",
    "colors = [\"red\", \"green\", \"blue\", \"orange\"]\n",
    "\n",
    "plt.figure(figsize=(10, 6))\n",
    "bars = plt.bar(operations, times, color=colors, alpha=0.7)\n",
    "plt.yscale(\"log\")  # Log scale because of big differences\n",
    "plt.ylabel(\"Time (seconds) - Log Scale\")\n",
    "plt.title(\"Performance Comparison of Different Operations\", fontweight=\"bold\")\n",
    "\n",
    "# Add value labels on bars\n",
    "for bar, time in zip(bars, times):\n",
    "    plt.text(\n",
    "        bar.get_x() + bar.get_width() / 2,\n",
    "        bar.get_height() * 1.1,\n",
    "        f\"{time:.6f}s\",\n",
    "        ha=\"center\",\n",
    "        va=\"bottom\",\n",
    "        fontweight=\"bold\",\n",
    "    )\n",
    "\n",
    "plt.grid(True, alpha=0.3)\n",
    "plt.show()\n",
    "\n",
    "print(\"\\n💡 Performance Tips:\")\n",
    "print(\"   ✅ Use in-place operations when possible (but be careful with gradients!)\")\n",
    "print(\"   ✅ Prefer views over copies\")\n",
    "print(\"   ✅ Keep tensors contiguous\")\n",
    "print(\"   ✅ Always vectorize instead of loops\")\n",
    "print(\"   ✅ Use appropriate data types (float16 vs float32)\")\n",
    "print(\"   ✅ Move tensors to GPU for large computations\")"
   ]
  },
  {
   "cell_type": "markdown",
   "id": "5dff2521",
   "metadata": {},
   "source": [
    "## Real-world Application: Image Processing 🖼️\n",
    "\n",
    "Let's apply our tensor operations knowledge to a real-world scenario - processing images!\n"
   ]
  },
  {
   "cell_type": "code",
   "execution_count": 48,
   "id": "3fabc2d6",
   "metadata": {},
   "outputs": [
    {
     "name": "stdout",
     "output_type": "stream",
     "text": [
      "🖼️ Real-world Application: Image Processing\n",
      "============================================\n",
      "Image shape: torch.Size([3, 32, 32]) (channels, height, width)\n",
      "Image value range: [0.00, 1.00]\n",
      "\n",
      "🛠️ Image Processing Operations:\n",
      "Grayscale conversion: torch.Size([3, 32, 32]) → torch.Size([32, 32])\n",
      "Brightness adjustment: multiply by 1.3, clamp to [0,1]\n",
      "Contrast adjustment: enhance differences from mean\n",
      "Horizontal flip: reverse width dimension\n",
      "Blur: 3x3 averaging filter\n"
     ]
    },
    {
     "data": {
      "image/png": "[encoded data removed]",
      "text/plain": [
       "<Figure size 1500x1000 with 6 Axes>"
      ]
     },
     "metadata": {},
     "output_type": "display_data"
    },
    {
     "name": "stdout",
     "output_type": "stream",
     "text": [
      "\n",
      "🧮 Tensor Operations Used:\n",
      "   🎨 Grayscale: Broadcasting multiplication + sum reduction\n",
      "   ☀️ Brightness: Element-wise multiplication + clamp\n",
      "   🌓 Contrast: Element-wise operations with mean\n",
      "   🔄 Flip: torch.flip() along specific dimension\n",
      "   🌫️ Blur: Windowed mean operations\n",
      "\n",
      "💡 Why This Matters for Neural Networks:\n",
      "   📊 Images are just 3D tensors (channels × height × width)\n",
      "   🧠 CNNs apply similar operations with learnable filters\n",
      "   ⚡ All operations are differentiable for backpropagation\n",
      "   🎯 Data augmentation uses these transformations\n"
     ]
    }
   ],
   "source": [
    "print(\"🖼️ Real-world Application: Image Processing\")\n",
    "print(\"=\" * 44)\n",
    "\n",
    "# Create a synthetic image (3 channels, 64x64 pixels)\n",
    "torch.manual_seed(42)\n",
    "# Simulate an RGB image\n",
    "height, width = 32, 32\n",
    "image = torch.zeros(3, height, width)\n",
    "\n",
    "# Create a simple pattern\n",
    "# Red channel: horizontal gradient\n",
    "for i in range(height):\n",
    "    image[0, i, :] = torch.linspace(0, 1, width)\n",
    "\n",
    "# Green channel: vertical gradient\n",
    "for j in range(width):\n",
    "    image[1, :, j] = torch.linspace(0, 1, height)\n",
    "\n",
    "# Blue channel: circular pattern\n",
    "center_y, center_x = height // 2, width // 2\n",
    "for i in range(height):\n",
    "    for j in range(width):\n",
    "        distance = ((i - center_y) ** 2 + (j - center_x) ** 2) ** 0.5\n",
    "        image[2, i, j] = 1 - min(distance / (height // 2), 1)\n",
    "\n",
    "print(f\"Image shape: {image.shape} (channels, height, width)\")\n",
    "print(f\"Image value range: [{image.min():.2f}, {image.max():.2f}]\")\n",
    "\n",
    "# Common image operations using tensor operations\n",
    "print(\"\\n🛠️ Image Processing Operations:\")\n",
    "\n",
    "# 1. Convert to grayscale\n",
    "# Standard RGB to grayscale conversion: 0.299*R + 0.587*G + 0.114*B\n",
    "rgb_weights = torch.tensor([0.299, 0.587, 0.114]).view(3, 1, 1)\n",
    "grayscale = (image * rgb_weights).sum(dim=0)\n",
    "print(f\"Grayscale conversion: {image.shape} → {grayscale.shape}\")\n",
    "\n",
    "# 2. Brightness adjustment\n",
    "brightness_factor = 1.3\n",
    "bright_image = torch.clamp(image * brightness_factor, 0, 1)\n",
    "print(f\"Brightness adjustment: multiply by {brightness_factor}, clamp to [0,1]\")\n",
    "\n",
    "# 3. Contrast adjustment\n",
    "contrast_factor = 1.5\n",
    "mean_val = image.mean()\n",
    "contrast_image = torch.clamp((image - mean_val) * contrast_factor + mean_val, 0, 1)\n",
    "print(f\"Contrast adjustment: enhance differences from mean\")\n",
    "\n",
    "# 4. Horizontal flip\n",
    "flipped_image = torch.flip(image, dims=[2])  # Flip along width dimension\n",
    "print(f\"Horizontal flip: reverse width dimension\")\n",
    "\n",
    "# 5. Simple blur (average pooling)\n",
    "# Create a 3x3 averaging kernel\n",
    "kernel_size = 3\n",
    "pad = kernel_size // 2\n",
    "padded_image = torch.nn.functional.pad(image, (pad, pad, pad, pad), mode=\"reflect\")\n",
    "blurred_image = torch.zeros_like(image)\n",
    "\n",
    "for i in range(height):\n",
    "    for j in range(width):\n",
    "        # Extract 3x3 patch and take mean\n",
    "        patch = padded_image[:, i : i + kernel_size, j : j + kernel_size]\n",
    "        blurred_image[:, i, j] = patch.mean(dim=(1, 2))\n",
    "\n",
    "print(f\"Blur: 3x3 averaging filter\")\n",
    "\n",
    "# Visualize all operations\n",
    "fig, axes = plt.subplots(2, 3, figsize=(15, 10))\n",
    "\n",
    "# Original image\n",
    "original_rgb = image.permute(1, 2, 0).numpy()  # Convert to HWC format\n",
    "axes[0, 0].imshow(original_rgb)\n",
    "axes[0, 0].set_title(\"Original RGB Image\", fontweight=\"bold\")\n",
    "axes[0, 0].axis(\"off\")\n",
    "\n",
    "# Grayscale\n",
    "axes[0, 1].imshow(grayscale.numpy(), cmap=\"gray\")\n",
    "axes[0, 1].set_title(\"Grayscale Conversion\", fontweight=\"bold\")\n",
    "axes[0, 1].axis(\"off\")\n",
    "\n",
    "# Bright image\n",
    "bright_rgb = bright_image.permute(1, 2, 0).numpy()\n",
    "axes[0, 2].imshow(bright_rgb)\n",
    "axes[0, 2].set_title(\"Brightness +30%\", fontweight=\"bold\")\n",
    "axes[0, 2].axis(\"off\")\n",
    "\n",
    "# Contrast image\n",
    "contrast_rgb = contrast_image.permute(1, 2, 0).numpy()\n",
    "axes[1, 0].imshow(contrast_rgb)\n",
    "axes[1, 0].set_title(\"Enhanced Contrast\", fontweight=\"bold\")\n",
    "axes[1, 0].axis(\"off\")\n",
    "\n",
    "# Flipped image\n",
    "flipped_rgb = flipped_image.permute(1, 2, 0).numpy()\n",
    "axes[1, 1].imshow(flipped_rgb)\n",
    "axes[1, 1].set_title(\"Horizontally Flipped\", fontweight=\"bold\")\n",
    "axes[1, 1].axis(\"off\")\n",
    "\n",
    "# Blurred image\n",
    "blurred_rgb = blurred_image.permute(1, 2, 0).numpy()\n",
    "axes[1, 2].imshow(blurred_rgb)\n",
    "axes[1, 2].set_title(\"Blurred (3x3 avg)\", fontweight=\"bold\")\n",
    "axes[1, 2].axis(\"off\")\n",
    "\n",
    "plt.tight_layout()\n",
    "plt.show()\n",
    "\n",
    "# Show tensor operations used\n",
    "print(\"\\n🧮 Tensor Operations Used:\")\n",
    "print(\"   🎨 Grayscale: Broadcasting multiplication + sum reduction\")\n",
    "print(\"   ☀️ Brightness: Element-wise multiplication + clamp\")\n",
    "print(\"   🌓 Contrast: Element-wise operations with mean\")\n",
    "print(\"   🔄 Flip: torch.flip() along specific dimension\")\n",
    "print(\"   🌫️ Blur: Windowed mean operations\")\n",
    "\n",
    "print(\"\\n💡 Why This Matters for Neural Networks:\")\n",
    "print(\"   📊 Images are just 3D tensors (channels × height × width)\")\n",
    "print(\"   🧠 CNNs apply similar operations with learnable filters\")\n",
    "print(\"   ⚡ All operations are differentiable for backpropagation\")\n",
    "print(\"   🎯 Data augmentation uses these transformations\")"
   ]
  },
  {
   "cell_type": "markdown",
   "id": "4d84c7ed",
   "metadata": {},
   "source": [
    "## Advanced Operations and Tips 🚀\n",
    "\n",
    "Let's explore some advanced tensor operations that you'll encounter in complex neural networks:\n"
   ]
  },
  {
   "cell_type": "code",
   "execution_count": 49,
   "id": "a92741fb",
   "metadata": {},
   "outputs": [
    {
     "name": "stdout",
     "output_type": "stream",
     "text": [
      "🚀 Advanced Tensor Operations\n",
      "===============================\n",
      "📦 Batched Operations (crucial for training):\n",
      "Batch shape: torch.Size([4, 6, 8]) (batch, sequence, features)\n",
      "Mean across batch: torch.Size([6, 8])\n",
      "Mean across sequence: torch.Size([4, 8])\n",
      "Mean across features: torch.Size([4, 6])\n",
      "\n",
      "🎯 Advanced Indexing Techniques:\n",
      "Original data (5x4):\n",
      "tensor([[ 1.7744, -0.9216,  0.9624, -0.3370],\n",
      "        [ 0.1543,  0.4408, -0.1483, -2.3184],\n",
      "        [ 1.3032,  0.4879,  1.1340, -0.3556],\n",
      "        [ 0.3094, -0.5003,  1.0350,  1.6896],\n",
      "        [ 0.0213, -0.8293, -1.0809, -0.7839]])\n",
      "\n",
      "Selected rows [0, 2, 4], cols [1, 3]:\n",
      "tensor([[-0.9216, -0.3370],\n",
      "        [ 0.4879, -0.3556],\n",
      "        [-0.8293, -0.7839]])\n",
      "\n",
      "Positive values: tensor([1.7744, 0.9624, 0.1543, 0.4408, 1.3032, 0.4879, 1.1340, 0.3094, 1.0350,\n",
      "        1.6896, 0.0213])\n",
      "Number of positive values: 11\n",
      "\n",
      "🔗 Concatenation and Stacking:\n",
      "Original tensors a and b (2x2 each)\n",
      "Concatenate dim=0 (vertical): torch.Size([4, 2])\n",
      "tensor([[1, 2],\n",
      "        [3, 4],\n",
      "        [5, 6],\n",
      "        [7, 8]])\n",
      "\n",
      "Concatenate dim=1 (horizontal): torch.Size([2, 4])\n",
      "tensor([[1, 2, 5, 6],\n",
      "        [3, 4, 7, 8]])\n",
      "\n",
      "Stack (new dim): torch.Size([2, 2, 2])\n",
      "tensor([[[1, 2],\n",
      "         [3, 4]],\n",
      "\n",
      "        [[5, 6],\n",
      "         [7, 8]]])\n",
      "\n",
      "📍 Gather and Scatter Operations:\n",
      "Source:\n",
      "tensor([[ 1,  2,  3,  4],\n",
      "        [ 5,  6,  7,  8],\n",
      "        [ 9, 10, 11, 12]])\n",
      "Indices:\n",
      "tensor([[0, 2],\n",
      "        [1, 3],\n",
      "        [2, 0]])\n",
      "Gathered:\n",
      "tensor([[ 1,  3],\n",
      "        [ 6,  8],\n",
      "        [11,  9]])\n",
      "\n",
      "🧠 Einstein Summation (einsum):\n",
      "Einsum matrix mult: torch.Size([3, 5])\n",
      "Are results equal? True\n",
      "Batch einsum: torch.Size([2, 3, 4]) × torch.Size([2, 4, 5]) → torch.Size([2, 3, 5])\n",
      "Trace using einsum: 0.22033226490020752\n",
      "\n",
      "💡 Advanced Tips:\n",
      "   🎯 Use torch.einsum for complex tensor operations\n",
      "   📦 Always think in batches for neural networks\n",
      "   🔍 Boolean masking is powerful for conditional operations\n",
      "   🔗 Cat vs stack: cat joins along existing dim, stack creates new dim\n",
      "   ⚡ Gather/scatter are efficient for sparse operations\n"
     ]
    }
   ],
   "source": [
    "print(\"🚀 Advanced Tensor Operations\")\n",
    "print(\"=\" * 31)\n",
    "\n",
    "# Batched operations\n",
    "print(\"📦 Batched Operations (crucial for training):\")\n",
    "batch_size = 4\n",
    "sequence_length = 6\n",
    "feature_dim = 8\n",
    "\n",
    "# Simulate a batch of sequences (like text or time series)\n",
    "batch_data = torch.randn(batch_size, sequence_length, feature_dim)\n",
    "print(f\"Batch shape: {batch_data.shape} (batch, sequence, features)\")\n",
    "\n",
    "# Operations across different dimensions\n",
    "batch_mean = batch_data.mean(dim=0)  # Average across batch\n",
    "sequence_mean = batch_data.mean(dim=1)  # Average across sequence\n",
    "feature_mean = batch_data.mean(dim=2)  # Average across features\n",
    "\n",
    "print(f\"Mean across batch: {batch_mean.shape}\")\n",
    "print(f\"Mean across sequence: {sequence_mean.shape}\")\n",
    "print(f\"Mean across features: {feature_mean.shape}\")\n",
    "\n",
    "# Advanced indexing\n",
    "print(\"\\n🎯 Advanced Indexing Techniques:\")\n",
    "data = torch.randn(5, 4)\n",
    "print(f\"Original data (5x4):\\n{data}\")\n",
    "\n",
    "# Select specific rows and columns\n",
    "row_indices = torch.tensor([0, 2, 4])\n",
    "col_indices = torch.tensor([1, 3])\n",
    "selected = data[row_indices][:, col_indices]\n",
    "print(\n",
    "    f\"\\nSelected rows {row_indices.tolist()}, cols {col_indices.tolist()}:\\n{selected}\"\n",
    ")\n",
    "\n",
    "# Boolean masking\n",
    "mask = data > 0\n",
    "positive_values = data[mask]\n",
    "print(f\"\\nPositive values: {positive_values}\")\n",
    "print(f\"Number of positive values: {mask.sum()}\")\n",
    "\n",
    "# Tensor concatenation and stacking\n",
    "print(\"\\n🔗 Concatenation and Stacking:\")\n",
    "a = torch.tensor([[1, 2], [3, 4]])\n",
    "b = torch.tensor([[5, 6], [7, 8]])\n",
    "\n",
    "# Concatenate\n",
    "cat_dim0 = torch.cat([a, b], dim=0)  # Stack vertically\n",
    "cat_dim1 = torch.cat([a, b], dim=1)  # Stack horizontally\n",
    "print(f\"Original tensors a and b (2x2 each)\")\n",
    "print(f\"Concatenate dim=0 (vertical): {cat_dim0.shape}\\n{cat_dim0}\")\n",
    "print(f\"\\nConcatenate dim=1 (horizontal): {cat_dim1.shape}\\n{cat_dim1}\")\n",
    "\n",
    "# Stack (creates new dimension)\n",
    "stacked = torch.stack([a, b], dim=0)\n",
    "print(f\"\\nStack (new dim): {stacked.shape}\\n{stacked}\")\n",
    "\n",
    "# Gather and scatter operations\n",
    "print(\"\\n📍 Gather and Scatter Operations:\")\n",
    "source = torch.tensor([[1, 2, 3, 4], [5, 6, 7, 8], [9, 10, 11, 12]])\n",
    "indices = torch.tensor([[0, 2], [1, 3], [2, 0]])\n",
    "\n",
    "gathered = torch.gather(source, 1, indices)\n",
    "print(f\"Source:\\n{source}\")\n",
    "print(f\"Indices:\\n{indices}\")\n",
    "print(f\"Gathered:\\n{gathered}\")\n",
    "\n",
    "# Einsum (Einstein summation) - very powerful!\n",
    "print(\"\\n🧠 Einstein Summation (einsum):\")\n",
    "A = torch.randn(3, 4)\n",
    "B = torch.randn(4, 5)\n",
    "\n",
    "# Matrix multiplication using einsum\n",
    "result_matmul = torch.einsum(\"ik,kj->ij\", A, B)\n",
    "result_normal = A @ B\n",
    "print(f\"Einsum matrix mult: {result_matmul.shape}\")\n",
    "print(f\"Are results equal? {torch.allclose(result_matmul, result_normal)}\")\n",
    "\n",
    "# Batch matrix multiplication\n",
    "batch_A = torch.randn(2, 3, 4)\n",
    "batch_B = torch.randn(2, 4, 5)\n",
    "batch_result = torch.einsum(\"bik,bkj->bij\", batch_A, batch_B)\n",
    "print(f\"Batch einsum: {batch_A.shape} × {batch_B.shape} → {batch_result.shape}\")\n",
    "\n",
    "# Trace (sum of diagonal elements)\n",
    "trace_result = torch.einsum(\"ii->\", torch.randn(4, 4))\n",
    "print(f\"Trace using einsum: {trace_result}\")\n",
    "\n",
    "print(\"\\n💡 Advanced Tips:\")\n",
    "print(\"   🎯 Use torch.einsum for complex tensor operations\")\n",
    "print(\"   📦 Always think in batches for neural networks\")\n",
    "print(\"   🔍 Boolean masking is powerful for conditional operations\")\n",
    "print(\"   🔗 Cat vs stack: cat joins along existing dim, stack creates new dim\")\n",
    "print(\"   ⚡ Gather/scatter are efficient for sparse operations\")"
   ]
  },
  {
   "cell_type": "markdown",
   "id": "c8353205",
   "metadata": {},
   "source": [
    "## Summary & What's Next 📝\n",
    "\n",
    "🎉 **Excellent work!** You've mastered advanced tensor operations and mathematics in PyTorch!\n",
    "\n",
    "### 🎯 What You Learned:\n",
    "\n",
    "1. **Broadcasting**:\n",
    "\n",
    "   - How operations work between tensors of different shapes\n",
    "   - Memory and performance benefits\n",
    "   - Real-world applications\n",
    "\n",
    "2. **Element-wise Operations**:\n",
    "\n",
    "   - Arithmetic, mathematical, and logical operations\n",
    "   - Comparison and boolean operations\n",
    "   - When and how to use each type\n",
    "\n",
    "3. **Reduction Operations**:\n",
    "\n",
    "   - Sum, mean, max, min across dimensions\n",
    "   - Understanding dimension collapse\n",
    "   - Statistical computations\n",
    "\n",
    "4. **Linear Algebra**:\n",
    "\n",
    "   - Matrix multiplication (the heart of neural networks!)\n",
    "   - Dot products and norms\n",
    "   - Transpose and other matrix operations\n",
    "\n",
    "5. **Performance Optimization**:\n",
    "\n",
    "   - In-place vs non-in-place operations\n",
    "   - Views vs copies\n",
    "   - Vectorization vs loops\n",
    "   - Memory management tips\n",
    "\n",
    "6. **Real-world Applications**:\n",
    "   - Image processing with tensors\n",
    "   - Advanced indexing and batched operations\n",
    "   - Einstein summation for complex operations\n",
    "\n",
    "### 🧠 Key Insights:\n",
    "\n",
    "- **Tensors are the universal language** of deep learning\n",
    "- **Matrix multiplication is fundamental** to neural networks\n",
    "- **Broadcasting makes operations efficient** and code clean\n",
    "- **Performance matters** - always vectorize and use appropriate operations\n",
    "- **Everything in neural networks** can be expressed as tensor operations\n",
    "\n",
    "### 🚀 What's Next?\n",
    "\n",
    "Now that you're a tensor operations expert, we'll move on to:\n",
    "\n",
    "- **Neural Network Theory**: Understanding how networks learn\n",
    "- **Building Networks**: From perceptrons to deep networks\n",
    "- **Automatic Differentiation**: How PyTorch computes gradients\n",
    "- **Training Loops**: Putting it all together\n",
    "\n",
    "**Ready to understand the theory behind neural networks? Let's continue to [03. Neural Network Theory](03_neural_network_theory.ipynb)!** 🧠\n"
   ]
  }
 ],
 "metadata": {
  "kernelspec": {
   "display_name": "venv",
   "language": "python",
   "name": "python3"
  },
  "language_info": {
   "codemirror_mode": {
    "name": "ipython",
    "version": 3
   },
   "file_extension": ".py",
   "mimetype": "text/x-python",
   "name": "python",
   "nbconvert_exporter": "python",
   "pygments_lexer": "ipython3",
   "version": "3.11.5"
  }
 },
 "nbformat": 4,
 "nbformat_minor": 5
}
