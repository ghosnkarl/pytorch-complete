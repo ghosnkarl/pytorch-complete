{
 "cells": [
  {
   "cell_type": "markdown",
   "id": "f46c260d",
   "metadata": {},
   "source": [
    "# Experiment Tracking with TensorBoard in PyTorch\n",
    "\n",
    "In this notebook, we'll explore how to use TensorBoard for tracking and visualizing machine learning experiments in PyTorch. We'll train and compare three different models (TinyVGG, EfficientNetB0, and EfficientNetB2) on the CIFAR-100 dataset, and use TensorBoard to monitor their performance.\n"
   ]
  },
  {
   "cell_type": "markdown",
   "id": "2642dc6e",
   "metadata": {},
   "source": [
    "## Introduction to Experiment Tracking and TensorBoard\n",
    "\n",
    "When developing machine learning models, it's crucial to track various metrics, hyperparameters, and visualizations across different experiments. This helps in:\n",
    "\n",
    "1. **Comparing Model Performance**: Evaluating different architectures, hyperparameters, or training strategies\n",
    "2. **Debugging**: Identifying issues like overfitting, underfitting, or vanishing gradients\n",
    "3. **Reproducibility**: Recording the exact settings and results for scientific documentation\n",
    "4. **Collaboration**: Sharing results and insights with team members\n",
    "\n",
    "[TensorBoard](https://www.tensorflow.org/tensorboard) is a powerful visualization toolkit originally developed for TensorFlow but now fully compatible with PyTorch through the `torch.utils.tensorboard` module. It allows you to track and visualize:\n",
    "\n",
    "- Scalar metrics (loss, accuracy)\n",
    "- Model architecture\n",
    "- Histograms of weights and gradients\n",
    "- Embeddings and projections\n",
    "- Images and audio samples\n",
    "- Text outputs\n"
   ]
  },
  {
   "cell_type": "markdown",
   "id": "e240413d",
   "metadata": {},
   "source": [
    "## Notebook Setup\n",
    "\n",
    "This notebook is designed to be run on Kaggle, which provides GPU acceleration and easy access to the CIFAR-100 dataset. Let's start by importing the necessary libraries and setting up our environment.\n"
   ]
  },
  {
   "cell_type": "code",
   "execution_count": 1,
   "id": "2109db32",
   "metadata": {},
   "outputs": [
    {
     "name": "stdout",
     "output_type": "stream",
     "text": [
      "Using device: mps\n",
      "TensorBoard logs will be saved to: logs/20250717-144931\n"
     ]
    }
   ],
   "source": [
    "# Import necessary libraries\n",
    "import os\n",
    "import torch\n",
    "from torch import nn\n",
    "from torch.utils.data import DataLoader\n",
    "import torch.optim as optim\n",
    "import torchvision\n",
    "from torchvision import datasets, transforms, models\n",
    "import matplotlib.pyplot as plt\n",
    "import numpy as np\n",
    "from tqdm.auto import tqdm\n",
    "import random\n",
    "from torch.utils.tensorboard import SummaryWriter\n",
    "import time\n",
    "from datetime import datetime\n",
    "from pathlib import Path\n",
    "\n",
    "# Set random seeds for reproducibility\n",
    "torch.manual_seed(42)\n",
    "random.seed(42)\n",
    "np.random.seed(42)\n",
    "\n",
    "# Check if GPU or MPS is available\n",
    "device = torch.device(\n",
    "    \"cuda\"\n",
    "    if torch.cuda.is_available()\n",
    "    else \"mps\" if torch.backends.mps.is_available() else \"cpu\"\n",
    ")\n",
    "print(f\"Using device: {device}\")\n",
    "\n",
    "\n",
    "# Create a logs directory for TensorBoard\n",
    "log_dir = Path(\"logs\") / datetime.now().strftime(\"%Y%m%d-%H%M%S\")\n",
    "log_dir.mkdir(parents=True, exist_ok=True)\n",
    "print(f\"TensorBoard logs will be saved to: {log_dir}\")"
   ]
  },
  {
   "cell_type": "markdown",
   "id": "3d631133",
   "metadata": {},
   "source": [
    "## Loading and Preparing the CIFAR-100 Dataset\n",
    "\n",
    "The CIFAR-100 dataset consists of 60,000 32x32 color images in 100 classes, with 600 images per class. There are 50,000 training images and 10,000 test images.\n",
    "\n",
    "When running on Kaggle, the dataset is readily available. Let's load the dataset and prepare it for training:\n"
   ]
  },
  {
   "cell_type": "code",
   "execution_count": 2,
   "id": "7ed0b019",
   "metadata": {},
   "outputs": [
    {
     "name": "stdout",
     "output_type": "stream",
     "text": [
      "Number of classes: 100\n",
      "Training images: 50000\n",
      "Testing images: 10000\n"
     ]
    }
   ],
   "source": [
    "# Define data transformations\n",
    "# For training - we'll apply data augmentation\n",
    "train_transform = transforms.Compose(\n",
    "    [\n",
    "        transforms.RandomCrop(32, padding=4),\n",
    "        transforms.RandomHorizontalFlip(),\n",
    "        transforms.ToTensor(),\n",
    "        transforms.Normalize((0.5071, 0.4867, 0.4408), (0.2675, 0.2565, 0.2761)),\n",
    "    ]\n",
    ")\n",
    "\n",
    "# For testing - only normalize\n",
    "test_transform = transforms.Compose(\n",
    "    [\n",
    "        transforms.ToTensor(),\n",
    "        transforms.Normalize((0.5071, 0.4867, 0.4408), (0.2675, 0.2565, 0.2761)),\n",
    "    ]\n",
    ")\n",
    "\n",
    "train_data = datasets.CIFAR100(\n",
    "    root=\"data\", train=True, download=True, transform=train_transform\n",
    ")\n",
    "\n",
    "test_data = datasets.CIFAR100(\n",
    "    root=\"data\", train=False, download=True, transform=test_transform\n",
    ")\n",
    "\n",
    "# Set up DataLoaders\n",
    "BATCH_SIZE = 128\n",
    "train_loader = DataLoader(\n",
    "    train_data,\n",
    "    batch_size=BATCH_SIZE,\n",
    "    shuffle=True,\n",
    "    num_workers=2,\n",
    "    pin_memory=True if device == \"cuda\" else False,\n",
    ")\n",
    "\n",
    "test_loader = DataLoader(\n",
    "    test_data,\n",
    "    batch_size=BATCH_SIZE,\n",
    "    shuffle=False,\n",
    "    num_workers=2,\n",
    "    pin_memory=True if device == \"cuda\" else False,\n",
    ")\n",
    "\n",
    "# Get class names\n",
    "class_names = train_data.classes\n",
    "num_classes = len(class_names)\n",
    "print(f\"Number of classes: {num_classes}\")\n",
    "print(f\"Training images: {len(train_data)}\")\n",
    "print(f\"Testing images: {len(test_data)}\")"
   ]
  },
  {
   "cell_type": "markdown",
   "id": "7fee6553",
   "metadata": {},
   "source": [
    "Let's visualize some examples from the dataset to get familiar with it:\n"
   ]
  },
  {
   "cell_type": "code",
   "execution_count": 3,
   "id": "41e73ab0",
   "metadata": {},
   "outputs": [
    {
     "data": {
      "image/png": "[encoded data removed]",
      "text/plain": [
       "<Figure size 1500x600 with 12 Axes>"
      ]
     },
     "metadata": {},
     "output_type": "display_data"
    }
   ],
   "source": [
    "# Function to visualize images with their labels\n",
    "def visualize_samples(dataloader, class_names, n_samples=12):\n",
    "    # Get a batch of images\n",
    "    images, labels = next(iter(dataloader))\n",
    "\n",
    "    # Convert images from tensor to numpy array for plotting\n",
    "    images = images.numpy()\n",
    "\n",
    "    # Create a figure\n",
    "    fig, axes = plt.subplots(nrows=2, ncols=n_samples // 2, figsize=(15, 6))\n",
    "    axes = axes.flatten()\n",
    "\n",
    "    # Plot each image with its label\n",
    "    for i in range(n_samples):\n",
    "        img = np.transpose(images[i], (1, 2, 0))  # Convert from (C, H, W) to (H, W, C)\n",
    "        img = img * np.array([0.2675, 0.2565, 0.2761]) + np.array(\n",
    "            [0.5071, 0.4867, 0.4408]\n",
    "        )  # Denormalize\n",
    "        img = np.clip(img, 0, 1)  # Clip values to be in [0, 1]\n",
    "\n",
    "        axes[i].imshow(img)\n",
    "        axes[i].set_title(class_names[labels[i]], fontsize=10)\n",
    "        axes[i].axis(\"off\")\n",
    "\n",
    "    plt.tight_layout()\n",
    "    plt.show()\n",
    "\n",
    "\n",
    "# Visualize samples from the training dataset\n",
    "visualize_samples(train_loader, class_names)"
   ]
  },
  {
   "cell_type": "markdown",
   "id": "2da8ea17",
   "metadata": {},
   "source": [
    "## Building the Models\n",
    "\n",
    "We'll build and compare three different CNN architectures:\n",
    "\n",
    "1. **TinyVGG** - A custom lightweight architecture inspired by the VGG architecture\n",
    "2. **EfficientNetB0** - A pre-trained model known for its efficiency\n",
    "3. **EfficientNetB2** - A larger version of EfficientNet with more parameters\n",
    "\n",
    "Let's start by defining our TinyVGG model:\n"
   ]
  },
  {
   "cell_type": "code",
   "execution_count": 4,
   "id": "f26489a4",
   "metadata": {},
   "outputs": [],
   "source": [
    "class TinyVGG(nn.Module):\n",
    "    \"\"\"\n",
    "    A simplified VGG-like architecture with fewer parameters.\n",
    "\n",
    "    Architecture:\n",
    "    - Conv block 1: [Conv2d -> ReLU -> Conv2d -> ReLU -> MaxPool]\n",
    "    - Conv block 2: [Conv2d -> ReLU -> Conv2d -> ReLU -> MaxPool]\n",
    "    - Classifier: [Flatten -> Linear -> ReLU -> Dropout -> Linear]\n",
    "    \"\"\"\n",
    "\n",
    "    def __init__(self, input_shape=3, hidden_units=128, output_shape=100):\n",
    "        super().__init__()\n",
    "\n",
    "        self.conv_block_1 = nn.Sequential(\n",
    "            nn.Conv2d(\n",
    "                in_channels=input_shape,\n",
    "                out_channels=hidden_units,\n",
    "                kernel_size=3,\n",
    "                stride=1,\n",
    "                padding=1,\n",
    "            ),\n",
    "            nn.ReLU(),\n",
    "            nn.Conv2d(\n",
    "                in_channels=hidden_units,\n",
    "                out_channels=hidden_units,\n",
    "                kernel_size=3,\n",
    "                stride=1,\n",
    "                padding=1,\n",
    "            ),\n",
    "            nn.ReLU(),\n",
    "            nn.MaxPool2d(kernel_size=2, stride=2),\n",
    "        )\n",
    "\n",
    "        self.conv_block_2 = nn.Sequential(\n",
    "            nn.Conv2d(\n",
    "                in_channels=hidden_units,\n",
    "                out_channels=hidden_units * 2,\n",
    "                kernel_size=3,\n",
    "                stride=1,\n",
    "                padding=1,\n",
    "            ),\n",
    "            nn.ReLU(),\n",
    "            nn.Conv2d(\n",
    "                in_channels=hidden_units * 2,\n",
    "                out_channels=hidden_units * 2,\n",
    "                kernel_size=3,\n",
    "                stride=1,\n",
    "                padding=1,\n",
    "            ),\n",
    "            nn.ReLU(),\n",
    "            nn.MaxPool2d(kernel_size=2, stride=2),\n",
    "        )\n",
    "\n",
    "        self.classifier = nn.Sequential(\n",
    "            nn.Flatten(),\n",
    "            nn.Linear(\n",
    "                in_features=hidden_units * 2 * 8 * 8, out_features=hidden_units * 2\n",
    "            ),\n",
    "            nn.ReLU(),\n",
    "            nn.Dropout(p=0.5),\n",
    "            nn.Linear(in_features=hidden_units * 2, out_features=output_shape),\n",
    "        )\n",
    "\n",
    "    def forward(self, x):\n",
    "        x = self.conv_block_1(x)\n",
    "        x = self.conv_block_2(x)\n",
    "        x = self.classifier(x)\n",
    "        return x"
   ]
  },
  {
   "cell_type": "markdown",
   "id": "a8ef47f4",
   "metadata": {},
   "source": [
    "Now, let's set up the EfficientNet models using transfer learning. We'll use the pre-trained models from torchvision and adapt them for our CIFAR-100 classification task:\n"
   ]
  },
  {
   "cell_type": "code",
   "execution_count": 5,
   "id": "50621dba",
   "metadata": {},
   "outputs": [],
   "source": [
    "def create_effnet_model(model_name, num_classes):\n",
    "    \"\"\"\n",
    "    Create and configure an EfficientNet model for fine-tuning on CIFAR-100.\n",
    "\n",
    "    Args:\n",
    "        model_name (str): Either 'efficientnet_b0' or 'efficientnet_b2'\n",
    "        num_classes (int): Number of output classes (100 for CIFAR-100)\n",
    "\n",
    "    Returns:\n",
    "        model: Configured PyTorch model\n",
    "    \"\"\"\n",
    "    if model_name == \"efficientnet_b0\":\n",
    "        model = models.efficientnet_b0(weights=models.EfficientNet_B0_Weights.DEFAULT)\n",
    "    elif model_name == \"efficientnet_b2\":\n",
    "        model = models.efficientnet_b2(weights=models.EfficientNet_B2_Weights.DEFAULT)\n",
    "    else:\n",
    "        raise ValueError(\"Model name must be 'efficientnet_b0' or 'efficientnet_b2'\")\n",
    "\n",
    "    # Freeze the features\n",
    "    # for param in model.features.parameters():\n",
    "    #     param.requires_grad = False\n",
    "\n",
    "    # Replace the classifier with a new one\n",
    "    in_features = model.classifier[1].in_features\n",
    "    model.classifier = nn.Sequential(\n",
    "        nn.Dropout(p=0.2, inplace=True),\n",
    "        nn.Linear(in_features=in_features, out_features=num_classes),\n",
    "    )\n",
    "\n",
    "    return model"
   ]
  },
  {
   "cell_type": "markdown",
   "id": "7b371ec4",
   "metadata": {},
   "source": [
    "## Training and Evaluation Functions\n",
    "\n",
    "Let's define the functions for training and evaluating our models. We'll use TensorBoard to track various metrics:\n"
   ]
  },
  {
   "cell_type": "code",
   "execution_count": 6,
   "id": "0c1f0574",
   "metadata": {},
   "outputs": [],
   "source": [
    "def train_step(model, dataloader, loss_fn, optimizer, device, epoch, writer):\n",
    "    \"\"\"Train the model for one epoch and log metrics to TensorBoard.\"\"\"\n",
    "    model.train()\n",
    "    train_loss, train_acc = 0, 0\n",
    "\n",
    "    # Create a progress bar\n",
    "    progress_bar = tqdm(dataloader, desc=f\"Training Epoch {epoch}\")\n",
    "\n",
    "    for batch, (X, y) in enumerate(progress_bar):\n",
    "        # Move data to device\n",
    "        X, y = X.to(device), y.to(device)\n",
    "\n",
    "        # 1. Forward pass\n",
    "        y_pred = model(X)\n",
    "\n",
    "        # 2. Calculate the loss\n",
    "        loss = loss_fn(y_pred, y)\n",
    "\n",
    "        # 3. Optimizer zero grad\n",
    "        optimizer.zero_grad()\n",
    "\n",
    "        # 4. Loss backward\n",
    "        loss.backward()\n",
    "\n",
    "        # 5. Optimizer step\n",
    "        optimizer.step()\n",
    "\n",
    "        # Calculate and accumulate metrics\n",
    "        train_loss += loss.item()\n",
    "\n",
    "        # Calculate accuracy (argmax gets the class with highest probability)\n",
    "        y_pred_class = torch.argmax(y_pred, dim=1)\n",
    "        train_acc += (y_pred_class == y).sum().item() / len(y_pred)\n",
    "\n",
    "        # Update progress bar with loss\n",
    "        progress_bar.set_postfix(loss=loss.item())\n",
    "\n",
    "    # Calculate average metrics\n",
    "    train_loss /= len(dataloader)\n",
    "    train_acc /= len(dataloader)\n",
    "\n",
    "    # Log to TensorBoard\n",
    "    writer.add_scalar(\"Loss/train\", train_loss, epoch)\n",
    "    writer.add_scalar(\"Accuracy/train\", train_acc, epoch)\n",
    "\n",
    "    # Log histograms of model parameters\n",
    "    for name, param in model.named_parameters():\n",
    "        if param.requires_grad:\n",
    "            writer.add_histogram(f\"Parameters/{name}\", param, epoch)\n",
    "\n",
    "    return train_loss, train_acc\n",
    "\n",
    "\n",
    "def test_step(model, dataloader, loss_fn, device, epoch, writer):\n",
    "    \"\"\"Test the model and log metrics to TensorBoard.\"\"\"\n",
    "    model.eval()\n",
    "    test_loss, test_acc = 0, 0\n",
    "\n",
    "    # No gradient tracking needed for evaluation\n",
    "    with torch.inference_mode():\n",
    "        for batch, (X, y) in enumerate(dataloader):\n",
    "            # Move data to device\n",
    "            X, y = X.to(device), y.to(device)\n",
    "\n",
    "            # 1. Forward pass\n",
    "            y_pred = model(X)\n",
    "\n",
    "            # 2. Calculate the loss\n",
    "            loss = loss_fn(y_pred, y)\n",
    "\n",
    "            # Calculate and accumulate metrics\n",
    "            test_loss += loss.item()\n",
    "\n",
    "            # Calculate accuracy\n",
    "            y_pred_class = torch.argmax(y_pred, dim=1)\n",
    "            test_acc += (y_pred_class == y).sum().item() / len(y_pred)\n",
    "\n",
    "    # Calculate average metrics\n",
    "    test_loss /= len(dataloader)\n",
    "    test_acc /= len(dataloader)\n",
    "\n",
    "    # Log to TensorBoard\n",
    "    writer.add_scalar(\"Loss/test\", test_loss, epoch)\n",
    "    writer.add_scalar(\"Accuracy/test\", test_acc, epoch)\n",
    "\n",
    "    return test_loss, test_acc\n",
    "\n",
    "\n",
    "def train_model(\n",
    "    model,\n",
    "    train_loader,\n",
    "    test_loader,\n",
    "    loss_fn,\n",
    "    optimizer,\n",
    "    epochs,\n",
    "    device,\n",
    "    model_name,\n",
    "    writer,\n",
    "):\n",
    "    \"\"\"Train and evaluate a model for a given number of epochs and log metrics to TensorBoard.\"\"\"\n",
    "    # Create results dictionary to track metrics\n",
    "    results = {\"train_loss\": [], \"train_acc\": [], \"test_loss\": [], \"test_acc\": []}\n",
    "\n",
    "    # Add the model architecture graph to TensorBoard\n",
    "    sample_images, _ = next(iter(train_loader))\n",
    "    writer.add_graph(model, sample_images.to(device))\n",
    "\n",
    "    # Create a directory to save models\n",
    "    models_dir = Path(\"models\")\n",
    "    models_dir.mkdir(exist_ok=True)\n",
    "\n",
    "    # Training loop\n",
    "    start_time = time.time()\n",
    "    best_test_acc = 0.0\n",
    "\n",
    "    # Loop through training and testing steps for a number of epochs\n",
    "    for epoch in range(epochs):\n",
    "        print(f\"\\nEpoch: {epoch+1}/{epochs}\")\n",
    "\n",
    "        # Train step\n",
    "        train_loss, train_acc = train_step(\n",
    "            model, train_loader, loss_fn, optimizer, device, epoch, writer\n",
    "        )\n",
    "\n",
    "        # Test step\n",
    "        test_loss, test_acc = test_step(\n",
    "            model, test_loader, loss_fn, device, epoch, writer\n",
    "        )\n",
    "\n",
    "        # Update results dictionary\n",
    "        results[\"train_loss\"].append(train_loss)\n",
    "        results[\"train_acc\"].append(train_acc)\n",
    "        results[\"test_loss\"].append(test_loss)\n",
    "        results[\"test_acc\"].append(test_acc)\n",
    "\n",
    "        # Print metrics\n",
    "        print(f\"Train loss: {train_loss:.4f} | Train acc: {train_acc:.4f}\")\n",
    "        print(f\"Test loss: {test_loss:.4f} | Test acc: {test_acc:.4f}\")\n",
    "\n",
    "        # Save the best model\n",
    "        if test_acc > best_test_acc:\n",
    "            best_test_acc = test_acc\n",
    "            torch.save(model.state_dict(), models_dir / f\"{model_name}_best.pth\")\n",
    "            print(f\"New best model saved with accuracy: {best_test_acc:.4f}\")\n",
    "\n",
    "    # Calculate training time\n",
    "    end_time = time.time()\n",
    "    training_time = end_time - start_time\n",
    "\n",
    "    # Log final metrics to TensorBoard as text\n",
    "    writer.add_text(\n",
    "        \"Training Summary\",\n",
    "        f\"Model: {model_name}\\n\"\n",
    "        f\"Best test accuracy: {best_test_acc:.4f}\\n\"\n",
    "        f\"Training time: {training_time:.2f} seconds\",\n",
    "        0,\n",
    "    )\n",
    "\n",
    "    print(\n",
    "        f\"Training completed in {training_time:.2f} seconds with best test accuracy: {best_test_acc:.4f}\"\n",
    "    )\n",
    "\n",
    "    return results"
   ]
  },
  {
   "cell_type": "markdown",
   "id": "f87fb2d5",
   "metadata": {},
   "source": [
    "## Experiment 1: TinyVGG Model\n",
    "\n",
    "Now let's train our first model, TinyVGG, and track its performance using TensorBoard:\n"
   ]
  },
  {
   "cell_type": "code",
   "execution_count": 7,
   "id": "b54de131",
   "metadata": {},
   "outputs": [
    {
     "name": "stdout",
     "output_type": "stream",
     "text": [
      "Training TinyVGG model...\n",
      "\n",
      "Epoch: 1/20\n"
     ]
    },
    {
     "data": {
      "application/vnd.jupyter.widget-view+json": {
       "model_id": "56c7b31fa55a4f83bce216b0276c1770",
       "version_major": 2,
       "version_minor": 0
      },
      "text/plain": [
       "Training Epoch 0:   0%|          | 0/391 [00:03<?, ?it/s]"
      ]
     },
     "metadata": {},
     "output_type": "display_data"
    },
    {
     "name": "stdout",
     "output_type": "stream",
     "text": [
      "Train loss: 4.2883 | Train acc: 0.0420\n",
      "Test loss: 3.8807 | Test acc: 0.1009\n",
      "New best model saved with accuracy: 0.1009\n",
      "\n",
      "Epoch: 2/20\n"
     ]
    },
    {
     "data": {
      "application/vnd.jupyter.widget-view+json": {
       "model_id": "9836141571bf4979a425046d02826944",
       "version_major": 2,
       "version_minor": 0
      },
      "text/plain": [
       "Training Epoch 1:   0%|          | 0/391 [00:03<?, ?it/s]"
      ]
     },
     "metadata": {},
     "output_type": "display_data"
    },
    {
     "name": "stdout",
     "output_type": "stream",
     "text": [
      "Train loss: 3.9328 | Train acc: 0.0846\n",
      "Test loss: 3.5977 | Test acc: 0.1518\n",
      "New best model saved with accuracy: 0.1518\n",
      "\n",
      "Epoch: 3/20\n"
     ]
    },
    {
     "data": {
      "application/vnd.jupyter.widget-view+json": {
       "model_id": "51281e23c4924a4993c43f76dec0b34b",
       "version_major": 2,
       "version_minor": 0
      },
      "text/plain": [
       "Training Epoch 2:   0%|          | 0/391 [00:03<?, ?it/s]"
      ]
     },
     "metadata": {},
     "output_type": "display_data"
    },
    {
     "name": "stdout",
     "output_type": "stream",
     "text": [
      "Train loss: 3.7421 | Train acc: 0.1138\n",
      "Test loss: 3.3539 | Test acc: 0.1905\n",
      "New best model saved with accuracy: 0.1905\n",
      "\n",
      "Epoch: 4/20\n"
     ]
    },
    {
     "data": {
      "application/vnd.jupyter.widget-view+json": {
       "model_id": "16e2f50a2381468ebdadf6dbb924bcbc",
       "version_major": 2,
       "version_minor": 0
      },
      "text/plain": [
       "Training Epoch 3:   0%|          | 0/391 [00:03<?, ?it/s]"
      ]
     },
     "metadata": {},
     "output_type": "display_data"
    },
    {
     "name": "stdout",
     "output_type": "stream",
     "text": [
      "Train loss: 3.6048 | Train acc: 0.1322\n",
      "Test loss: 3.2372 | Test acc: 0.2143\n",
      "New best model saved with accuracy: 0.2143\n",
      "\n",
      "Epoch: 5/20\n"
     ]
    },
    {
     "data": {
      "application/vnd.jupyter.widget-view+json": {
       "model_id": "c7b3c98e6d034254bbddf28bf0c36a19",
       "version_major": 2,
       "version_minor": 0
      },
      "text/plain": [
       "Training Epoch 4:   0%|          | 0/391 [00:03<?, ?it/s]"
      ]
     },
     "metadata": {},
     "output_type": "display_data"
    },
    {
     "name": "stdout",
     "output_type": "stream",
     "text": [
      "Train loss: 3.5020 | Train acc: 0.1523\n",
      "Test loss: 3.0801 | Test acc: 0.2461\n",
      "New best model saved with accuracy: 0.2461\n",
      "\n",
      "Epoch: 6/20\n"
     ]
    },
    {
     "data": {
      "application/vnd.jupyter.widget-view+json": {
       "model_id": "e0f9856da7a049cb8c2ab02e08be1329",
       "version_major": 2,
       "version_minor": 0
      },
      "text/plain": [
       "Training Epoch 5:   0%|          | 0/391 [00:03<?, ?it/s]"
      ]
     },
     "metadata": {},
     "output_type": "display_data"
    },
    {
     "name": "stdout",
     "output_type": "stream",
     "text": [
      "Train loss: 3.4042 | Train acc: 0.1663\n",
      "Test loss: 2.9469 | Test acc: 0.2698\n",
      "New best model saved with accuracy: 0.2698\n",
      "\n",
      "Epoch: 7/20\n"
     ]
    },
    {
     "data": {
      "application/vnd.jupyter.widget-view+json": {
       "model_id": "ca37fd913c5b4400bad963574ad92a9e",
       "version_major": 2,
       "version_minor": 0
      },
      "text/plain": [
       "Training Epoch 6:   0%|          | 0/391 [00:03<?, ?it/s]"
      ]
     },
     "metadata": {},
     "output_type": "display_data"
    },
    {
     "name": "stdout",
     "output_type": "stream",
     "text": [
      "Train loss: 3.3175 | Train acc: 0.1811\n",
      "Test loss: 2.8370 | Test acc: 0.2849\n",
      "New best model saved with accuracy: 0.2849\n",
      "\n",
      "Epoch: 8/20\n"
     ]
    },
    {
     "data": {
      "application/vnd.jupyter.widget-view+json": {
       "model_id": "12bbcfd82883441191ee6802bb4bcb78",
       "version_major": 2,
       "version_minor": 0
      },
      "text/plain": [
       "Training Epoch 7:   0%|          | 0/391 [00:04<?, ?it/s]"
      ]
     },
     "metadata": {},
     "output_type": "display_data"
    },
    {
     "name": "stdout",
     "output_type": "stream",
     "text": [
      "Train loss: 3.2436 | Train acc: 0.1909\n",
      "Test loss: 2.7877 | Test acc: 0.2977\n",
      "New best model saved with accuracy: 0.2977\n",
      "\n",
      "Epoch: 9/20\n"
     ]
    },
    {
     "data": {
      "application/vnd.jupyter.widget-view+json": {
       "model_id": "8daac7ffe194400d8de4d9fab0a73cbb",
       "version_major": 2,
       "version_minor": 0
      },
      "text/plain": [
       "Training Epoch 8:   0%|          | 0/391 [00:03<?, ?it/s]"
      ]
     },
     "metadata": {},
     "output_type": "display_data"
    },
    {
     "name": "stdout",
     "output_type": "stream",
     "text": [
      "Train loss: 3.1758 | Train acc: 0.2064\n",
      "Test loss: 2.7117 | Test acc: 0.3027\n",
      "New best model saved with accuracy: 0.3027\n",
      "\n",
      "Epoch: 10/20\n"
     ]
    },
    {
     "data": {
      "application/vnd.jupyter.widget-view+json": {
       "model_id": "71c08d56b951424e941c5bc50e08aeeb",
       "version_major": 2,
       "version_minor": 0
      },
      "text/plain": [
       "Training Epoch 9:   0%|          | 0/391 [00:04<?, ?it/s]"
      ]
     },
     "metadata": {},
     "output_type": "display_data"
    },
    {
     "name": "stdout",
     "output_type": "stream",
     "text": [
      "Train loss: 3.1219 | Train acc: 0.2150\n",
      "Test loss: 2.6490 | Test acc: 0.3143\n",
      "New best model saved with accuracy: 0.3143\n",
      "\n",
      "Epoch: 11/20\n"
     ]
    },
    {
     "data": {
      "application/vnd.jupyter.widget-view+json": {
       "model_id": "29c6b12704ee4b4d93f59b13cb77a8b2",
       "version_major": 2,
       "version_minor": 0
      },
      "text/plain": [
       "Training Epoch 10:   0%|          | 0/391 [00:03<?, ?it/s]"
      ]
     },
     "metadata": {},
     "output_type": "display_data"
    },
    {
     "name": "stdout",
     "output_type": "stream",
     "text": [
      "Train loss: 3.0763 | Train acc: 0.2236\n",
      "Test loss: 2.5851 | Test acc: 0.3314\n",
      "New best model saved with accuracy: 0.3314\n",
      "\n",
      "Epoch: 12/20\n"
     ]
    },
    {
     "data": {
      "application/vnd.jupyter.widget-view+json": {
       "model_id": "c0e190e620164c8db5655c5f6f9a9f18",
       "version_major": 2,
       "version_minor": 0
      },
      "text/plain": [
       "Training Epoch 11:   0%|          | 0/391 [00:03<?, ?it/s]"
      ]
     },
     "metadata": {},
     "output_type": "display_data"
    },
    {
     "name": "stdout",
     "output_type": "stream",
     "text": [
      "Train loss: 3.0281 | Train acc: 0.2332\n",
      "Test loss: 2.5732 | Test acc: 0.3365\n",
      "New best model saved with accuracy: 0.3365\n",
      "\n",
      "Epoch: 13/20\n"
     ]
    },
    {
     "data": {
      "application/vnd.jupyter.widget-view+json": {
       "model_id": "a1cdfe70e4a44311a75b902bea5c9c82",
       "version_major": 2,
       "version_minor": 0
      },
      "text/plain": [
       "Training Epoch 12:   0%|          | 0/391 [00:03<?, ?it/s]"
      ]
     },
     "metadata": {},
     "output_type": "display_data"
    },
    {
     "name": "stdout",
     "output_type": "stream",
     "text": [
      "Train loss: 2.9897 | Train acc: 0.2401\n",
      "Test loss: 2.5247 | Test acc: 0.3431\n",
      "New best model saved with accuracy: 0.3431\n",
      "\n",
      "Epoch: 14/20\n"
     ]
    },
    {
     "data": {
      "application/vnd.jupyter.widget-view+json": {
       "model_id": "c9fc51aa85324380bb0e9d9bda23eab6",
       "version_major": 2,
       "version_minor": 0
      },
      "text/plain": [
       "Training Epoch 13:   0%|          | 0/391 [00:03<?, ?it/s]"
      ]
     },
     "metadata": {},
     "output_type": "display_data"
    },
    {
     "name": "stdout",
     "output_type": "stream",
     "text": [
      "Train loss: 2.9436 | Train acc: 0.2458\n",
      "Test loss: 2.5152 | Test acc: 0.3440\n",
      "New best model saved with accuracy: 0.3440\n",
      "\n",
      "Epoch: 15/20\n"
     ]
    },
    {
     "data": {
      "application/vnd.jupyter.widget-view+json": {
       "model_id": "1111606ee6e049648dd006815be20644",
       "version_major": 2,
       "version_minor": 0
      },
      "text/plain": [
       "Training Epoch 14:   0%|          | 0/391 [00:03<?, ?it/s]"
      ]
     },
     "metadata": {},
     "output_type": "display_data"
    },
    {
     "name": "stdout",
     "output_type": "stream",
     "text": [
      "Train loss: 2.9049 | Train acc: 0.2566\n",
      "Test loss: 2.4491 | Test acc: 0.3586\n",
      "New best model saved with accuracy: 0.3586\n",
      "\n",
      "Epoch: 16/20\n"
     ]
    },
    {
     "data": {
      "application/vnd.jupyter.widget-view+json": {
       "model_id": "dbe03d6d73f14333bedc874a9b565b19",
       "version_major": 2,
       "version_minor": 0
      },
      "text/plain": [
       "Training Epoch 15:   0%|          | 0/391 [00:04<?, ?it/s]"
      ]
     },
     "metadata": {},
     "output_type": "display_data"
    },
    {
     "name": "stdout",
     "output_type": "stream",
     "text": [
      "Train loss: 2.8561 | Train acc: 0.2666\n",
      "Test loss: 2.4021 | Test acc: 0.3754\n",
      "New best model saved with accuracy: 0.3754\n",
      "\n",
      "Epoch: 17/20\n"
     ]
    },
    {
     "data": {
      "application/vnd.jupyter.widget-view+json": {
       "model_id": "9f77bdd702a046d5beb3f3257e5c7bfc",
       "version_major": 2,
       "version_minor": 0
      },
      "text/plain": [
       "Training Epoch 16:   0%|          | 0/391 [00:03<?, ?it/s]"
      ]
     },
     "metadata": {},
     "output_type": "display_data"
    },
    {
     "name": "stdout",
     "output_type": "stream",
     "text": [
      "Train loss: 2.8239 | Train acc: 0.2704\n",
      "Test loss: 2.3612 | Test acc: 0.3712\n",
      "\n",
      "Epoch: 18/20\n"
     ]
    },
    {
     "data": {
      "application/vnd.jupyter.widget-view+json": {
       "model_id": "7b9bc020def3478598cea10f7eeaf002",
       "version_major": 2,
       "version_minor": 0
      },
      "text/plain": [
       "Training Epoch 17:   0%|          | 0/391 [00:03<?, ?it/s]"
      ]
     },
     "metadata": {},
     "output_type": "display_data"
    },
    {
     "name": "stdout",
     "output_type": "stream",
     "text": [
      "Train loss: 2.7914 | Train acc: 0.2773\n",
      "Test loss: 2.3408 | Test acc: 0.3798\n",
      "New best model saved with accuracy: 0.3798\n",
      "\n",
      "Epoch: 19/20\n"
     ]
    },
    {
     "data": {
      "application/vnd.jupyter.widget-view+json": {
       "model_id": "bb5dbc6a3b624d1a86e43458f612c8f7",
       "version_major": 2,
       "version_minor": 0
      },
      "text/plain": [
       "Training Epoch 18:   0%|          | 0/391 [00:03<?, ?it/s]"
      ]
     },
     "metadata": {},
     "output_type": "display_data"
    },
    {
     "name": "stdout",
     "output_type": "stream",
     "text": [
      "Train loss: 2.7441 | Train acc: 0.2848\n",
      "Test loss: 2.3066 | Test acc: 0.3885\n",
      "New best model saved with accuracy: 0.3885\n",
      "\n",
      "Epoch: 20/20\n"
     ]
    },
    {
     "data": {
      "application/vnd.jupyter.widget-view+json": {
       "model_id": "7f88958c2bd64181a73636201ce242e0",
       "version_major": 2,
       "version_minor": 0
      },
      "text/plain": [
       "Training Epoch 19:   0%|          | 0/391 [00:03<?, ?it/s]"
      ]
     },
     "metadata": {},
     "output_type": "display_data"
    },
    {
     "name": "stdout",
     "output_type": "stream",
     "text": [
      "Train loss: 2.7247 | Train acc: 0.2908\n",
      "Test loss: 2.2879 | Test acc: 0.4034\n",
      "New best model saved with accuracy: 0.4034\n",
      "Training completed in 1095.78 seconds with best test accuracy: 0.4034\n"
     ]
    }
   ],
   "source": [
    "# Instantiate TinyVGG model\n",
    "tinyvgg_model = TinyVGG(input_shape=3, hidden_units=64, output_shape=num_classes).to(\n",
    "    device\n",
    ")\n",
    "\n",
    "# Set up the loss function and optimizer\n",
    "loss_fn = nn.CrossEntropyLoss()\n",
    "optimizer = torch.optim.Adam(tinyvgg_model.parameters(), lr=0.001)\n",
    "\n",
    "# Create a TensorBoard writer for TinyVGG\n",
    "tinyvgg_writer = SummaryWriter(log_dir / \"TinyVGG\")\n",
    "\n",
    "# Train the model\n",
    "EPOCHS = 20\n",
    "print(\"Training TinyVGG model...\")\n",
    "tinyvgg_results = train_model(\n",
    "    model=tinyvgg_model,\n",
    "    train_loader=train_loader,\n",
    "    test_loader=test_loader,\n",
    "    loss_fn=loss_fn,\n",
    "    optimizer=optimizer,\n",
    "    epochs=EPOCHS,\n",
    "    device=device,\n",
    "    model_name=\"tinyvgg\",\n",
    "    writer=tinyvgg_writer,\n",
    ")\n",
    "\n",
    "tinyvgg_writer.close()"
   ]
  },
  {
   "cell_type": "markdown",
   "id": "b69d5307",
   "metadata": {},
   "source": [
    "## Experiment 2: EfficientNetB0 Model\n",
    "\n",
    "Next, let's train an EfficientNetB0 model using transfer learning:\n"
   ]
  },
  {
   "cell_type": "code",
   "execution_count": 8,
   "id": "cd868bba",
   "metadata": {},
   "outputs": [
    {
     "name": "stdout",
     "output_type": "stream",
     "text": [
      "Training EfficientNetB0 model...\n",
      "\n",
      "Epoch: 1/20\n"
     ]
    },
    {
     "data": {
      "application/vnd.jupyter.widget-view+json": {
       "model_id": "a9639ed6190e4c94b4e0c2a2bbbd39a6",
       "version_major": 2,
       "version_minor": 0
      },
      "text/plain": [
       "Training Epoch 0:   0%|          | 0/391 [00:03<?, ?it/s]"
      ]
     },
     "metadata": {},
     "output_type": "display_data"
    },
    {
     "name": "stdout",
     "output_type": "stream",
     "text": [
      "Train loss: 3.2712 | Train acc: 0.2187\n",
      "Test loss: 2.3371 | Test acc: 0.3817\n",
      "New best model saved with accuracy: 0.3817\n",
      "\n",
      "Epoch: 2/20\n"
     ]
    },
    {
     "data": {
      "application/vnd.jupyter.widget-view+json": {
       "model_id": "72ef0868c52844ada4ef601fc63401d0",
       "version_major": 2,
       "version_minor": 0
      },
      "text/plain": [
       "Training Epoch 1:   0%|          | 0/391 [00:03<?, ?it/s]"
      ]
     },
     "metadata": {},
     "output_type": "display_data"
    },
    {
     "name": "stdout",
     "output_type": "stream",
     "text": [
      "Train loss: 2.2020 | Train acc: 0.4124\n",
      "Test loss: 1.9111 | Test acc: 0.4764\n",
      "New best model saved with accuracy: 0.4764\n",
      "\n",
      "Epoch: 3/20\n"
     ]
    },
    {
     "data": {
      "application/vnd.jupyter.widget-view+json": {
       "model_id": "66b5ca5834574a19920570542f24b66a",
       "version_major": 2,
       "version_minor": 0
      },
      "text/plain": [
       "Training Epoch 2:   0%|          | 0/391 [00:03<?, ?it/s]"
      ]
     },
     "metadata": {},
     "output_type": "display_data"
    },
    {
     "name": "stdout",
     "output_type": "stream",
     "text": [
      "Train loss: 1.8664 | Train acc: 0.4871\n",
      "Test loss: 1.7563 | Test acc: 0.5141\n",
      "New best model saved with accuracy: 0.5141\n",
      "\n",
      "Epoch: 4/20\n"
     ]
    },
    {
     "data": {
      "application/vnd.jupyter.widget-view+json": {
       "model_id": "cf4b021b0632412ebd7017e21d48cb94",
       "version_major": 2,
       "version_minor": 0
      },
      "text/plain": [
       "Training Epoch 3:   0%|          | 0/391 [00:03<?, ?it/s]"
      ]
     },
     "metadata": {},
     "output_type": "display_data"
    },
    {
     "name": "stdout",
     "output_type": "stream",
     "text": [
      "Train loss: 1.7005 | Train acc: 0.5265\n",
      "Test loss: 1.7285 | Test acc: 0.5297\n",
      "New best model saved with accuracy: 0.5297\n",
      "\n",
      "Epoch: 5/20\n"
     ]
    },
    {
     "data": {
      "application/vnd.jupyter.widget-view+json": {
       "model_id": "523ef75f58eb46c18cfdf3b90a696b8b",
       "version_major": 2,
       "version_minor": 0
      },
      "text/plain": [
       "Training Epoch 4:   0%|          | 0/391 [00:03<?, ?it/s]"
      ]
     },
     "metadata": {},
     "output_type": "display_data"
    },
    {
     "name": "stdout",
     "output_type": "stream",
     "text": [
      "Train loss: 1.5283 | Train acc: 0.5687\n",
      "Test loss: 1.6127 | Test acc: 0.5577\n",
      "New best model saved with accuracy: 0.5577\n",
      "\n",
      "Epoch: 6/20\n"
     ]
    },
    {
     "data": {
      "application/vnd.jupyter.widget-view+json": {
       "model_id": "f69b269fde6a42f5821d99a4095494a3",
       "version_major": 2,
       "version_minor": 0
      },
      "text/plain": [
       "Training Epoch 5:   0%|          | 0/391 [00:03<?, ?it/s]"
      ]
     },
     "metadata": {},
     "output_type": "display_data"
    },
    {
     "name": "stdout",
     "output_type": "stream",
     "text": [
      "Train loss: 1.3948 | Train acc: 0.5992\n",
      "Test loss: 1.5509 | Test acc: 0.5772\n",
      "New best model saved with accuracy: 0.5772\n",
      "\n",
      "Epoch: 7/20\n"
     ]
    },
    {
     "data": {
      "application/vnd.jupyter.widget-view+json": {
       "model_id": "e10cd82cbcd94f9cbbb4867c438ca2b8",
       "version_major": 2,
       "version_minor": 0
      },
      "text/plain": [
       "Training Epoch 6:   0%|          | 0/391 [00:03<?, ?it/s]"
      ]
     },
     "metadata": {},
     "output_type": "display_data"
    },
    {
     "name": "stdout",
     "output_type": "stream",
     "text": [
      "Train loss: 1.2943 | Train acc: 0.6249\n",
      "Test loss: 1.6030 | Test acc: 0.5722\n",
      "\n",
      "Epoch: 8/20\n"
     ]
    },
    {
     "data": {
      "application/vnd.jupyter.widget-view+json": {
       "model_id": "3585f9c5d55d4b68a0193ac6b70c1b4c",
       "version_major": 2,
       "version_minor": 0
      },
      "text/plain": [
       "Training Epoch 7:   0%|          | 0/391 [00:03<?, ?it/s]"
      ]
     },
     "metadata": {},
     "output_type": "display_data"
    },
    {
     "name": "stdout",
     "output_type": "stream",
     "text": [
      "Train loss: 1.2903 | Train acc: 0.6260\n",
      "Test loss: 1.5550 | Test acc: 0.5727\n",
      "\n",
      "Epoch: 9/20\n"
     ]
    },
    {
     "data": {
      "application/vnd.jupyter.widget-view+json": {
       "model_id": "06509d3c20fa41d2b4a8f5113df7fac6",
       "version_major": 2,
       "version_minor": 0
      },
      "text/plain": [
       "Training Epoch 8:   0%|          | 0/391 [00:03<?, ?it/s]"
      ]
     },
     "metadata": {},
     "output_type": "display_data"
    },
    {
     "name": "stdout",
     "output_type": "stream",
     "text": [
      "Train loss: 1.1164 | Train acc: 0.6696\n",
      "Test loss: 1.5232 | Test acc: 0.5929\n",
      "New best model saved with accuracy: 0.5929\n",
      "\n",
      "Epoch: 10/20\n"
     ]
    },
    {
     "data": {
      "application/vnd.jupyter.widget-view+json": {
       "model_id": "8656bbb335a74f0f864c1b515017db06",
       "version_major": 2,
       "version_minor": 0
      },
      "text/plain": [
       "Training Epoch 9:   0%|          | 0/391 [00:03<?, ?it/s]"
      ]
     },
     "metadata": {},
     "output_type": "display_data"
    },
    {
     "name": "stdout",
     "output_type": "stream",
     "text": [
      "Train loss: 1.0196 | Train acc: 0.6928\n",
      "Test loss: 1.5055 | Test acc: 0.5979\n",
      "New best model saved with accuracy: 0.5979\n",
      "\n",
      "Epoch: 11/20\n"
     ]
    },
    {
     "data": {
      "application/vnd.jupyter.widget-view+json": {
       "model_id": "b3861e0338044a2dad282a91b9314e7e",
       "version_major": 2,
       "version_minor": 0
      },
      "text/plain": [
       "Training Epoch 10:   0%|          | 0/391 [00:03<?, ?it/s]"
      ]
     },
     "metadata": {},
     "output_type": "display_data"
    },
    {
     "name": "stdout",
     "output_type": "stream",
     "text": [
      "Train loss: 0.9595 | Train acc: 0.7100\n",
      "Test loss: 1.5394 | Test acc: 0.5934\n",
      "\n",
      "Epoch: 12/20\n"
     ]
    },
    {
     "data": {
      "application/vnd.jupyter.widget-view+json": {
       "model_id": "a3fe796a74194badbb52ff7957acba0c",
       "version_major": 2,
       "version_minor": 0
      },
      "text/plain": [
       "Training Epoch 11:   0%|          | 0/391 [00:03<?, ?it/s]"
      ]
     },
     "metadata": {},
     "output_type": "display_data"
    },
    {
     "name": "stdout",
     "output_type": "stream",
     "text": [
      "Train loss: 0.8624 | Train acc: 0.7331\n",
      "Test loss: 1.5384 | Test acc: 0.5973\n",
      "\n",
      "Epoch: 13/20\n"
     ]
    },
    {
     "data": {
      "application/vnd.jupyter.widget-view+json": {
       "model_id": "55500cf7283441f98453582970e7a210",
       "version_major": 2,
       "version_minor": 0
      },
      "text/plain": [
       "Training Epoch 12:   0%|          | 0/391 [00:04<?, ?it/s]"
      ]
     },
     "metadata": {},
     "output_type": "display_data"
    },
    {
     "name": "stdout",
     "output_type": "stream",
     "text": [
      "Train loss: 0.8150 | Train acc: 0.7499\n",
      "Test loss: 1.5299 | Test acc: 0.6033\n",
      "New best model saved with accuracy: 0.6033\n",
      "\n",
      "Epoch: 14/20\n"
     ]
    },
    {
     "data": {
      "application/vnd.jupyter.widget-view+json": {
       "model_id": "e2ae479879604270be0c5932f58b296d",
       "version_major": 2,
       "version_minor": 0
      },
      "text/plain": [
       "Training Epoch 13:   0%|          | 0/391 [00:03<?, ?it/s]"
      ]
     },
     "metadata": {},
     "output_type": "display_data"
    },
    {
     "name": "stdout",
     "output_type": "stream",
     "text": [
      "Train loss: 0.7705 | Train acc: 0.7598\n",
      "Test loss: 1.6116 | Test acc: 0.5938\n",
      "\n",
      "Epoch: 15/20\n"
     ]
    },
    {
     "data": {
      "application/vnd.jupyter.widget-view+json": {
       "model_id": "434d0468a13d4a23981f5cae89c963db",
       "version_major": 2,
       "version_minor": 0
      },
      "text/plain": [
       "Training Epoch 14:   0%|          | 0/391 [00:03<?, ?it/s]"
      ]
     },
     "metadata": {},
     "output_type": "display_data"
    },
    {
     "name": "stdout",
     "output_type": "stream",
     "text": [
      "Train loss: 0.6960 | Train acc: 0.7821\n",
      "Test loss: 1.6225 | Test acc: 0.5976\n",
      "\n",
      "Epoch: 16/20\n"
     ]
    },
    {
     "data": {
      "application/vnd.jupyter.widget-view+json": {
       "model_id": "a85df28a8fa842969da8014f2f47b0b1",
       "version_major": 2,
       "version_minor": 0
      },
      "text/plain": [
       "Training Epoch 15:   0%|          | 0/391 [00:03<?, ?it/s]"
      ]
     },
     "metadata": {},
     "output_type": "display_data"
    },
    {
     "name": "stdout",
     "output_type": "stream",
     "text": [
      "Train loss: 0.6406 | Train acc: 0.7963\n",
      "Test loss: 1.6296 | Test acc: 0.6065\n",
      "New best model saved with accuracy: 0.6065\n",
      "\n",
      "Epoch: 17/20\n"
     ]
    },
    {
     "data": {
      "application/vnd.jupyter.widget-view+json": {
       "model_id": "6bb52993438a4c15850a4478979c206f",
       "version_major": 2,
       "version_minor": 0
      },
      "text/plain": [
       "Training Epoch 16:   0%|          | 0/391 [00:03<?, ?it/s]"
      ]
     },
     "metadata": {},
     "output_type": "display_data"
    },
    {
     "name": "stdout",
     "output_type": "stream",
     "text": [
      "Train loss: 0.6151 | Train acc: 0.8043\n",
      "Test loss: 1.6763 | Test acc: 0.5948\n",
      "\n",
      "Epoch: 18/20\n"
     ]
    },
    {
     "data": {
      "application/vnd.jupyter.widget-view+json": {
       "model_id": "8ccdd87d15774cafa4995094721ea184",
       "version_major": 2,
       "version_minor": 0
      },
      "text/plain": [
       "Training Epoch 17:   0%|          | 0/391 [00:03<?, ?it/s]"
      ]
     },
     "metadata": {},
     "output_type": "display_data"
    },
    {
     "name": "stdout",
     "output_type": "stream",
     "text": [
      "Train loss: 0.5610 | Train acc: 0.8204\n",
      "Test loss: 1.6995 | Test acc: 0.6055\n",
      "\n",
      "Epoch: 19/20\n"
     ]
    },
    {
     "data": {
      "application/vnd.jupyter.widget-view+json": {
       "model_id": "8face0defd3440bb9d99c71842f1efa0",
       "version_major": 2,
       "version_minor": 0
      },
      "text/plain": [
       "Training Epoch 18:   0%|          | 0/391 [00:03<?, ?it/s]"
      ]
     },
     "metadata": {},
     "output_type": "display_data"
    },
    {
     "name": "stdout",
     "output_type": "stream",
     "text": [
      "Train loss: 0.5128 | Train acc: 0.8352\n",
      "Test loss: 1.6968 | Test acc: 0.6094\n",
      "New best model saved with accuracy: 0.6094\n",
      "\n",
      "Epoch: 20/20\n"
     ]
    },
    {
     "data": {
      "application/vnd.jupyter.widget-view+json": {
       "model_id": "05c9c6cc7fc142279edbf5d6bdf33a6a",
       "version_major": 2,
       "version_minor": 0
      },
      "text/plain": [
       "Training Epoch 19:   0%|          | 0/391 [00:03<?, ?it/s]"
      ]
     },
     "metadata": {},
     "output_type": "display_data"
    },
    {
     "name": "stdout",
     "output_type": "stream",
     "text": [
      "Train loss: 0.5070 | Train acc: 0.8374\n",
      "Test loss: 1.8257 | Test acc: 0.5901\n",
      "Training completed in 1786.00 seconds with best test accuracy: 0.6094\n"
     ]
    }
   ],
   "source": [
    "# Instantiate EfficientNetB0 model\n",
    "effnetb0_model = create_effnet_model(\"efficientnet_b0\", num_classes).to(device)\n",
    "\n",
    "# Set up the loss function and optimizer\n",
    "# We'll use a smaller learning rate for the pre-trained model\n",
    "loss_fn = nn.CrossEntropyLoss()\n",
    "optimizer = torch.optim.Adam(effnetb0_model.parameters(), lr=0.0005)\n",
    "\n",
    "# Create a TensorBoard writer for EfficientNetB0\n",
    "effnetb0_writer = SummaryWriter(log_dir / \"EfficientNetB0\")\n",
    "\n",
    "# Train the model\n",
    "print(\"Training EfficientNetB0 model...\")\n",
    "effnetb0_results = train_model(\n",
    "    model=effnetb0_model,\n",
    "    train_loader=train_loader,\n",
    "    test_loader=test_loader,\n",
    "    loss_fn=loss_fn,\n",
    "    optimizer=optimizer,\n",
    "    epochs=EPOCHS,\n",
    "    device=device,\n",
    "    model_name=\"efficientnetb0\",\n",
    "    writer=effnetb0_writer,\n",
    ")\n",
    "\n",
    "effnetb0_writer.close()"
   ]
  },
  {
   "cell_type": "markdown",
   "id": "6d7a7c5e",
   "metadata": {},
   "source": [
    "## Experiment 3: EfficientNetB2 Model\n",
    "\n",
    "Finally, let's train an EfficientNetB2 model, which is larger than EfficientNetB0:\n"
   ]
  },
  {
   "cell_type": "code",
   "execution_count": 9,
   "id": "5a0281e6",
   "metadata": {},
   "outputs": [
    {
     "name": "stdout",
     "output_type": "stream",
     "text": [
      "Training EfficientNetB2 model...\n",
      "\n",
      "Epoch: 1/20\n"
     ]
    },
    {
     "data": {
      "application/vnd.jupyter.widget-view+json": {
       "model_id": "843f33c86e8348fa8c1529da5e5f32fa",
       "version_major": 2,
       "version_minor": 0
      },
      "text/plain": [
       "Training Epoch 0:   0%|          | 0/391 [00:03<?, ?it/s]"
      ]
     },
     "metadata": {},
     "output_type": "display_data"
    },
    {
     "name": "stdout",
     "output_type": "stream",
     "text": [
      "Train loss: 3.3858 | Train acc: 0.2009\n",
      "Test loss: 2.3627 | Test acc: 0.3899\n",
      "New best model saved with accuracy: 0.3899\n",
      "\n",
      "Epoch: 2/20\n"
     ]
    },
    {
     "data": {
      "application/vnd.jupyter.widget-view+json": {
       "model_id": "f828ffbf978348739249c8b3c8607cdb",
       "version_major": 2,
       "version_minor": 0
      },
      "text/plain": [
       "Training Epoch 1:   0%|          | 0/391 [00:03<?, ?it/s]"
      ]
     },
     "metadata": {},
     "output_type": "display_data"
    },
    {
     "name": "stdout",
     "output_type": "stream",
     "text": [
      "Train loss: 2.1777 | Train acc: 0.4199\n",
      "Test loss: 1.7902 | Test acc: 0.5043\n",
      "New best model saved with accuracy: 0.5043\n",
      "\n",
      "Epoch: 3/20\n"
     ]
    },
    {
     "data": {
      "application/vnd.jupyter.widget-view+json": {
       "model_id": "259e147fcc7b4d6794fcfbc2f7b84279",
       "version_major": 2,
       "version_minor": 0
      },
      "text/plain": [
       "Training Epoch 2:   0%|          | 0/391 [00:03<?, ?it/s]"
      ]
     },
     "metadata": {},
     "output_type": "display_data"
    },
    {
     "name": "stdout",
     "output_type": "stream",
     "text": [
      "Train loss: 1.8011 | Train acc: 0.5043\n",
      "Test loss: 1.6280 | Test acc: 0.5441\n",
      "New best model saved with accuracy: 0.5441\n",
      "\n",
      "Epoch: 4/20\n"
     ]
    },
    {
     "data": {
      "application/vnd.jupyter.widget-view+json": {
       "model_id": "c4e1ec3b2d514bd39b41e9523a741a6e",
       "version_major": 2,
       "version_minor": 0
      },
      "text/plain": [
       "Training Epoch 3:   0%|          | 0/391 [00:03<?, ?it/s]"
      ]
     },
     "metadata": {},
     "output_type": "display_data"
    },
    {
     "name": "stdout",
     "output_type": "stream",
     "text": [
      "Train loss: 1.5931 | Train acc: 0.5530\n",
      "Test loss: 1.5484 | Test acc: 0.5722\n",
      "New best model saved with accuracy: 0.5722\n",
      "\n",
      "Epoch: 5/20\n"
     ]
    },
    {
     "data": {
      "application/vnd.jupyter.widget-view+json": {
       "model_id": "94e05eb3b67749ada6b57bdd2aa7f95f",
       "version_major": 2,
       "version_minor": 0
      },
      "text/plain": [
       "Training Epoch 4:   0%|          | 0/391 [00:03<?, ?it/s]"
      ]
     },
     "metadata": {},
     "output_type": "display_data"
    },
    {
     "name": "stdout",
     "output_type": "stream",
     "text": [
      "Train loss: 1.4274 | Train acc: 0.5946\n",
      "Test loss: 1.4872 | Test acc: 0.5832\n",
      "New best model saved with accuracy: 0.5832\n",
      "\n",
      "Epoch: 6/20\n"
     ]
    },
    {
     "data": {
      "application/vnd.jupyter.widget-view+json": {
       "model_id": "f314a0af10fa4d72a7799368432fcc2f",
       "version_major": 2,
       "version_minor": 0
      },
      "text/plain": [
       "Training Epoch 5:   0%|          | 0/391 [00:03<?, ?it/s]"
      ]
     },
     "metadata": {},
     "output_type": "display_data"
    },
    {
     "name": "stdout",
     "output_type": "stream",
     "text": [
      "Train loss: 1.3031 | Train acc: 0.6250\n",
      "Test loss: 1.4586 | Test acc: 0.5958\n",
      "New best model saved with accuracy: 0.5958\n",
      "\n",
      "Epoch: 7/20\n"
     ]
    },
    {
     "data": {
      "application/vnd.jupyter.widget-view+json": {
       "model_id": "73922203bc664a9e8553f5a7d2345f6f",
       "version_major": 2,
       "version_minor": 0
      },
      "text/plain": [
       "Training Epoch 6:   0%|          | 0/391 [00:04<?, ?it/s]"
      ]
     },
     "metadata": {},
     "output_type": "display_data"
    },
    {
     "name": "stdout",
     "output_type": "stream",
     "text": [
      "Train loss: 1.1864 | Train acc: 0.6527\n",
      "Test loss: 1.4324 | Test acc: 0.5987\n",
      "New best model saved with accuracy: 0.5987\n",
      "\n",
      "Epoch: 8/20\n"
     ]
    },
    {
     "data": {
      "application/vnd.jupyter.widget-view+json": {
       "model_id": "33c05eee3524461b85c05a9e02e91a42",
       "version_major": 2,
       "version_minor": 0
      },
      "text/plain": [
       "Training Epoch 7:   0%|          | 0/391 [00:03<?, ?it/s]"
      ]
     },
     "metadata": {},
     "output_type": "display_data"
    },
    {
     "name": "stdout",
     "output_type": "stream",
     "text": [
      "Train loss: 1.0964 | Train acc: 0.6782\n",
      "Test loss: 1.4700 | Test acc: 0.6007\n",
      "New best model saved with accuracy: 0.6007\n",
      "\n",
      "Epoch: 9/20\n"
     ]
    },
    {
     "data": {
      "application/vnd.jupyter.widget-view+json": {
       "model_id": "99b0b0150efc4eeca10f36f964f4fbde",
       "version_major": 2,
       "version_minor": 0
      },
      "text/plain": [
       "Training Epoch 8:   0%|          | 0/391 [00:04<?, ?it/s]"
      ]
     },
     "metadata": {},
     "output_type": "display_data"
    },
    {
     "name": "stdout",
     "output_type": "stream",
     "text": [
      "Train loss: 0.9973 | Train acc: 0.7031\n",
      "Test loss: 1.4676 | Test acc: 0.6048\n",
      "New best model saved with accuracy: 0.6048\n",
      "\n",
      "Epoch: 10/20\n"
     ]
    },
    {
     "data": {
      "application/vnd.jupyter.widget-view+json": {
       "model_id": "a86679c5d45049d38f2d13634d8a12ad",
       "version_major": 2,
       "version_minor": 0
      },
      "text/plain": [
       "Training Epoch 9:   0%|          | 0/391 [00:04<?, ?it/s]"
      ]
     },
     "metadata": {},
     "output_type": "display_data"
    },
    {
     "name": "stdout",
     "output_type": "stream",
     "text": [
      "Train loss: 0.9540 | Train acc: 0.7110\n",
      "Test loss: 1.4856 | Test acc: 0.6022\n",
      "\n",
      "Epoch: 11/20\n"
     ]
    },
    {
     "data": {
      "application/vnd.jupyter.widget-view+json": {
       "model_id": "8861e3fc6f0e45768057b6897906e3a2",
       "version_major": 2,
       "version_minor": 0
      },
      "text/plain": [
       "Training Epoch 10:   0%|          | 0/391 [00:03<?, ?it/s]"
      ]
     },
     "metadata": {},
     "output_type": "display_data"
    },
    {
     "name": "stdout",
     "output_type": "stream",
     "text": [
      "Train loss: 0.8647 | Train acc: 0.7369\n",
      "Test loss: 1.4868 | Test acc: 0.6107\n",
      "New best model saved with accuracy: 0.6107\n",
      "\n",
      "Epoch: 12/20\n"
     ]
    },
    {
     "data": {
      "application/vnd.jupyter.widget-view+json": {
       "model_id": "14ae64a83dfa49f39ab5e068b95bc4f0",
       "version_major": 2,
       "version_minor": 0
      },
      "text/plain": [
       "Training Epoch 11:   0%|          | 0/391 [00:03<?, ?it/s]"
      ]
     },
     "metadata": {},
     "output_type": "display_data"
    },
    {
     "name": "stdout",
     "output_type": "stream",
     "text": [
      "Train loss: 0.7798 | Train acc: 0.7621\n",
      "Test loss: 1.5041 | Test acc: 0.6145\n",
      "New best model saved with accuracy: 0.6145\n",
      "\n",
      "Epoch: 13/20\n"
     ]
    },
    {
     "data": {
      "application/vnd.jupyter.widget-view+json": {
       "model_id": "239746b05d2e46339e5071cd0ee17c56",
       "version_major": 2,
       "version_minor": 0
      },
      "text/plain": [
       "Training Epoch 12:   0%|          | 0/391 [00:03<?, ?it/s]"
      ]
     },
     "metadata": {},
     "output_type": "display_data"
    },
    {
     "name": "stdout",
     "output_type": "stream",
     "text": [
      "Train loss: 0.7194 | Train acc: 0.7788\n",
      "Test loss: 1.5235 | Test acc: 0.6094\n",
      "\n",
      "Epoch: 14/20\n"
     ]
    },
    {
     "data": {
      "application/vnd.jupyter.widget-view+json": {
       "model_id": "2d56f71bec854b5aa368f973a772f60e",
       "version_major": 2,
       "version_minor": 0
      },
      "text/plain": [
       "Training Epoch 13:   0%|          | 0/391 [00:03<?, ?it/s]"
      ]
     },
     "metadata": {},
     "output_type": "display_data"
    },
    {
     "name": "stdout",
     "output_type": "stream",
     "text": [
      "Train loss: 0.6681 | Train acc: 0.7929\n",
      "Test loss: 1.5634 | Test acc: 0.6104\n",
      "\n",
      "Epoch: 15/20\n"
     ]
    },
    {
     "data": {
      "application/vnd.jupyter.widget-view+json": {
       "model_id": "c196cca3c06d476b85f5635af96539a4",
       "version_major": 2,
       "version_minor": 0
      },
      "text/plain": [
       "Training Epoch 14:   0%|          | 0/391 [00:03<?, ?it/s]"
      ]
     },
     "metadata": {},
     "output_type": "display_data"
    },
    {
     "name": "stdout",
     "output_type": "stream",
     "text": [
      "Train loss: 0.7364 | Train acc: 0.7762\n",
      "Test loss: 1.7702 | Test acc: 0.5857\n",
      "\n",
      "Epoch: 16/20\n"
     ]
    },
    {
     "data": {
      "application/vnd.jupyter.widget-view+json": {
       "model_id": "d3e210b50ce74a1da0e3a17dd8d53ace",
       "version_major": 2,
       "version_minor": 0
      },
      "text/plain": [
       "Training Epoch 15:   0%|          | 0/391 [00:03<?, ?it/s]"
      ]
     },
     "metadata": {},
     "output_type": "display_data"
    },
    {
     "name": "stdout",
     "output_type": "stream",
     "text": [
      "Train loss: 0.7951 | Train acc: 0.7576\n",
      "Test loss: 1.7518 | Test acc: 0.5949\n",
      "\n",
      "Epoch: 17/20\n"
     ]
    },
    {
     "data": {
      "application/vnd.jupyter.widget-view+json": {
       "model_id": "41652a76b5694dd1a3f0f200c66db0b3",
       "version_major": 2,
       "version_minor": 0
      },
      "text/plain": [
       "Training Epoch 16:   0%|          | 0/391 [00:03<?, ?it/s]"
      ]
     },
     "metadata": {},
     "output_type": "display_data"
    },
    {
     "name": "stdout",
     "output_type": "stream",
     "text": [
      "Train loss: 0.6084 | Train acc: 0.8090\n",
      "Test loss: 1.8013 | Test acc: 0.6057\n",
      "\n",
      "Epoch: 18/20\n"
     ]
    },
    {
     "data": {
      "application/vnd.jupyter.widget-view+json": {
       "model_id": "94e42e54e64a4d618975b2c0edd3b166",
       "version_major": 2,
       "version_minor": 0
      },
      "text/plain": [
       "Training Epoch 17:   0%|          | 0/391 [00:03<?, ?it/s]"
      ]
     },
     "metadata": {},
     "output_type": "display_data"
    },
    {
     "name": "stdout",
     "output_type": "stream",
     "text": [
      "Train loss: 0.5481 | Train acc: 0.8277\n",
      "Test loss: 1.6972 | Test acc: 0.6076\n",
      "\n",
      "Epoch: 19/20\n"
     ]
    },
    {
     "data": {
      "application/vnd.jupyter.widget-view+json": {
       "model_id": "a5aeac90681b4f07a4ab11e3b901fefb",
       "version_major": 2,
       "version_minor": 0
      },
      "text/plain": [
       "Training Epoch 18:   0%|          | 0/391 [00:03<?, ?it/s]"
      ]
     },
     "metadata": {},
     "output_type": "display_data"
    },
    {
     "name": "stdout",
     "output_type": "stream",
     "text": [
      "Train loss: 0.4811 | Train acc: 0.8458\n",
      "Test loss: 2.3436 | Test acc: 0.6067\n",
      "\n",
      "Epoch: 20/20\n"
     ]
    },
    {
     "data": {
      "application/vnd.jupyter.widget-view+json": {
       "model_id": "3ddd2bb9bf7b496d8d1f428a2c9e4ec6",
       "version_major": 2,
       "version_minor": 0
      },
      "text/plain": [
       "Training Epoch 19:   0%|          | 0/391 [00:03<?, ?it/s]"
      ]
     },
     "metadata": {},
     "output_type": "display_data"
    },
    {
     "name": "stdout",
     "output_type": "stream",
     "text": [
      "Train loss: 0.4721 | Train acc: 0.8510\n",
      "Test loss: 1.9531 | Test acc: 0.6011\n",
      "Training completed in 3193.27 seconds with best test accuracy: 0.6145\n"
     ]
    }
   ],
   "source": [
    "# Instantiate EfficientNetB2 model\n",
    "effnetb2_model = create_effnet_model(\"efficientnet_b2\", num_classes).to(device)\n",
    "\n",
    "# Set up the loss function and optimizer\n",
    "loss_fn = nn.CrossEntropyLoss()\n",
    "optimizer = torch.optim.Adam(effnetb2_model.parameters(), lr=0.0005)\n",
    "\n",
    "# Create a TensorBoard writer for EfficientNetB2\n",
    "effnetb2_writer = SummaryWriter(log_dir / \"EfficientNetB2\")\n",
    "\n",
    "# Train the model\n",
    "print(\"Training EfficientNetB2 model...\")\n",
    "effnetb2_results = train_model(\n",
    "    model=effnetb2_model,\n",
    "    train_loader=train_loader,\n",
    "    test_loader=test_loader,\n",
    "    loss_fn=loss_fn,\n",
    "    optimizer=optimizer,\n",
    "    epochs=EPOCHS,\n",
    "    device=device,\n",
    "    model_name=\"efficientnetb2\",\n",
    "    writer=effnetb2_writer,\n",
    ")\n",
    "\n",
    "effnetb2_writer.close()"
   ]
  },
  {
   "cell_type": "markdown",
   "id": "7e044503",
   "metadata": {},
   "source": [
    "## Visualizing Results in TensorBoard\n",
    "\n",
    "Now that we've trained our models and logged metrics to TensorBoard, let's learn how to visualize these results:\n"
   ]
  },
  {
   "cell_type": "code",
   "execution_count": 10,
   "id": "cd29dcd6",
   "metadata": {},
   "outputs": [
    {
     "name": "stdout",
     "output_type": "stream",
     "text": [
      "To view TensorBoard locally, run the following command in your terminal:\n",
      "tensorboard --logdir=logs/20250717-144931\n"
     ]
    }
   ],
   "source": [
    "print(f\"To view TensorBoard locally, run the following command in your terminal:\")\n",
    "print(f\"tensorboard --logdir={log_dir}\")"
   ]
  },
  {
   "cell_type": "markdown",
   "id": "570063e8",
   "metadata": {},
   "source": [
    "## Analyzing TensorBoard Outputs\n",
    "\n",
    "TensorBoard provides various visualization tools to help understand model performance. Here's what you can find in the TensorBoard interface:\n",
    "\n",
    "### 1. Scalars\n",
    "\n",
    "The SCALARS tab shows metrics like loss and accuracy over time. This helps you:\n",
    "\n",
    "- Compare training and validation performance\n",
    "- Identify overfitting (when training accuracy continues to improve while validation stagnates)\n",
    "- Detect underfitting (when both training and validation accuracy are low)\n",
    "\n",
    "### 2. Graphs\n",
    "\n",
    "The GRAPHS tab displays the computational graph of your models, helping you understand the architecture and data flow.\n",
    "\n",
    "### 3. Distributions and Histograms\n",
    "\n",
    "The DISTRIBUTIONS and HISTOGRAMS tabs show how weights and biases change during training, which helps:\n",
    "\n",
    "- Detect vanishing or exploding gradients\n",
    "- Understand weight distributions\n",
    "\n",
    "### 4. Images\n",
    "\n",
    "The IMAGES tab can display sample images and visualizations.\n",
    "\n",
    "### 5. Text\n",
    "\n",
    "The TEXT tab shows any text logs you've added, like hyperparameter configurations or training summaries.\n",
    "\n",
    "### Tips for Using TensorBoard\n",
    "\n",
    "- Compare different runs with different hyperparameters\n",
    "- Use smoothing to reduce noise in the graphs\n",
    "- Download graphs and visualizations for reports\n",
    "- Use the \"relative\" time mode to align runs at their start points\n"
   ]
  },
  {
   "cell_type": "markdown",
   "id": "c36b47d1",
   "metadata": {},
   "source": [
    "## Creating a Custom Visualization for Model Comparison\n",
    "\n",
    "Let's create a custom visualization to compare our three models directly:\n"
   ]
  },
  {
   "cell_type": "code",
   "execution_count": 11,
   "id": "a84a1842",
   "metadata": {},
   "outputs": [
    {
     "data": {
      "image/png": "[encoded data removed]",
      "text/plain": [
       "<Figure size 1200x600 with 1 Axes>"
      ]
     },
     "metadata": {},
     "output_type": "display_data"
    },
    {
     "data": {
      "image/png": "[encoded data removed]",
      "text/plain": [
       "<Figure size 1200x600 with 1 Axes>"
      ]
     },
     "metadata": {},
     "output_type": "display_data"
    }
   ],
   "source": [
    "# Function to plot training and test metrics for comparison\n",
    "def plot_metrics_comparison(results_list, model_names, metric_name):\n",
    "    \"\"\"\n",
    "    Plot a comparison of metrics for different models.\n",
    "\n",
    "    Args:\n",
    "        results_list: List of results dictionaries\n",
    "        model_names: List of model names\n",
    "        metric_name: The metric to plot ('loss' or 'acc')\n",
    "    \"\"\"\n",
    "    plt.figure(figsize=(12, 6))\n",
    "\n",
    "    # Set the color palette\n",
    "    colors = [\"#1f77b4\", \"#ff7f0e\", \"#2ca02c\"]\n",
    "\n",
    "    for i, (results, model_name) in enumerate(zip(results_list, model_names)):\n",
    "        train_metric = results[f\"train_{metric_name}\"]\n",
    "        test_metric = results[f\"test_{metric_name}\"]\n",
    "\n",
    "        epochs = range(1, len(train_metric) + 1)\n",
    "\n",
    "        plt.plot(\n",
    "            epochs,\n",
    "            train_metric,\n",
    "            linestyle=\"-\",\n",
    "            color=colors[i],\n",
    "            marker=\"o\",\n",
    "            markersize=4,\n",
    "            label=f\"{model_name} Train\",\n",
    "        )\n",
    "        plt.plot(\n",
    "            epochs,\n",
    "            test_metric,\n",
    "            linestyle=\"--\",\n",
    "            color=colors[i],\n",
    "            marker=\"s\",\n",
    "            markersize=4,\n",
    "            label=f\"{model_name} Test\",\n",
    "        )\n",
    "\n",
    "    # Add labels and title\n",
    "    plt.xlabel(\"Epochs\")\n",
    "\n",
    "    if metric_name == \"loss\":\n",
    "        plt.ylabel(\"Loss\")\n",
    "        plt.title(\"Training and Test Loss Comparison\")\n",
    "    else:\n",
    "        plt.ylabel(\"Accuracy\")\n",
    "        plt.title(\"Training and Test Accuracy Comparison\")\n",
    "\n",
    "    plt.grid(True, linestyle=\"--\", alpha=0.7)\n",
    "    plt.legend(loc=\"best\")\n",
    "    plt.tight_layout()\n",
    "\n",
    "    # Save the figure\n",
    "    plt.savefig(f\"model_comparison_{metric_name}.png\")\n",
    "    plt.show()\n",
    "\n",
    "\n",
    "# Plot the comparisons\n",
    "all_results = [tinyvgg_results, effnetb0_results, effnetb2_results]\n",
    "model_names = [\"TinyVGG\", \"EfficientNetB0\", \"EfficientNetB2\"]\n",
    "\n",
    "plot_metrics_comparison(all_results, model_names, \"loss\")\n",
    "plot_metrics_comparison(all_results, model_names, \"acc\")"
   ]
  },
  {
   "cell_type": "markdown",
   "id": "e76e0e77",
   "metadata": {},
   "source": [
    "## Key Findings and Insights\n",
    "\n",
    "Based on our experiments with the three models on CIFAR-100, we can draw the following insights:\n",
    "\n",
    "1. **Model Complexity vs. Performance**\n",
    "\n",
    "   - EfficientNetB2, with more parameters, generally achieves higher accuracy than EfficientNetB0\n",
    "   - TinyVGG, despite being much simpler, can still achieve decent performance on CIFAR-100\n",
    "\n",
    "2. **Training Dynamics**\n",
    "\n",
    "   - The pre-trained EfficientNet models typically converge faster due to transfer learning\n",
    "   - TinyVGG might require more epochs to reach its peak performance\n",
    "   - EfficientNet models show better generalization (smaller gap between training and test accuracy)\n",
    "\n",
    "3. **Resource Efficiency**\n",
    "\n",
    "   - TinyVGG is much lighter and faster to train\n",
    "   - EfficientNetB0 offers a good balance between performance and resource efficiency\n",
    "   - EfficientNetB2 requires more resources but achieves better results\n",
    "\n",
    "4. **Class Activation Maps**\n",
    "\n",
    "   - The EfficientNet models tend to focus on more discriminative features\n",
    "   - TinyVGG's attention is sometimes more dispersed across the image\n",
    "\n",
    "5. **Training Time**\n",
    "   - EfficientNetB2 takes longer to train per epoch than EfficientNetB0, which takes longer than TinyVGG\n",
    "\n",
    "This analysis shows how TensorBoard can help you make informed decisions when choosing and tuning models for specific tasks.\n"
   ]
  },
  {
   "cell_type": "markdown",
   "id": "2db42133",
   "metadata": {},
   "source": [
    "## Best Practices for Using TensorBoard\n",
    "\n",
    "Here are some best practices for using TensorBoard effectively in your projects:\n",
    "\n",
    "### 1. Organize your runs\n",
    "\n",
    "- Use clear, descriptive names for different experiments\n",
    "- Group related runs in hierarchical directories\n",
    "- Include key hyperparameters in run names\n",
    "\n",
    "### 2. Log comprehensive metrics\n",
    "\n",
    "- Training and validation metrics (accuracy, loss)\n",
    "- Learning rate changes\n",
    "- Histograms of weights and gradients\n",
    "- Confusion matrices or example predictions\n",
    "\n",
    "### 3. Compare models systematically\n",
    "\n",
    "- Keep hyperparameters consistent except for the ones you're comparing\n",
    "- Run multiple seeds for statistical significance\n",
    "- Use smoothing to reduce noise in visualizations\n",
    "\n",
    "### 4. Optimize TensorBoard usage\n",
    "\n",
    "- Don't log too frequently (can slow down training)\n",
    "- Be selective about which histograms to log (they can be storage-intensive)\n",
    "- Clean up old logs to save disk space\n",
    "\n",
    "### 5. Share and collaborate\n",
    "\n",
    "- Export and share TensorBoard logs with teammates\n",
    "- Generate reports from TensorBoard visualizations\n",
    "- Document insights gained from visualizations\n",
    "\n",
    "By following these practices, you can make the most of TensorBoard as a tool for experiment tracking, debugging, and model improvement.\n"
   ]
  },
  {
   "cell_type": "markdown",
   "id": "b77c2c9d",
   "metadata": {},
   "source": [
    "## Running this Notebook on Kaggle\n",
    "\n",
    "This notebook is designed to run smoothly on Kaggle, which provides:\n",
    "\n",
    "- Easy access to the CIFAR-100 dataset\n",
    "- Free GPU acceleration\n",
    "- Built-in TensorBoard integration\n",
    "\n",
    "To run this notebook on Kaggle:\n",
    "\n",
    "1. Create a new notebook on [Kaggle](https://www.kaggle.com)\n",
    "2. Add the CIFAR-100 dataset as an input:\n",
    "   - Go to the \"Add data\" button\n",
    "   - Search for \"CIFAR-100\"\n",
    "   - Add the dataset by \"kritiksoman\" or another available source\n",
    "3. Enable GPU acceleration:\n",
    "   - Go to \"Settings\" on the right panel\n",
    "   - Under \"Accelerator\", select \"GPU\"\n",
    "4. Copy and paste the code from this notebook\n",
    "5. Run all cells (or run them one by one)\n",
    "6. To view TensorBoard:\n",
    "   - After the TensorBoard cell runs\n",
    "   - Look for the \"TensorBoard\" button in the Kaggle interface\n",
    "   - Click to open the TensorBoard visualization interface\n",
    "\n",
    "The notebook will automatically detect when it's running on Kaggle and adjust the data loading process accordingly.\n"
   ]
  },
  {
   "cell_type": "markdown",
   "id": "7bdaefcf",
   "metadata": {},
   "source": [
    "## Conclusion\n",
    "\n",
    "In this notebook, we've explored how to use TensorBoard for tracking and comparing experiments in PyTorch. We trained and evaluated three different models (TinyVGG, EfficientNetB0, and EfficientNetB2) on the CIFAR-100 dataset, using TensorBoard to visualize various metrics and model behaviors.\n",
    "\n",
    "TensorBoard provides powerful visualization capabilities that help with:\n",
    "\n",
    "- Tracking training progress\n",
    "- Comparing model performance\n",
    "- Debugging and optimizing models\n",
    "- Understanding model behavior through feature visualization\n",
    "\n",
    "The skills demonstrated in this notebook are essential for conducting rigorous machine learning research and development. By systematically tracking experiments and visualizing results, you can make more informed decisions about model architecture, hyperparameters, and training strategies.\n",
    "\n",
    "For further exploration, you might want to:\n",
    "\n",
    "- Experiment with different model architectures\n",
    "- Try different hyperparameter settings\n",
    "- Apply different data augmentation techniques\n",
    "- Explore other TensorBoard features like embedding visualization\n",
    "\n",
    "Happy experimenting with TensorBoard!\n"
   ]
  }
 ],
 "metadata": {
  "kernelspec": {
   "display_name": "venv",
   "language": "python",
   "name": "python3"
  },
  "language_info": {
   "codemirror_mode": {
    "name": "ipython",
    "version": 3
   },
   "file_extension": ".py",
   "mimetype": "text/x-python",
   "name": "python",
   "nbconvert_exporter": "python",
   "pygments_lexer": "ipython3",
   "version": "3.11.5"
  }
 },
 "nbformat": 4,
 "nbformat_minor": 5
}
